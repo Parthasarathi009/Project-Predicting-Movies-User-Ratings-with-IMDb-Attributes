{
  "nbformat": 4,
  "nbformat_minor": 0,
  "metadata": {
    "colab": {
      "name": "Movie Rating.ipynb",
      "provenance": [],
      "collapsed_sections": [],
      "authorship_tag": "ABX9TyO28PdiqnTGE3Ba6h9k7B85",
      "include_colab_link": true
    },
    "kernelspec": {
      "name": "python3",
      "display_name": "Python 3"
    },
    "accelerator": "GPU"
  },
  "cells": [
    {
      "cell_type": "markdown",
      "metadata": {
        "id": "view-in-github",
        "colab_type": "text"
      },
      "source": [
        "<a href=\"https://colab.research.google.com/github/Parthasarathi009/Project-Predicting-Movies-User-Ratings-with-IMDb-Attributes/blob/master/Movie_Rating.ipynb\" target=\"_parent\"><img src=\"https://colab.research.google.com/assets/colab-badge.svg\" alt=\"Open In Colab\"/></a>"
      ]
    },
    {
      "cell_type": "code",
      "metadata": {
        "id": "AJj2Bb0J7RyE",
        "colab_type": "code",
        "colab": {
          "base_uri": "https://localhost:8080/",
          "height": 34
        },
        "outputId": "6e988846-6b11-4be2-c0c0-1f8dee2749f8"
      },
      "source": [
        "#!pip install tensorflow-gpu\n",
        "import tensorflow as tf\n",
        "print(tf.__version__)\n",
        "\n",
        "from tensorflow import keras"
      ],
      "execution_count": null,
      "outputs": [
        {
          "output_type": "stream",
          "text": [
            "2.2.0\n"
          ],
          "name": "stdout"
        }
      ]
    },
    {
      "cell_type": "code",
      "metadata": {
        "id": "yq7rny6t9UJA",
        "colab_type": "code",
        "colab": {}
      },
      "source": [
        "import pandas as pd\n",
        "import numpy as np\n",
        "from numpy import median\n",
        "from sklearn.impute import SimpleImputer\n",
        "from sklearn.preprocessing import StandardScaler\n",
        "from sklearn.model_selection import train_test_split\n",
        "from scipy.stats import reciprocal\n",
        "from sklearn.model_selection import RandomizedSearchCV\n",
        "from sklearn.metrics import r2_score, mean_squared_error"
      ],
      "execution_count": null,
      "outputs": []
    },
    {
      "cell_type": "code",
      "metadata": {
        "id": "U4dZA9re_9Ih",
        "colab_type": "code",
        "colab": {
          "base_uri": "https://localhost:8080/",
          "height": 70
        },
        "outputId": "08643e3a-9d49-47ce-a442-7c1cdd39d403"
      },
      "source": [
        "import matplotlib.pyplot as plt\n",
        "import seaborn as sns\n",
        "\n",
        "%matplotlib inline\n",
        "sns.set_style(\"white\")\n",
        "pd.set_option('display.max_columns', 50)"
      ],
      "execution_count": null,
      "outputs": [
        {
          "output_type": "stream",
          "text": [
            "/usr/local/lib/python3.6/dist-packages/statsmodels/tools/_testing.py:19: FutureWarning: pandas.util.testing is deprecated. Use the functions in the public API at pandas.testing instead.\n",
            "  import pandas.util.testing as tm\n"
          ],
          "name": "stderr"
        }
      ]
    },
    {
      "cell_type": "code",
      "metadata": {
        "id": "bwYsXuqH9sou",
        "colab_type": "code",
        "colab": {}
      },
      "source": [
        "def load_data(filepath):\n",
        "  '''\n",
        "  Loads csv file (with header) from filepath\n",
        "  '''\n",
        "  return pd.read_csv(filepath)\n"
      ],
      "execution_count": null,
      "outputs": []
    },
    {
      "cell_type": "code",
      "metadata": {
        "id": "-SumSY809Ohu",
        "colab_type": "code",
        "colab": {
          "base_uri": "https://localhost:8080/",
          "height": 177
        },
        "outputId": "1ffabefa-cbb8-45bd-b89f-67ee68bda3c3"
      },
      "source": [
        "filepath='https://raw.githubusercontent.com/sundeepblue/movie_rating_prediction/master/movie_metadata.csv'\n",
        "\n",
        "dataset=load_data(filepath)\n",
        "dataset.head(2)"
      ],
      "execution_count": null,
      "outputs": [
        {
          "output_type": "execute_result",
          "data": {
            "text/html": [
              "<div>\n",
              "<style scoped>\n",
              "    .dataframe tbody tr th:only-of-type {\n",
              "        vertical-align: middle;\n",
              "    }\n",
              "\n",
              "    .dataframe tbody tr th {\n",
              "        vertical-align: top;\n",
              "    }\n",
              "\n",
              "    .dataframe thead th {\n",
              "        text-align: right;\n",
              "    }\n",
              "</style>\n",
              "<table border=\"1\" class=\"dataframe\">\n",
              "  <thead>\n",
              "    <tr style=\"text-align: right;\">\n",
              "      <th></th>\n",
              "      <th>color</th>\n",
              "      <th>director_name</th>\n",
              "      <th>num_critic_for_reviews</th>\n",
              "      <th>duration</th>\n",
              "      <th>director_facebook_likes</th>\n",
              "      <th>actor_3_facebook_likes</th>\n",
              "      <th>actor_2_name</th>\n",
              "      <th>actor_1_facebook_likes</th>\n",
              "      <th>gross</th>\n",
              "      <th>genres</th>\n",
              "      <th>actor_1_name</th>\n",
              "      <th>movie_title</th>\n",
              "      <th>num_voted_users</th>\n",
              "      <th>cast_total_facebook_likes</th>\n",
              "      <th>actor_3_name</th>\n",
              "      <th>facenumber_in_poster</th>\n",
              "      <th>plot_keywords</th>\n",
              "      <th>movie_imdb_link</th>\n",
              "      <th>num_user_for_reviews</th>\n",
              "      <th>language</th>\n",
              "      <th>country</th>\n",
              "      <th>content_rating</th>\n",
              "      <th>budget</th>\n",
              "      <th>title_year</th>\n",
              "      <th>actor_2_facebook_likes</th>\n",
              "      <th>imdb_score</th>\n",
              "      <th>aspect_ratio</th>\n",
              "      <th>movie_facebook_likes</th>\n",
              "    </tr>\n",
              "  </thead>\n",
              "  <tbody>\n",
              "    <tr>\n",
              "      <th>0</th>\n",
              "      <td>Color</td>\n",
              "      <td>James Cameron</td>\n",
              "      <td>723.0</td>\n",
              "      <td>178.0</td>\n",
              "      <td>0.0</td>\n",
              "      <td>855.0</td>\n",
              "      <td>Joel David Moore</td>\n",
              "      <td>1000.0</td>\n",
              "      <td>760505847.0</td>\n",
              "      <td>Action|Adventure|Fantasy|Sci-Fi</td>\n",
              "      <td>CCH Pounder</td>\n",
              "      <td>Avatar</td>\n",
              "      <td>886204</td>\n",
              "      <td>4834</td>\n",
              "      <td>Wes Studi</td>\n",
              "      <td>0.0</td>\n",
              "      <td>avatar|future|marine|native|paraplegic</td>\n",
              "      <td>http://www.imdb.com/title/tt0499549/?ref_=fn_t...</td>\n",
              "      <td>3054.0</td>\n",
              "      <td>English</td>\n",
              "      <td>USA</td>\n",
              "      <td>PG-13</td>\n",
              "      <td>237000000.0</td>\n",
              "      <td>2009.0</td>\n",
              "      <td>936.0</td>\n",
              "      <td>7.9</td>\n",
              "      <td>1.78</td>\n",
              "      <td>33000</td>\n",
              "    </tr>\n",
              "    <tr>\n",
              "      <th>1</th>\n",
              "      <td>Color</td>\n",
              "      <td>Gore Verbinski</td>\n",
              "      <td>302.0</td>\n",
              "      <td>169.0</td>\n",
              "      <td>563.0</td>\n",
              "      <td>1000.0</td>\n",
              "      <td>Orlando Bloom</td>\n",
              "      <td>40000.0</td>\n",
              "      <td>309404152.0</td>\n",
              "      <td>Action|Adventure|Fantasy</td>\n",
              "      <td>Johnny Depp</td>\n",
              "      <td>Pirates of the Caribbean: At World's End</td>\n",
              "      <td>471220</td>\n",
              "      <td>48350</td>\n",
              "      <td>Jack Davenport</td>\n",
              "      <td>0.0</td>\n",
              "      <td>goddess|marriage ceremony|marriage proposal|pi...</td>\n",
              "      <td>http://www.imdb.com/title/tt0449088/?ref_=fn_t...</td>\n",
              "      <td>1238.0</td>\n",
              "      <td>English</td>\n",
              "      <td>USA</td>\n",
              "      <td>PG-13</td>\n",
              "      <td>300000000.0</td>\n",
              "      <td>2007.0</td>\n",
              "      <td>5000.0</td>\n",
              "      <td>7.1</td>\n",
              "      <td>2.35</td>\n",
              "      <td>0</td>\n",
              "    </tr>\n",
              "  </tbody>\n",
              "</table>\n",
              "</div>"
            ],
            "text/plain": [
              "   color   director_name  num_critic_for_reviews  duration  \\\n",
              "0  Color   James Cameron                   723.0     178.0   \n",
              "1  Color  Gore Verbinski                   302.0     169.0   \n",
              "\n",
              "   director_facebook_likes  actor_3_facebook_likes      actor_2_name  \\\n",
              "0                      0.0                   855.0  Joel David Moore   \n",
              "1                    563.0                  1000.0     Orlando Bloom   \n",
              "\n",
              "   actor_1_facebook_likes        gross                           genres  \\\n",
              "0                  1000.0  760505847.0  Action|Adventure|Fantasy|Sci-Fi   \n",
              "1                 40000.0  309404152.0         Action|Adventure|Fantasy   \n",
              "\n",
              "  actor_1_name                                movie_title  num_voted_users  \\\n",
              "0  CCH Pounder                                    Avatar            886204   \n",
              "1  Johnny Depp  Pirates of the Caribbean: At World's End            471220   \n",
              "\n",
              "   cast_total_facebook_likes    actor_3_name  facenumber_in_poster  \\\n",
              "0                       4834       Wes Studi                   0.0   \n",
              "1                      48350  Jack Davenport                   0.0   \n",
              "\n",
              "                                       plot_keywords  \\\n",
              "0             avatar|future|marine|native|paraplegic   \n",
              "1  goddess|marriage ceremony|marriage proposal|pi...   \n",
              "\n",
              "                                     movie_imdb_link  num_user_for_reviews  \\\n",
              "0  http://www.imdb.com/title/tt0499549/?ref_=fn_t...                3054.0   \n",
              "1  http://www.imdb.com/title/tt0449088/?ref_=fn_t...                1238.0   \n",
              "\n",
              "  language country content_rating       budget  title_year  \\\n",
              "0  English     USA          PG-13  237000000.0      2009.0   \n",
              "1  English     USA          PG-13  300000000.0      2007.0   \n",
              "\n",
              "   actor_2_facebook_likes  imdb_score  aspect_ratio  movie_facebook_likes  \n",
              "0                   936.0         7.9          1.78                 33000  \n",
              "1                  5000.0         7.1          2.35                     0  "
            ]
          },
          "metadata": {
            "tags": []
          },
          "execution_count": 6
        }
      ]
    },
    {
      "cell_type": "markdown",
      "metadata": {
        "id": "sPbYpT4tKkN3",
        "colab_type": "text"
      },
      "source": [
        "### **Obversations & ideas for data preprocessing from Visual inspection**\n",
        "\n",
        "- ***Check for presence of Null values***\n",
        "\n",
        "- scale all the numeical data between (0 to 1) to normalise\n",
        "- genres, plot_keywords; split the text and perfrorm one-hot encoding\n",
        "- names(director, actors), language, country one-hot encoding\n",
        "\n",
        "###### **Drop Column**\n",
        "- movie_imdb_link : IT contains the link of the IMDb page"
      ]
    },
    {
      "cell_type": "code",
      "metadata": {
        "id": "ItuKnp65AtiU",
        "colab_type": "code",
        "colab": {
          "base_uri": "https://localhost:8080/",
          "height": 672
        },
        "outputId": "a455479c-0ebc-4e4a-8c1d-4f345ff534b5"
      },
      "source": [
        "print(\"The shape of the raw Dataset{}\".format(dataset.shape))\n",
        "print(dataset.columns)\n",
        "print(dataset.dtypes)"
      ],
      "execution_count": null,
      "outputs": [
        {
          "output_type": "stream",
          "text": [
            "The shape of the raw Dataset(5043, 28)\n",
            "Index(['color', 'director_name', 'num_critic_for_reviews', 'duration',\n",
            "       'director_facebook_likes', 'actor_3_facebook_likes', 'actor_2_name',\n",
            "       'actor_1_facebook_likes', 'gross', 'genres', 'actor_1_name',\n",
            "       'movie_title', 'num_voted_users', 'cast_total_facebook_likes',\n",
            "       'actor_3_name', 'facenumber_in_poster', 'plot_keywords',\n",
            "       'movie_imdb_link', 'num_user_for_reviews', 'language', 'country',\n",
            "       'content_rating', 'budget', 'title_year', 'actor_2_facebook_likes',\n",
            "       'imdb_score', 'aspect_ratio', 'movie_facebook_likes'],\n",
            "      dtype='object')\n",
            "color                         object\n",
            "director_name                 object\n",
            "num_critic_for_reviews       float64\n",
            "duration                     float64\n",
            "director_facebook_likes      float64\n",
            "actor_3_facebook_likes       float64\n",
            "actor_2_name                  object\n",
            "actor_1_facebook_likes       float64\n",
            "gross                        float64\n",
            "genres                        object\n",
            "actor_1_name                  object\n",
            "movie_title                   object\n",
            "num_voted_users                int64\n",
            "cast_total_facebook_likes      int64\n",
            "actor_3_name                  object\n",
            "facenumber_in_poster         float64\n",
            "plot_keywords                 object\n",
            "movie_imdb_link               object\n",
            "num_user_for_reviews         float64\n",
            "language                      object\n",
            "country                       object\n",
            "content_rating                object\n",
            "budget                       float64\n",
            "title_year                   float64\n",
            "actor_2_facebook_likes       float64\n",
            "imdb_score                   float64\n",
            "aspect_ratio                 float64\n",
            "movie_facebook_likes           int64\n",
            "dtype: object\n"
          ],
          "name": "stdout"
        }
      ]
    },
    {
      "cell_type": "markdown",
      "metadata": {
        "id": "UaP7srQaJcDJ",
        "colab_type": "text"
      },
      "source": [
        "- Facebook likes data types are float, should be integer"
      ]
    },
    {
      "cell_type": "code",
      "metadata": {
        "id": "sOio2Uk2JIxb",
        "colab_type": "code",
        "colab": {
          "base_uri": "https://localhost:8080/",
          "height": 1000
        },
        "outputId": "52064825-811d-4bf9-c5f1-fa5965b2d045"
      },
      "source": [
        "dataset.info"
      ],
      "execution_count": null,
      "outputs": [
        {
          "output_type": "execute_result",
          "data": {
            "text/plain": [
              "<bound method DataFrame.info of       color      director_name  num_critic_for_reviews  duration  \\\n",
              "0     Color      James Cameron                   723.0     178.0   \n",
              "1     Color     Gore Verbinski                   302.0     169.0   \n",
              "2     Color         Sam Mendes                   602.0     148.0   \n",
              "3     Color  Christopher Nolan                   813.0     164.0   \n",
              "4       NaN        Doug Walker                     NaN       NaN   \n",
              "...     ...                ...                     ...       ...   \n",
              "5038  Color        Scott Smith                     1.0      87.0   \n",
              "5039  Color                NaN                    43.0      43.0   \n",
              "5040  Color   Benjamin Roberds                    13.0      76.0   \n",
              "5041  Color        Daniel Hsia                    14.0     100.0   \n",
              "5042  Color           Jon Gunn                    43.0      90.0   \n",
              "\n",
              "      director_facebook_likes  actor_3_facebook_likes      actor_2_name  \\\n",
              "0                         0.0                   855.0  Joel David Moore   \n",
              "1                       563.0                  1000.0     Orlando Bloom   \n",
              "2                         0.0                   161.0      Rory Kinnear   \n",
              "3                     22000.0                 23000.0    Christian Bale   \n",
              "4                       131.0                     NaN        Rob Walker   \n",
              "...                       ...                     ...               ...   \n",
              "5038                      2.0                   318.0     Daphne Zuniga   \n",
              "5039                      NaN                   319.0     Valorie Curry   \n",
              "5040                      0.0                     0.0     Maxwell Moody   \n",
              "5041                      0.0                   489.0     Daniel Henney   \n",
              "5042                     16.0                    16.0  Brian Herzlinger   \n",
              "\n",
              "      actor_1_facebook_likes        gross                           genres  \\\n",
              "0                     1000.0  760505847.0  Action|Adventure|Fantasy|Sci-Fi   \n",
              "1                    40000.0  309404152.0         Action|Adventure|Fantasy   \n",
              "2                    11000.0  200074175.0        Action|Adventure|Thriller   \n",
              "3                    27000.0  448130642.0                  Action|Thriller   \n",
              "4                      131.0          NaN                      Documentary   \n",
              "...                      ...          ...                              ...   \n",
              "5038                   637.0          NaN                     Comedy|Drama   \n",
              "5039                   841.0          NaN     Crime|Drama|Mystery|Thriller   \n",
              "5040                     0.0          NaN            Drama|Horror|Thriller   \n",
              "5041                   946.0      10443.0             Comedy|Drama|Romance   \n",
              "5042                    86.0      85222.0                      Documentary   \n",
              "\n",
              "         actor_1_name                                        movie_title  \\\n",
              "0         CCH Pounder                                            Avatar    \n",
              "1         Johnny Depp          Pirates of the Caribbean: At World's End    \n",
              "2     Christoph Waltz                                           Spectre    \n",
              "3           Tom Hardy                             The Dark Knight Rises    \n",
              "4         Doug Walker  Star Wars: Episode VII - The Force Awakens    ...   \n",
              "...               ...                                                ...   \n",
              "5038      Eric Mabius                           Signed Sealed Delivered    \n",
              "5039      Natalie Zea                         The Following                \n",
              "5040      Eva Boehnke                              A Plague So Pleasant    \n",
              "5041        Alan Ruck                                  Shanghai Calling    \n",
              "5042      John August                                 My Date with Drew    \n",
              "\n",
              "      num_voted_users  cast_total_facebook_likes          actor_3_name  \\\n",
              "0              886204                       4834             Wes Studi   \n",
              "1              471220                      48350        Jack Davenport   \n",
              "2              275868                      11700      Stephanie Sigman   \n",
              "3             1144337                     106759  Joseph Gordon-Levitt   \n",
              "4                   8                        143                   NaN   \n",
              "...               ...                        ...                   ...   \n",
              "5038              629                       2283          Crystal Lowe   \n",
              "5039            73839                       1753         Sam Underwood   \n",
              "5040               38                          0        David Chandler   \n",
              "5041             1255                       2386           Eliza Coupe   \n",
              "5042             4285                        163              Jon Gunn   \n",
              "\n",
              "      facenumber_in_poster                                      plot_keywords  \\\n",
              "0                      0.0             avatar|future|marine|native|paraplegic   \n",
              "1                      0.0  goddess|marriage ceremony|marriage proposal|pi...   \n",
              "2                      1.0                bomb|espionage|sequel|spy|terrorist   \n",
              "3                      0.0  deception|imprisonment|lawlessness|police offi...   \n",
              "4                      0.0                                                NaN   \n",
              "...                    ...                                                ...   \n",
              "5038                   2.0             fraud|postal worker|prison|theft|trial   \n",
              "5039                   1.0       cult|fbi|hideout|prison escape|serial killer   \n",
              "5040                   0.0                                                NaN   \n",
              "5041                   5.0                                                NaN   \n",
              "5042                   0.0  actress name in title|crush|date|four word tit...   \n",
              "\n",
              "                                        movie_imdb_link  num_user_for_reviews  \\\n",
              "0     http://www.imdb.com/title/tt0499549/?ref_=fn_t...                3054.0   \n",
              "1     http://www.imdb.com/title/tt0449088/?ref_=fn_t...                1238.0   \n",
              "2     http://www.imdb.com/title/tt2379713/?ref_=fn_t...                 994.0   \n",
              "3     http://www.imdb.com/title/tt1345836/?ref_=fn_t...                2701.0   \n",
              "4     http://www.imdb.com/title/tt5289954/?ref_=fn_t...                   NaN   \n",
              "...                                                 ...                   ...   \n",
              "5038  http://www.imdb.com/title/tt3000844/?ref_=fn_t...                   6.0   \n",
              "5039  http://www.imdb.com/title/tt2071645/?ref_=fn_t...                 359.0   \n",
              "5040  http://www.imdb.com/title/tt2107644/?ref_=fn_t...                   3.0   \n",
              "5041  http://www.imdb.com/title/tt2070597/?ref_=fn_t...                   9.0   \n",
              "5042  http://www.imdb.com/title/tt0378407/?ref_=fn_t...                  84.0   \n",
              "\n",
              "     language country content_rating       budget  title_year  \\\n",
              "0     English     USA          PG-13  237000000.0      2009.0   \n",
              "1     English     USA          PG-13  300000000.0      2007.0   \n",
              "2     English      UK          PG-13  245000000.0      2015.0   \n",
              "3     English     USA          PG-13  250000000.0      2012.0   \n",
              "4         NaN     NaN            NaN          NaN         NaN   \n",
              "...       ...     ...            ...          ...         ...   \n",
              "5038  English  Canada            NaN          NaN      2013.0   \n",
              "5039  English     USA          TV-14          NaN         NaN   \n",
              "5040  English     USA            NaN       1400.0      2013.0   \n",
              "5041  English     USA          PG-13          NaN      2012.0   \n",
              "5042  English     USA             PG       1100.0      2004.0   \n",
              "\n",
              "      actor_2_facebook_likes  imdb_score  aspect_ratio  movie_facebook_likes  \n",
              "0                      936.0         7.9          1.78                 33000  \n",
              "1                     5000.0         7.1          2.35                     0  \n",
              "2                      393.0         6.8          2.35                 85000  \n",
              "3                    23000.0         8.5          2.35                164000  \n",
              "4                       12.0         7.1           NaN                     0  \n",
              "...                      ...         ...           ...                   ...  \n",
              "5038                   470.0         7.7           NaN                    84  \n",
              "5039                   593.0         7.5         16.00                 32000  \n",
              "5040                     0.0         6.3           NaN                    16  \n",
              "5041                   719.0         6.3          2.35                   660  \n",
              "5042                    23.0         6.6          1.85                   456  \n",
              "\n",
              "[5043 rows x 28 columns]>"
            ]
          },
          "metadata": {
            "tags": []
          },
          "execution_count": 8
        }
      ]
    },
    {
      "cell_type": "code",
      "metadata": {
        "id": "fP0sjVv8qwq_",
        "colab_type": "code",
        "colab": {}
      },
      "source": [
        "target=dataset[\"imdb_score\"]\n",
        "dataset.drop([\"movie_imdb_link\"], inplace=True, axis=1)"
      ],
      "execution_count": null,
      "outputs": []
    },
    {
      "cell_type": "code",
      "metadata": {
        "id": "Cnz_VfWCmiO-",
        "colab_type": "code",
        "colab": {}
      },
      "source": [
        "def getfeatures(dataset):\n",
        "  numeric_features=dataset._get_numeric_data().columns.values.tolist()\n",
        "  text_features=dataset.columns.values.tolist()\n",
        "  text_features=[i for i in text_features if i not in numeric_features]\n",
        "\n",
        "  string_features=[\"movie_title\", \"plot_keywords\",\"genres\"]\n",
        "\n",
        "  categorical_features=[i for i in text_features if i not in string_features]\n",
        "\n",
        "  ### Title_year  is categorical\n",
        "  numeric_features.remove(\"title_year\") \n",
        "  categorical_features.append(\"title_year\")\n",
        "\n",
        "  numeric_features.remove(\"imdb_score\") \n",
        "\n",
        "  return numeric_features, categorical_features, string_features"
      ],
      "execution_count": null,
      "outputs": []
    },
    {
      "cell_type": "code",
      "metadata": {
        "id": "nWYNM5ZLkYHa",
        "colab_type": "code",
        "colab": {
          "base_uri": "https://localhost:8080/",
          "height": 188
        },
        "outputId": "4752df8f-a712-4968-bcfa-cd1dcf2e2ea7"
      },
      "source": [
        "numeric_features, categorical_features, string_features = getfeatures(dataset)\n",
        "\n",
        "print(\"\\n numeric_features\\n\",numeric_features)\n",
        "print(\"\\ncategorical_features\\n\",categorical_features)\n",
        "print(\"\\n string_features\\n\",string_features)\n"
      ],
      "execution_count": null,
      "outputs": [
        {
          "output_type": "stream",
          "text": [
            "\n",
            " numeric_features\n",
            " ['num_critic_for_reviews', 'duration', 'director_facebook_likes', 'actor_3_facebook_likes', 'actor_1_facebook_likes', 'gross', 'num_voted_users', 'cast_total_facebook_likes', 'facenumber_in_poster', 'num_user_for_reviews', 'budget', 'actor_2_facebook_likes', 'aspect_ratio', 'movie_facebook_likes']\n",
            "\n",
            "categorical_features\n",
            " ['color', 'director_name', 'actor_2_name', 'actor_1_name', 'actor_3_name', 'language', 'country', 'content_rating', 'title_year']\n",
            "\n",
            " string_features\n",
            " ['movie_title', 'plot_keywords', 'genres']\n"
          ],
          "name": "stdout"
        }
      ]
    },
    {
      "cell_type": "markdown",
      "metadata": {
        "id": "e3yc81viAgbK",
        "colab_type": "text"
      },
      "source": [
        "### Data Exploration Graphs before any feature Enginering"
      ]
    },
    {
      "cell_type": "code",
      "metadata": {
        "id": "RMl5sz1PApk2",
        "colab_type": "code",
        "colab": {
          "base_uri": "https://localhost:8080/",
          "height": 531
        },
        "outputId": "1a007fd4-9b58-4d9b-a12f-1d0632479157"
      },
      "source": [
        "# Overview of imdb score\n",
        "plt.figure(figsize=(10,8))\n",
        "sns.distplot(target, color='orange')\n",
        "plt.axvline(target.median(), ymax= 0.95, linestyle='--')\n",
        "sns.despine(left=True)\n",
        "plt.title(\"Distribution of IMDb Score with median score \"+str(target.median()))"
      ],
      "execution_count": null,
      "outputs": [
        {
          "output_type": "execute_result",
          "data": {
            "text/plain": [
              "Text(0.5, 1.0, 'Distribution of IMDb Score with median score 6.6')"
            ]
          },
          "metadata": {
            "tags": []
          },
          "execution_count": 12
        },
        {
          "output_type": "display_data",
          "data": {
            "image/png": "[encoded data removed]",
            "text/plain": [
              "<Figure size 720x576 with 1 Axes>"
            ]
          },
          "metadata": {
            "tags": []
          }
        }
      ]
    },
    {
      "cell_type": "code",
      "metadata": {
        "id": "mx8o_Pn-pGkC",
        "colab_type": "code",
        "colab": {
          "base_uri": "https://localhost:8080/",
          "height": 295
        },
        "outputId": "4ee16949-1766-4e32-f56d-20b0daa5a019"
      },
      "source": [
        "sns.lineplot(x='title_year',y='imdb_score',data=dataset, estimator=median, ci=None)\n",
        "plt.title(\"From 1940 onwards the median IMDb rating is on a downward trend\",  fontsize=12,fontweight='semibold')\n",
        "plt.xlabel(\"Movie Release Year\")\n",
        "plt.ylabel(\"Median IMDb Score\")\n",
        "sns.despine(left=True)"
      ],
      "execution_count": null,
      "outputs": [
        {
          "output_type": "display_data",
          "data": {
            "image/png": "[encoded data removed]",
            "text/plain": [
              "<Figure size 432x288 with 1 Axes>"
            ]
          },
          "metadata": {
            "tags": []
          }
        }
      ]
    },
    {
      "cell_type": "code",
      "metadata": {
        "id": "hcJr1XoMAp5m",
        "colab_type": "code",
        "colab": {
          "base_uri": "https://localhost:8080/",
          "height": 513
        },
        "outputId": "132e934d-7804-4dd9-f4d9-35b374250c88"
      },
      "source": [
        "# Top10 country score spread\n",
        "top10country=dataset.country.value_counts().head(10).index.tolist()\n",
        "plt.figure(figsize=(10,8))\n",
        "sns.violinplot(x='country',y='imdb_score', data=dataset[dataset.country.isin(top10country)])\n",
        "plt.title(\"IMDb score spread of Top 10 countries based on number of movies \",fontsize=12,fontweight='semibold')\n",
        "sns.despine(left=True)"
      ],
      "execution_count": null,
      "outputs": [
        {
          "output_type": "display_data",
          "data": {
            "image/png": "[encoded data removed]",
            "text/plain": [
              "<Figure size 720x576 with 1 Axes>"
            ]
          },
          "metadata": {
            "tags": []
          }
        }
      ]
    },
    {
      "cell_type": "code",
      "metadata": {
        "id": "mvLWQKC6uaW9",
        "colab_type": "code",
        "colab": {
          "base_uri": "https://localhost:8080/",
          "height": 513
        },
        "outputId": "9f0bdf35-b114-4d62-86ca-809038931cfc"
      },
      "source": [
        "# language with highest rating\n",
        "top10language=dataset.language.value_counts().head(10).index.tolist()\n",
        "plt.figure(figsize=(10,8))\n",
        "sns.violinplot(x='language',y='imdb_score', data=dataset[dataset.language.isin(top10language)])\n",
        "plt.title(\"IMDb score spread of Top 10 movie language\",fontsize=12,fontweight='semibold')\n",
        "plt.text(0,10,\"English & Hindi has the highest spread of IMDb score\",fontsize=12)\n",
        "sns.despine(left=True)"
      ],
      "execution_count": null,
      "outputs": [
        {
          "output_type": "display_data",
          "data": {
            "image/png": "[encoded data removed]",
            "text/plain": [
              "<Figure size 720x576 with 1 Axes>"
            ]
          },
          "metadata": {
            "tags": []
          }
        }
      ]
    },
    {
      "cell_type": "code",
      "metadata": {
        "id": "dKvzLEeJtxFj",
        "colab_type": "code",
        "colab": {
          "base_uri": "https://localhost:8080/",
          "height": 513
        },
        "outputId": "ffda2e02-3cf7-4add-9bdb-311fa2b28a12"
      },
      "source": [
        "plt.figure(figsize=(10,8))\n",
        "sns.scatterplot(x='gross',y='imdb_score',data=dataset)\n",
        "plt.title(\"Higher grossing moves tend to have higher IMDb score\",fontsize=12,fontweight='semibold')\n",
        "sns.despine(left=True)"
      ],
      "execution_count": null,
      "outputs": [
        {
          "output_type": "display_data",
          "data": {
            "image/png": "[encoded data removed]",
            "text/plain": [
              "<Figure size 720x576 with 1 Axes>"
            ]
          },
          "metadata": {
            "tags": []
          }
        }
      ]
    },
    {
      "cell_type": "code",
      "metadata": {
        "id": "jT0M3AAp0QlP",
        "colab_type": "code",
        "colab": {
          "base_uri": "https://localhost:8080/",
          "height": 513
        },
        "outputId": "dcca48c2-d254-492b-f683-31ca754e0288"
      },
      "source": [
        "plt.figure(figsize=(10,8))\n",
        "sns.scatterplot(x='duration',y='imdb_score',data=dataset)\n",
        "plt.title(\" longer and shorter duration movies have higher IMDb scores\",fontsize=12,fontweight='semibold')\n",
        "sns.despine(left=True)"
      ],
      "execution_count": null,
      "outputs": [
        {
          "output_type": "display_data",
          "data": {
            "image/png": "[encoded data removed]",
            "text/plain": [
              "<Figure size 720x576 with 1 Axes>"
            ]
          },
          "metadata": {
            "tags": []
          }
        }
      ]
    },
    {
      "cell_type": "code",
      "metadata": {
        "id": "Nwx5i1Th0sTk",
        "colab_type": "code",
        "colab": {
          "base_uri": "https://localhost:8080/",
          "height": 553
        },
        "outputId": "6a2501c1-31fe-4107-a1ab-244e885e5552"
      },
      "source": [
        "plt.figure(figsize=(10,8))\n",
        "sns.boxplot(x='content_rating',y='imdb_score',data=dataset)\n",
        "plt.title(\" Movies for Mature Audiences have higher IMDb scores\",fontsize=12,fontweight='semibold')\n",
        "plt.xticks(rotation=90)\n",
        "sns.despine(left=True)"
      ],
      "execution_count": null,
      "outputs": [
        {
          "output_type": "display_data",
          "data": {
            "image/png": "[encoded data removed]",
            "text/plain": [
              "<Figure size 720x576 with 1 Axes>"
            ]
          },
          "metadata": {
            "tags": []
          }
        }
      ]
    },
    {
      "cell_type": "markdown",
      "metadata": {
        "id": "oRsEgmj12f0o",
        "colab_type": "text"
      },
      "source": [
        "### Numerical Features Deep Dive "
      ]
    },
    {
      "cell_type": "code",
      "metadata": {
        "id": "kD11JYd152X3",
        "colab_type": "code",
        "colab": {}
      },
      "source": [
        "corrmatrix=dataset[numeric_features].corr()"
      ],
      "execution_count": null,
      "outputs": []
    },
    {
      "cell_type": "code",
      "metadata": {
        "id": "ScpHaLys2qWZ",
        "colab_type": "code",
        "colab": {
          "base_uri": "https://localhost:8080/",
          "height": 682
        },
        "outputId": "302c5e59-61d1-4ffd-eb6e-83d332b29c8b"
      },
      "source": [
        "plt.figure(figsize=(10,8))\n",
        "sns.heatmap(corrmatrix,vmax=.7)\n",
        "plt.title(\"'cast_total_facebook_likes' highly correlated with 'actor_1_facebook_likes' \\n 'num _user_for_review' hihgly correlated with 'num_voted_users' \\n 'num_critic_for_reviews' has high correlation with multiple variables \", fontsize=12,fontweight='semibold')"
      ],
      "execution_count": null,
      "outputs": [
        {
          "output_type": "execute_result",
          "data": {
            "text/plain": [
              "Text(0.5, 1.0, \"'cast_total_facebook_likes' highly correlated with 'actor_1_facebook_likes' \\n 'num _user_for_review' hihgly correlated with 'num_voted_users' \\n 'num_critic_for_reviews' has high correlation with multiple variables \")"
            ]
          },
          "metadata": {
            "tags": []
          },
          "execution_count": 19
        },
        {
          "output_type": "display_data",
          "data": {
            "image/png": "[encoded data removed]",
            "text/plain": [
              "<Figure size 720x576 with 2 Axes>"
            ]
          },
          "metadata": {
            "tags": []
          }
        }
      ]
    },
    {
      "cell_type": "code",
      "metadata": {
        "id": "mqCMLoQC6ywP",
        "colab_type": "code",
        "colab": {
          "base_uri": "https://localhost:8080/",
          "height": 302
        },
        "outputId": "8fa373ed-fd8a-4840-afab-df0e8c33df5a"
      },
      "source": [
        "print(corrmatrix[corrmatrix>0.6][['cast_total_facebook_likes','actor_2_facebook_likes']] )\n",
        "print(\"\\n ## Drop the 'cast_total_facebook_likes' ## \")"
      ],
      "execution_count": null,
      "outputs": [
        {
          "output_type": "stream",
          "text": [
            "                           cast_total_facebook_likes  actor_2_facebook_likes\n",
            "num_critic_for_reviews                           NaN                     NaN\n",
            "duration                                         NaN                     NaN\n",
            "director_facebook_likes                          NaN                     NaN\n",
            "actor_3_facebook_likes                           NaN                     NaN\n",
            "actor_1_facebook_likes                      0.951661                     NaN\n",
            "gross                                            NaN                     NaN\n",
            "num_voted_users                                  NaN                     NaN\n",
            "cast_total_facebook_likes                   1.000000                0.628404\n",
            "facenumber_in_poster                             NaN                     NaN\n",
            "num_user_for_reviews                             NaN                     NaN\n",
            "budget                                           NaN                     NaN\n",
            "actor_2_facebook_likes                      0.628404                1.000000\n",
            "aspect_ratio                                     NaN                     NaN\n",
            "movie_facebook_likes                             NaN                     NaN\n",
            "\n",
            " ## Drop the 'cast_total_facebook_likes' ## \n"
          ],
          "name": "stdout"
        }
      ]
    },
    {
      "cell_type": "code",
      "metadata": {
        "id": "gjCoF5nW9Qli",
        "colab_type": "code",
        "colab": {
          "base_uri": "https://localhost:8080/",
          "height": 588
        },
        "outputId": "d362751d-95ba-46d7-f588-5a7b4b6fb30e"
      },
      "source": [
        "print(corrmatrix[corrmatrix>0.6][['num_critic_for_reviews','num_voted_users','num_user_for_reviews','movie_facebook_likes']] )\n",
        "print(\"\\n -Drop 'num_critic_for_reviews' \\n -create new feature with average of 'num_voted_users','num_user_for_reviews'  \")"
      ],
      "execution_count": null,
      "outputs": [
        {
          "output_type": "stream",
          "text": [
            "                           num_critic_for_reviews  num_voted_users  \\\n",
            "num_critic_for_reviews                   1.000000         0.624943   \n",
            "duration                                      NaN              NaN   \n",
            "director_facebook_likes                       NaN              NaN   \n",
            "actor_3_facebook_likes                        NaN              NaN   \n",
            "actor_1_facebook_likes                        NaN              NaN   \n",
            "gross                                         NaN         0.637271   \n",
            "num_voted_users                          0.624943         1.000000   \n",
            "cast_total_facebook_likes                     NaN              NaN   \n",
            "facenumber_in_poster                          NaN              NaN   \n",
            "num_user_for_reviews                     0.609387         0.798406   \n",
            "budget                                        NaN              NaN   \n",
            "actor_2_facebook_likes                        NaN              NaN   \n",
            "aspect_ratio                                  NaN              NaN   \n",
            "movie_facebook_likes                     0.683176              NaN   \n",
            "\n",
            "                           num_user_for_reviews  movie_facebook_likes  \n",
            "num_critic_for_reviews                 0.609387              0.683176  \n",
            "duration                                    NaN                   NaN  \n",
            "director_facebook_likes                     NaN                   NaN  \n",
            "actor_3_facebook_likes                      NaN                   NaN  \n",
            "actor_1_facebook_likes                      NaN                   NaN  \n",
            "gross                                       NaN                   NaN  \n",
            "num_voted_users                        0.798406                   NaN  \n",
            "cast_total_facebook_likes                   NaN                   NaN  \n",
            "facenumber_in_poster                        NaN                   NaN  \n",
            "num_user_for_reviews                   1.000000                   NaN  \n",
            "budget                                      NaN                   NaN  \n",
            "actor_2_facebook_likes                      NaN                   NaN  \n",
            "aspect_ratio                                NaN                   NaN  \n",
            "movie_facebook_likes                        NaN              1.000000  \n",
            "\n",
            " -Drop 'num_critic_for_reviews' \n",
            " -create new feature with average of 'num_voted_users','num_user_for_reviews'  \n"
          ],
          "name": "stdout"
        }
      ]
    },
    {
      "cell_type": "code",
      "metadata": {
        "id": "svqD_vWY_Ii5",
        "colab_type": "code",
        "colab": {
          "base_uri": "https://localhost:8080/",
          "height": 54
        },
        "outputId": "3facbd40-7b83-4736-a2e3-f163ef366cc9"
      },
      "source": [
        "dataset['num_user_voted_reviews']= (dataset.num_voted_users+dataset.num_user_for_reviews)/2\n",
        "numeric_features.append(\"num_user_voted_reviews\")\n",
        "\n",
        "removelist=['num_voted_users','num_user_for_reviews','num_critic_for_reviews','cast_total_facebook_likes']\n",
        "dataset.drop(removelist, axis=1, inplace=True)\n",
        "for feat in removelist:\n",
        "  numeric_features.remove(feat)\n",
        "\n",
        "print(numeric_features)\n"
      ],
      "execution_count": null,
      "outputs": [
        {
          "output_type": "stream",
          "text": [
            "['duration', 'director_facebook_likes', 'actor_3_facebook_likes', 'actor_1_facebook_likes', 'gross', 'facenumber_in_poster', 'budget', 'actor_2_facebook_likes', 'aspect_ratio', 'movie_facebook_likes', 'num_user_voted_reviews']\n"
          ],
          "name": "stdout"
        }
      ]
    },
    {
      "cell_type": "markdown",
      "metadata": {
        "id": "w3plO_UmOe_t",
        "colab_type": "text"
      },
      "source": [
        "### Numeric features : imputation"
      ]
    },
    {
      "cell_type": "code",
      "metadata": {
        "id": "0ufa9b37O0Ut",
        "colab_type": "code",
        "colab": {}
      },
      "source": [
        "imput=SimpleImputer(strategy=\"most_frequent\")\n",
        "dataset[numeric_features]=imput.fit_transform(dataset[numeric_features])"
      ],
      "execution_count": null,
      "outputs": []
    },
    {
      "cell_type": "code",
      "metadata": {
        "id": "MSNP_k-mBN5C",
        "colab_type": "code",
        "colab": {
          "base_uri": "https://localhost:8080/",
          "height": 34
        },
        "outputId": "05110e3f-731c-4508-aa51-c3cedfcba8e8"
      },
      "source": [
        "for feat in categorical_features:\n",
        "  dataset=pd.concat([dataset, pd.get_dummies(dataset[feat], prefix=feat, dummy_na=True)],axis=1)\n",
        "\n",
        "dataset.drop(categorical_features,inplace=True, axis=1)\n",
        "print(dataset.shape)"
      ],
      "execution_count": null,
      "outputs": [
        {
          "output_type": "stream",
          "text": [
            "(5043, 11295)\n"
          ],
          "name": "stdout"
        }
      ]
    },
    {
      "cell_type": "code",
      "metadata": {
        "id": "fiA6WawJkjiV",
        "colab_type": "code",
        "colab": {
          "base_uri": "https://localhost:8080/",
          "height": 34
        },
        "outputId": "d178c8a2-2329-43c7-cc3e-15a65b18f110"
      },
      "source": [
        "dataset=pd.concat([dataset, dataset.plot_keywords.str.get_dummies(sep='|')],axis=1)\n",
        "dataset=pd.concat([dataset, dataset.genres.str.get_dummies(sep='|')],axis=1)\n",
        "\n",
        "dataset.drop(['genres','plot_keywords'], axis=1,inplace=True)\n",
        "print(dataset.shape)"
      ],
      "execution_count": null,
      "outputs": [
        {
          "output_type": "stream",
          "text": [
            "(5043, 19405)\n"
          ],
          "name": "stdout"
        }
      ]
    },
    {
      "cell_type": "code",
      "metadata": {
        "id": "razt0TizogT9",
        "colab_type": "code",
        "colab": {
          "base_uri": "https://localhost:8080/",
          "height": 269
        },
        "outputId": "74552e0e-29a8-41cc-d7a7-49a9744dde97"
      },
      "source": [
        "dataset.head(3)"
      ],
      "execution_count": null,
      "outputs": [
        {
          "output_type": "execute_result",
          "data": {
            "text/html": [
              "<div>\n",
              "<style scoped>\n",
              "    .dataframe tbody tr th:only-of-type {\n",
              "        vertical-align: middle;\n",
              "    }\n",
              "\n",
              "    .dataframe tbody tr th {\n",
              "        vertical-align: top;\n",
              "    }\n",
              "\n",
              "    .dataframe thead th {\n",
              "        text-align: right;\n",
              "    }\n",
              "</style>\n",
              "<table border=\"1\" class=\"dataframe\">\n",
              "  <thead>\n",
              "    <tr style=\"text-align: right;\">\n",
              "      <th></th>\n",
              "      <th>duration</th>\n",
              "      <th>director_facebook_likes</th>\n",
              "      <th>actor_3_facebook_likes</th>\n",
              "      <th>actor_1_facebook_likes</th>\n",
              "      <th>gross</th>\n",
              "      <th>movie_title</th>\n",
              "      <th>facenumber_in_poster</th>\n",
              "      <th>budget</th>\n",
              "      <th>actor_2_facebook_likes</th>\n",
              "      <th>imdb_score</th>\n",
              "      <th>aspect_ratio</th>\n",
              "      <th>movie_facebook_likes</th>\n",
              "      <th>num_user_voted_reviews</th>\n",
              "      <th>color_ Black and White</th>\n",
              "      <th>color_Color</th>\n",
              "      <th>color_nan</th>\n",
              "      <th>director_name_A. Raven Cruz</th>\n",
              "      <th>director_name_Aaron Hann</th>\n",
              "      <th>director_name_Aaron Schneider</th>\n",
              "      <th>director_name_Aaron Seltzer</th>\n",
              "      <th>director_name_Abel Ferrara</th>\n",
              "      <th>director_name_Adam Brooks</th>\n",
              "      <th>director_name_Adam Carolla</th>\n",
              "      <th>director_name_Adam Goldberg</th>\n",
              "      <th>director_name_Adam Green</th>\n",
              "      <th>...</th>\n",
              "      <th>Adventure</th>\n",
              "      <th>Animation</th>\n",
              "      <th>Biography</th>\n",
              "      <th>Comedy</th>\n",
              "      <th>Crime</th>\n",
              "      <th>Documentary</th>\n",
              "      <th>Drama</th>\n",
              "      <th>Family</th>\n",
              "      <th>Fantasy</th>\n",
              "      <th>Film-Noir</th>\n",
              "      <th>Game-Show</th>\n",
              "      <th>History</th>\n",
              "      <th>Horror</th>\n",
              "      <th>Music</th>\n",
              "      <th>Musical</th>\n",
              "      <th>Mystery</th>\n",
              "      <th>News</th>\n",
              "      <th>Reality-TV</th>\n",
              "      <th>Romance</th>\n",
              "      <th>Sci-Fi</th>\n",
              "      <th>Short</th>\n",
              "      <th>Sport</th>\n",
              "      <th>Thriller</th>\n",
              "      <th>War</th>\n",
              "      <th>Western</th>\n",
              "    </tr>\n",
              "  </thead>\n",
              "  <tbody>\n",
              "    <tr>\n",
              "      <th>0</th>\n",
              "      <td>178.0</td>\n",
              "      <td>0.0</td>\n",
              "      <td>855.0</td>\n",
              "      <td>1000.0</td>\n",
              "      <td>760505847.0</td>\n",
              "      <td>Avatar</td>\n",
              "      <td>0.0</td>\n",
              "      <td>237000000.0</td>\n",
              "      <td>936.0</td>\n",
              "      <td>7.9</td>\n",
              "      <td>1.78</td>\n",
              "      <td>33000.0</td>\n",
              "      <td>444629.0</td>\n",
              "      <td>0</td>\n",
              "      <td>1</td>\n",
              "      <td>0</td>\n",
              "      <td>0</td>\n",
              "      <td>0</td>\n",
              "      <td>0</td>\n",
              "      <td>0</td>\n",
              "      <td>0</td>\n",
              "      <td>0</td>\n",
              "      <td>0</td>\n",
              "      <td>0</td>\n",
              "      <td>0</td>\n",
              "      <td>...</td>\n",
              "      <td>1</td>\n",
              "      <td>0</td>\n",
              "      <td>0</td>\n",
              "      <td>0</td>\n",
              "      <td>0</td>\n",
              "      <td>0</td>\n",
              "      <td>0</td>\n",
              "      <td>0</td>\n",
              "      <td>1</td>\n",
              "      <td>0</td>\n",
              "      <td>0</td>\n",
              "      <td>0</td>\n",
              "      <td>0</td>\n",
              "      <td>0</td>\n",
              "      <td>0</td>\n",
              "      <td>0</td>\n",
              "      <td>0</td>\n",
              "      <td>0</td>\n",
              "      <td>0</td>\n",
              "      <td>1</td>\n",
              "      <td>0</td>\n",
              "      <td>0</td>\n",
              "      <td>0</td>\n",
              "      <td>0</td>\n",
              "      <td>0</td>\n",
              "    </tr>\n",
              "    <tr>\n",
              "      <th>1</th>\n",
              "      <td>169.0</td>\n",
              "      <td>563.0</td>\n",
              "      <td>1000.0</td>\n",
              "      <td>40000.0</td>\n",
              "      <td>309404152.0</td>\n",
              "      <td>Pirates of the Caribbean: At World's End</td>\n",
              "      <td>0.0</td>\n",
              "      <td>300000000.0</td>\n",
              "      <td>5000.0</td>\n",
              "      <td>7.1</td>\n",
              "      <td>2.35</td>\n",
              "      <td>0.0</td>\n",
              "      <td>236229.0</td>\n",
              "      <td>0</td>\n",
              "      <td>1</td>\n",
              "      <td>0</td>\n",
              "      <td>0</td>\n",
              "      <td>0</td>\n",
              "      <td>0</td>\n",
              "      <td>0</td>\n",
              "      <td>0</td>\n",
              "      <td>0</td>\n",
              "      <td>0</td>\n",
              "      <td>0</td>\n",
              "      <td>0</td>\n",
              "      <td>...</td>\n",
              "      <td>1</td>\n",
              "      <td>0</td>\n",
              "      <td>0</td>\n",
              "      <td>0</td>\n",
              "      <td>0</td>\n",
              "      <td>0</td>\n",
              "      <td>0</td>\n",
              "      <td>0</td>\n",
              "      <td>1</td>\n",
              "      <td>0</td>\n",
              "      <td>0</td>\n",
              "      <td>0</td>\n",
              "      <td>0</td>\n",
              "      <td>0</td>\n",
              "      <td>0</td>\n",
              "      <td>0</td>\n",
              "      <td>0</td>\n",
              "      <td>0</td>\n",
              "      <td>0</td>\n",
              "      <td>0</td>\n",
              "      <td>0</td>\n",
              "      <td>0</td>\n",
              "      <td>0</td>\n",
              "      <td>0</td>\n",
              "      <td>0</td>\n",
              "    </tr>\n",
              "    <tr>\n",
              "      <th>2</th>\n",
              "      <td>148.0</td>\n",
              "      <td>0.0</td>\n",
              "      <td>161.0</td>\n",
              "      <td>11000.0</td>\n",
              "      <td>200074175.0</td>\n",
              "      <td>Spectre</td>\n",
              "      <td>1.0</td>\n",
              "      <td>245000000.0</td>\n",
              "      <td>393.0</td>\n",
              "      <td>6.8</td>\n",
              "      <td>2.35</td>\n",
              "      <td>85000.0</td>\n",
              "      <td>138431.0</td>\n",
              "      <td>0</td>\n",
              "      <td>1</td>\n",
              "      <td>0</td>\n",
              "      <td>0</td>\n",
              "      <td>0</td>\n",
              "      <td>0</td>\n",
              "      <td>0</td>\n",
              "      <td>0</td>\n",
              "      <td>0</td>\n",
              "      <td>0</td>\n",
              "      <td>0</td>\n",
              "      <td>0</td>\n",
              "      <td>...</td>\n",
              "      <td>1</td>\n",
              "      <td>0</td>\n",
              "      <td>0</td>\n",
              "      <td>0</td>\n",
              "      <td>0</td>\n",
              "      <td>0</td>\n",
              "      <td>0</td>\n",
              "      <td>0</td>\n",
              "      <td>0</td>\n",
              "      <td>0</td>\n",
              "      <td>0</td>\n",
              "      <td>0</td>\n",
              "      <td>0</td>\n",
              "      <td>0</td>\n",
              "      <td>0</td>\n",
              "      <td>0</td>\n",
              "      <td>0</td>\n",
              "      <td>0</td>\n",
              "      <td>0</td>\n",
              "      <td>0</td>\n",
              "      <td>0</td>\n",
              "      <td>0</td>\n",
              "      <td>1</td>\n",
              "      <td>0</td>\n",
              "      <td>0</td>\n",
              "    </tr>\n",
              "  </tbody>\n",
              "</table>\n",
              "<p>3 rows × 19405 columns</p>\n",
              "</div>"
            ],
            "text/plain": [
              "   duration  director_facebook_likes  actor_3_facebook_likes  \\\n",
              "0     178.0                      0.0                   855.0   \n",
              "1     169.0                    563.0                  1000.0   \n",
              "2     148.0                      0.0                   161.0   \n",
              "\n",
              "   actor_1_facebook_likes        gross  \\\n",
              "0                  1000.0  760505847.0   \n",
              "1                 40000.0  309404152.0   \n",
              "2                 11000.0  200074175.0   \n",
              "\n",
              "                                 movie_title  facenumber_in_poster  \\\n",
              "0                                    Avatar                    0.0   \n",
              "1  Pirates of the Caribbean: At World's End                    0.0   \n",
              "2                                   Spectre                    1.0   \n",
              "\n",
              "        budget  actor_2_facebook_likes  imdb_score  aspect_ratio  \\\n",
              "0  237000000.0                   936.0         7.9          1.78   \n",
              "1  300000000.0                  5000.0         7.1          2.35   \n",
              "2  245000000.0                   393.0         6.8          2.35   \n",
              "\n",
              "   movie_facebook_likes  num_user_voted_reviews  color_ Black and White  \\\n",
              "0               33000.0                444629.0                       0   \n",
              "1                   0.0                236229.0                       0   \n",
              "2               85000.0                138431.0                       0   \n",
              "\n",
              "   color_Color  color_nan  director_name_A. Raven Cruz  \\\n",
              "0            1          0                            0   \n",
              "1            1          0                            0   \n",
              "2            1          0                            0   \n",
              "\n",
              "   director_name_Aaron Hann  director_name_Aaron Schneider  \\\n",
              "0                         0                              0   \n",
              "1                         0                              0   \n",
              "2                         0                              0   \n",
              "\n",
              "   director_name_Aaron Seltzer  director_name_Abel Ferrara  \\\n",
              "0                            0                           0   \n",
              "1                            0                           0   \n",
              "2                            0                           0   \n",
              "\n",
              "   director_name_Adam Brooks  director_name_Adam Carolla  \\\n",
              "0                          0                           0   \n",
              "1                          0                           0   \n",
              "2                          0                           0   \n",
              "\n",
              "   director_name_Adam Goldberg  director_name_Adam Green  ...  Adventure  \\\n",
              "0                            0                         0  ...          1   \n",
              "1                            0                         0  ...          1   \n",
              "2                            0                         0  ...          1   \n",
              "\n",
              "   Animation  Biography  Comedy  Crime  Documentary  Drama  Family  Fantasy  \\\n",
              "0          0          0       0      0            0      0       0        1   \n",
              "1          0          0       0      0            0      0       0        1   \n",
              "2          0          0       0      0            0      0       0        0   \n",
              "\n",
              "   Film-Noir  Game-Show  History  Horror  Music  Musical  Mystery  News  \\\n",
              "0          0          0        0       0      0        0        0     0   \n",
              "1          0          0        0       0      0        0        0     0   \n",
              "2          0          0        0       0      0        0        0     0   \n",
              "\n",
              "   Reality-TV  Romance  Sci-Fi  Short  Sport  Thriller  War  Western  \n",
              "0           0        0       1      0      0         0    0        0  \n",
              "1           0        0       0      0      0         0    0        0  \n",
              "2           0        0       0      0      0         1    0        0  \n",
              "\n",
              "[3 rows x 19405 columns]"
            ]
          },
          "metadata": {
            "tags": []
          },
          "execution_count": 26
        }
      ]
    },
    {
      "cell_type": "code",
      "metadata": {
        "id": "wAdSr0VOBxL1",
        "colab_type": "code",
        "colab": {
          "base_uri": "https://localhost:8080/",
          "height": 195
        },
        "outputId": "0c501fdb-a90a-4f9e-c6bb-4b6d72632615"
      },
      "source": [
        "#dataset[dataset.movie_title.str.contains(':')].movie_title\n",
        "#Series are captured using ':' . i.e. Avengers: Age of Ultron\n",
        "dataset['movie_title'].str.split(':',n = 1, expand = True).head(5)"
      ],
      "execution_count": null,
      "outputs": [
        {
          "output_type": "execute_result",
          "data": {
            "text/html": [
              "<div>\n",
              "<style scoped>\n",
              "    .dataframe tbody tr th:only-of-type {\n",
              "        vertical-align: middle;\n",
              "    }\n",
              "\n",
              "    .dataframe tbody tr th {\n",
              "        vertical-align: top;\n",
              "    }\n",
              "\n",
              "    .dataframe thead th {\n",
              "        text-align: right;\n",
              "    }\n",
              "</style>\n",
              "<table border=\"1\" class=\"dataframe\">\n",
              "  <thead>\n",
              "    <tr style=\"text-align: right;\">\n",
              "      <th></th>\n",
              "      <th>0</th>\n",
              "      <th>1</th>\n",
              "    </tr>\n",
              "  </thead>\n",
              "  <tbody>\n",
              "    <tr>\n",
              "      <th>0</th>\n",
              "      <td>Avatar</td>\n",
              "      <td>None</td>\n",
              "    </tr>\n",
              "    <tr>\n",
              "      <th>1</th>\n",
              "      <td>Pirates of the Caribbean</td>\n",
              "      <td>At World's End</td>\n",
              "    </tr>\n",
              "    <tr>\n",
              "      <th>2</th>\n",
              "      <td>Spectre</td>\n",
              "      <td>None</td>\n",
              "    </tr>\n",
              "    <tr>\n",
              "      <th>3</th>\n",
              "      <td>The Dark Knight Rises</td>\n",
              "      <td>None</td>\n",
              "    </tr>\n",
              "    <tr>\n",
              "      <th>4</th>\n",
              "      <td>Star Wars</td>\n",
              "      <td>Episode VII - The Force Awakens</td>\n",
              "    </tr>\n",
              "  </tbody>\n",
              "</table>\n",
              "</div>"
            ],
            "text/plain": [
              "                          0                                              1\n",
              "0                   Avatar                                            None\n",
              "1  Pirates of the Caribbean                                At World's End \n",
              "2                  Spectre                                            None\n",
              "3    The Dark Knight Rises                                            None\n",
              "4                 Star Wars   Episode VII - The Force Awakens             "
            ]
          },
          "metadata": {
            "tags": []
          },
          "execution_count": 27
        }
      ]
    },
    {
      "cell_type": "code",
      "metadata": {
        "id": "W4IPGj6gB0zl",
        "colab_type": "code",
        "colab": {
          "base_uri": "https://localhost:8080/",
          "height": 118
        },
        "outputId": "10af4426-856e-4d73-8c58-9047925043ec"
      },
      "source": [
        "# Change movie_title to movie series name\n",
        "dataset['movie_title']=dataset['movie_title'].str.split(':',n = 1, expand = True)[0]\n",
        "dataset['movie_title'].head(5)"
      ],
      "execution_count": null,
      "outputs": [
        {
          "output_type": "execute_result",
          "data": {
            "text/plain": [
              "0                     Avatar \n",
              "1    Pirates of the Caribbean\n",
              "2                    Spectre \n",
              "3      The Dark Knight Rises \n",
              "4                   Star Wars\n",
              "Name: movie_title, dtype: object"
            ]
          },
          "metadata": {
            "tags": []
          },
          "execution_count": 28
        }
      ]
    },
    {
      "cell_type": "code",
      "metadata": {
        "id": "fk3xTAahB0sB",
        "colab_type": "code",
        "colab": {
          "base_uri": "https://localhost:8080/",
          "height": 34
        },
        "outputId": "672d0f44-9bac-4fcf-e332-500e6bb6f69d"
      },
      "source": [
        "#dataset.movie_title.str.get_dummies()\n",
        "dataset=pd.concat([dataset, dataset.movie_title.str.get_dummies()],axis=1)\n",
        "\n",
        "dataset.drop('movie_title', axis=1,inplace=True)\n",
        "print(dataset.shape)"
      ],
      "execution_count": null,
      "outputs": [
        {
          "output_type": "stream",
          "text": [
            "(5043, 24258)\n"
          ],
          "name": "stdout"
        }
      ]
    },
    {
      "cell_type": "markdown",
      "metadata": {
        "id": "gbgJfOXXVMHB",
        "colab_type": "text"
      },
      "source": [
        "### ***Failed Approach #1:*** \n",
        "\n",
        "Models( Neural network and Traditional Ensemble) are created by taking all the features as inputs, but the accuracy was very very low or zero. \n",
        "\n",
        "Hense, 20 prominant categrical features are selected to be used with numerical features for the model. "
      ]
    },
    {
      "cell_type": "code",
      "metadata": {
        "id": "mminhMOs5m1e",
        "colab_type": "code",
        "colab": {
          "base_uri": "https://localhost:8080/",
          "height": 34
        },
        "outputId": "768d1612-89ec-43e7-e7af-aa51a88e9cc4"
      },
      "source": [
        "cat_dummies=[i for i in dataset.columns.values.tolist() if i not in numeric_features]\n",
        "cat_dummies=[i for i in cat_dummies if i not in string_features]\n",
        "#cat_dummies.remove(\"title_year\")\n",
        "cat_dummies.remove(\"imdb_score\")\n",
        "cat_dummies[-5:]"
      ],
      "execution_count": null,
      "outputs": [
        {
          "output_type": "execute_result",
          "data": {
            "text/plain": [
              "['[Rec]\\xa0', 'eXistenZ\\xa0', 'xXx', 'xXx\\xa0', 'Æon Flux\\xa0']"
            ]
          },
          "metadata": {
            "tags": []
          },
          "execution_count": 30
        }
      ]
    },
    {
      "cell_type": "code",
      "metadata": {
        "id": "_rRnO4oa75l7",
        "colab_type": "code",
        "colab": {
          "base_uri": "https://localhost:8080/",
          "height": 34
        },
        "outputId": "e3f4a24c-820c-4a1a-a6a9-f9d82d88fcfd"
      },
      "source": [
        "string_features"
      ],
      "execution_count": null,
      "outputs": [
        {
          "output_type": "execute_result",
          "data": {
            "text/plain": [
              "['movie_title', 'plot_keywords', 'genres']"
            ]
          },
          "metadata": {
            "tags": []
          },
          "execution_count": 31
        }
      ]
    },
    {
      "cell_type": "code",
      "metadata": {
        "id": "T5NIMW9g5nJ-",
        "colab_type": "code",
        "colab": {
          "base_uri": "https://localhost:8080/",
          "height": 87
        },
        "outputId": "164cccfe-db6c-4a9e-d4f2-3252681e8f9a"
      },
      "source": [
        "import operator\n",
        "from scipy.stats import pearsonr\n",
        "\n",
        "correl={}\n",
        "\n",
        "for f in cat_dummies:\n",
        "    correl[f]=pearsonr(dataset[f], target)\n",
        "sorted_cor = sorted(correl.items(), key=operator.itemgetter(1), reverse=True)\n",
        "\n",
        "print (sorted_cor[0:10])\n",
        "print(\"\")\n",
        "print (sorted_cor[-10:])"
      ],
      "execution_count": null,
      "outputs": [
        {
          "output_type": "stream",
          "text": [
            "[('Drama', (0.29422941532885605, 2.897036523179112e-101)), ('Biography', (0.1563098474509413, 5.971511684840047e-29)), ('title_year_nan', (0.14750633910264221, 6.2782353245904e-26)), ('color_ Black and White', (0.14511424068479978, 3.870767484243074e-25)), ('director_name_nan', (0.14265081749456862, 2.4404929097514546e-24)), ('History', (0.11796197270495679, 4.3063733951378196e-17)), ('War', (0.1172785764922972, 6.53150104277031e-17)), ('country_UK', (0.10440506080030316, 1.0639360612090511e-13)), ('Documentary', (0.10285853660931761, 2.4426414031850694e-13)), ('content_rating_TV-MA', (0.10140154955889742, 5.284971995462917e-13))]\n",
            "\n",
            "[('director_name_Jason Friedberg', (-0.09622248026201692, 7.523046586024538e-12)), ('box office flop', (-0.09625039771280854, 7.418836459513909e-12)), ('Action', (-0.09787152587552678, 3.2779635827784732e-12)), ('critically bashed', (-0.10119574250537411, 5.88855912448143e-13)), ('content_rating_PG-13', (-0.10481909154206603, 8.499266605835058e-14)), ('country_USA', (-0.11654726203308143, 1.0172635230571923e-16)), ('color_Color', (-0.13318628098763238, 2.1375792737277724e-21)), ('language_English', (-0.14473309125407413, 5.157550099937554e-25)), ('Comedy', (-0.16861936132237526, 1.764060749004551e-33)), ('Horror', (-0.18900056629701764, 9.007147075734644e-42))]\n"
          ],
          "name": "stdout"
        }
      ]
    },
    {
      "cell_type": "code",
      "metadata": {
        "id": "GbO-nYTs5ndS",
        "colab_type": "code",
        "colab": {}
      },
      "source": [
        "predictors=[\"Drama\",\"Biography\",\"director_facebook_likes\", \"title_year_nan\",\"color_ Black and White\",\n",
        "            \"director_name_nan\",\"History\",\"War\", \"country_UK\",\"Documentary\", \"content_rating_TV-MA\",\n",
        "            \"director_name_Jason Friedberg\",\"box office flop\",\"Action\",\"critically bashed\",\"content_rating_PG-13\", \"country_USA\",\"color_Color\", \"language_English\",\"Comedy\",\"Horror\"]"
      ],
      "execution_count": null,
      "outputs": []
    },
    {
      "cell_type": "code",
      "metadata": {
        "id": "Wjkh0_kP-DdP",
        "colab_type": "code",
        "colab": {
          "base_uri": "https://localhost:8080/",
          "height": 675
        },
        "outputId": "8640d296-7ae2-4b36-c203-8627f54a73cd"
      },
      "source": [
        "corrmat = dataset[predictors].corr()\n",
        "\n",
        "plt.figure(figsize=(10,8))\n",
        "sns.heatmap(corrmat, vmax=.75)\n",
        "plt.title( 'Correlation matrix for all relevant predictors \\n Remove \"color_Black and White\" &\"title_year_nan\"')"
      ],
      "execution_count": null,
      "outputs": [
        {
          "output_type": "execute_result",
          "data": {
            "text/plain": [
              "Text(0.5, 1.0, 'Correlation matrix for all relevant predictors \\n Remove \"color_Black and White\" &\"title_year_nan\"')"
            ]
          },
          "metadata": {
            "tags": []
          },
          "execution_count": 34
        },
        {
          "output_type": "display_data",
          "data": {
            "image/png": "[encoded data removed]",
            "text/plain": [
              "<Figure size 720x576 with 2 Axes>"
            ]
          },
          "metadata": {
            "tags": []
          }
        }
      ]
    },
    {
      "cell_type": "code",
      "metadata": {
        "id": "KX9DJRL_BW4o",
        "colab_type": "code",
        "colab": {
          "base_uri": "https://localhost:8080/",
          "height": 336
        },
        "outputId": "11a40ca8-40f8-4aa6-fea9-99ec14f551b2"
      },
      "source": [
        "predictors.remove('color_ Black and White')\n",
        "predictors.remove('title_year_nan')\n",
        "predictors"
      ],
      "execution_count": null,
      "outputs": [
        {
          "output_type": "execute_result",
          "data": {
            "text/plain": [
              "['Drama',\n",
              " 'Biography',\n",
              " 'director_facebook_likes',\n",
              " 'director_name_nan',\n",
              " 'History',\n",
              " 'War',\n",
              " 'country_UK',\n",
              " 'Documentary',\n",
              " 'content_rating_TV-MA',\n",
              " 'director_name_Jason Friedberg',\n",
              " 'box office flop',\n",
              " 'Action',\n",
              " 'critically bashed',\n",
              " 'content_rating_PG-13',\n",
              " 'country_USA',\n",
              " 'color_Color',\n",
              " 'language_English',\n",
              " 'Comedy',\n",
              " 'Horror']"
            ]
          },
          "metadata": {
            "tags": []
          },
          "execution_count": 35
        }
      ]
    },
    {
      "cell_type": "code",
      "metadata": {
        "id": "YpKChljdtDwl",
        "colab_type": "code",
        "colab": {
          "base_uri": "https://localhost:8080/",
          "height": 202
        },
        "outputId": "f774ba84-0daa-4f78-8eaf-6b2470c0150e"
      },
      "source": [
        "numeric_features"
      ],
      "execution_count": null,
      "outputs": [
        {
          "output_type": "execute_result",
          "data": {
            "text/plain": [
              "['duration',\n",
              " 'director_facebook_likes',\n",
              " 'actor_3_facebook_likes',\n",
              " 'actor_1_facebook_likes',\n",
              " 'gross',\n",
              " 'facenumber_in_poster',\n",
              " 'budget',\n",
              " 'actor_2_facebook_likes',\n",
              " 'aspect_ratio',\n",
              " 'movie_facebook_likes',\n",
              " 'num_user_voted_reviews']"
            ]
          },
          "metadata": {
            "tags": []
          },
          "execution_count": 36
        }
      ]
    },
    {
      "cell_type": "code",
      "metadata": {
        "id": "yr5DofwXDdNB",
        "colab_type": "code",
        "colab": {
          "base_uri": "https://localhost:8080/",
          "height": 521
        },
        "outputId": "ee7b0543-9518-4777-94aa-54e0d88ef753"
      },
      "source": [
        "selectedfeatures=predictors+numeric_features\n",
        "selectedfeatures"
      ],
      "execution_count": null,
      "outputs": [
        {
          "output_type": "execute_result",
          "data": {
            "text/plain": [
              "['Drama',\n",
              " 'Biography',\n",
              " 'director_facebook_likes',\n",
              " 'director_name_nan',\n",
              " 'History',\n",
              " 'War',\n",
              " 'country_UK',\n",
              " 'Documentary',\n",
              " 'content_rating_TV-MA',\n",
              " 'director_name_Jason Friedberg',\n",
              " 'box office flop',\n",
              " 'Action',\n",
              " 'critically bashed',\n",
              " 'content_rating_PG-13',\n",
              " 'country_USA',\n",
              " 'color_Color',\n",
              " 'language_English',\n",
              " 'Comedy',\n",
              " 'Horror',\n",
              " 'duration',\n",
              " 'director_facebook_likes',\n",
              " 'actor_3_facebook_likes',\n",
              " 'actor_1_facebook_likes',\n",
              " 'gross',\n",
              " 'facenumber_in_poster',\n",
              " 'budget',\n",
              " 'actor_2_facebook_likes',\n",
              " 'aspect_ratio',\n",
              " 'movie_facebook_likes',\n",
              " 'num_user_voted_reviews']"
            ]
          },
          "metadata": {
            "tags": []
          },
          "execution_count": 37
        }
      ]
    },
    {
      "cell_type": "markdown",
      "metadata": {
        "id": "TSEsrHr2SP2X",
        "colab_type": "text"
      },
      "source": [
        "#### Train & Test Data Preparation"
      ]
    },
    {
      "cell_type": "code",
      "metadata": {
        "id": "dWFdU2tlS4lJ",
        "colab_type": "code",
        "colab": {
          "base_uri": "https://localhost:8080/",
          "height": 151
        },
        "outputId": "9833c483-a7ed-4e00-cf35-41927d5e4d5a"
      },
      "source": [
        "X_train_full,X_test,y_train_full,y_test=train_test_split(dataset[selectedfeatures],target,test_size=0.25, random_state=40)\n",
        "\n",
        "X_train,X_valid,y_train,y_valid=train_test_split(X_train_full,y_train_full,test_size=0.25, random_state=40)\n",
        "\n",
        "print( \"shape of X_train_full:\",X_train_full.shape)\n",
        "print( \"shape of X_test:\",X_test.shape)\n",
        "print( \"shape of y_train_full:\",y_train_full.shape)\n",
        "print( \"shape of y_test:\",y_test.shape)\n",
        "print( \"shape of X_train:\",X_train.shape)\n",
        "print( \"shape of X_valid:\",X_valid.shape)\n",
        "print( \"shape of y_train:\",y_train.shape)\n",
        "print( \"shape of y_valid:\",y_valid.shape)"
      ],
      "execution_count": null,
      "outputs": [
        {
          "output_type": "stream",
          "text": [
            "shape of X_train_full: (3782, 30)\n",
            "shape of X_test: (1261, 30)\n",
            "shape of y_train_full: (3782,)\n",
            "shape of y_test: (1261,)\n",
            "shape of X_train: (2836, 30)\n",
            "shape of X_valid: (946, 30)\n",
            "shape of y_train: (2836,)\n",
            "shape of y_valid: (946,)\n"
          ],
          "name": "stdout"
        }
      ]
    },
    {
      "cell_type": "code",
      "metadata": {
        "id": "KU8TxdeLbq-t",
        "colab_type": "code",
        "colab": {
          "base_uri": "https://localhost:8080/",
          "height": 420
        },
        "outputId": "5035185a-2d73-4839-edde-c68afa9ce373"
      },
      "source": [
        "scaler=StandardScaler()\n",
        "X_train[numeric_features]=scaler.fit_transform(X_train[numeric_features])\n",
        "X_test[numeric_features]=scaler.transform(X_test[numeric_features])\n",
        "X_valid[numeric_features]=scaler.transform(X_valid[numeric_features])"
      ],
      "execution_count": null,
      "outputs": [
        {
          "output_type": "stream",
          "text": [
            "/usr/local/lib/python3.6/dist-packages/ipykernel_launcher.py:2: SettingWithCopyWarning: \n",
            "A value is trying to be set on a copy of a slice from a DataFrame.\n",
            "Try using .loc[row_indexer,col_indexer] = value instead\n",
            "\n",
            "See the caveats in the documentation: https://pandas.pydata.org/pandas-docs/stable/user_guide/indexing.html#returning-a-view-versus-a-copy\n",
            "  \n",
            "/usr/local/lib/python3.6/dist-packages/pandas/core/indexing.py:966: SettingWithCopyWarning: \n",
            "A value is trying to be set on a copy of a slice from a DataFrame.\n",
            "Try using .loc[row_indexer,col_indexer] = value instead\n",
            "\n",
            "See the caveats in the documentation: https://pandas.pydata.org/pandas-docs/stable/user_guide/indexing.html#returning-a-view-versus-a-copy\n",
            "  self.obj[item] = s\n",
            "/usr/local/lib/python3.6/dist-packages/ipykernel_launcher.py:4: SettingWithCopyWarning: \n",
            "A value is trying to be set on a copy of a slice from a DataFrame.\n",
            "Try using .loc[row_indexer,col_indexer] = value instead\n",
            "\n",
            "See the caveats in the documentation: https://pandas.pydata.org/pandas-docs/stable/user_guide/indexing.html#returning-a-view-versus-a-copy\n",
            "  after removing the cwd from sys.path.\n",
            "/usr/local/lib/python3.6/dist-packages/pandas/core/indexing.py:966: SettingWithCopyWarning: \n",
            "A value is trying to be set on a copy of a slice from a DataFrame.\n",
            "Try using .loc[row_indexer,col_indexer] = value instead\n",
            "\n",
            "See the caveats in the documentation: https://pandas.pydata.org/pandas-docs/stable/user_guide/indexing.html#returning-a-view-versus-a-copy\n",
            "  self.obj[item] = s\n"
          ],
          "name": "stderr"
        }
      ]
    },
    {
      "cell_type": "markdown",
      "metadata": {
        "id": "O5j2srs3UAe_",
        "colab_type": "text"
      },
      "source": [
        "### Neural Net (Sequential)"
      ]
    },
    {
      "cell_type": "code",
      "metadata": {
        "id": "Iu7aRnizXleE",
        "colab_type": "code",
        "colab": {}
      },
      "source": [
        "params={\n",
        "    \"n_hidden\":[1,2,3,4],\n",
        "    \"n_neurons\": np.arange(10,300),\n",
        "    \"learning_rate\":reciprocal(1e-3, 1)\n",
        "}"
      ],
      "execution_count": null,
      "outputs": []
    },
    {
      "cell_type": "code",
      "metadata": {
        "id": "wxL8_MLOXFuc",
        "colab_type": "code",
        "colab": {}
      },
      "source": [
        "def create_model(n_hidden=1,n_neurons=100,learning_rate=1e-3,input_shape=X_train.shape[1:]):\n",
        "  model= keras.models.Sequential()\n",
        "  model.add(keras.layers.Dense(n_neurons,input_shape=input_shape))\n",
        "  for layer in range(n_hidden):\n",
        "    model.add(keras.layers.Dense(n_neurons, kernel_initializer='he_normal'))\n",
        "    model.add(keras.layers.LeakyReLU(alpha=0.2))\n",
        "  model.add(keras.layers.Dense(1))\n",
        "  optimizer=keras.optimizers.SGD(learning_rate=learning_rate)\n",
        "  model.compile(loss=keras.losses.mean_squared_error, optimizer=optimizer, metrics=['accuracy'] )\n",
        "\n",
        "  return model"
      ],
      "execution_count": null,
      "outputs": []
    },
    {
      "cell_type": "code",
      "metadata": {
        "id": "ZpWdBjqNZkbJ",
        "colab_type": "code",
        "colab": {}
      },
      "source": [
        "keras_clas= keras.wrappers.scikit_learn.KerasRegressor(create_model)"
      ],
      "execution_count": null,
      "outputs": []
    },
    {
      "cell_type": "code",
      "metadata": {
        "id": "h5Tu1PI4YaMu",
        "colab_type": "code",
        "colab": {
          "base_uri": "https://localhost:8080/",
          "height": 1000
        },
        "outputId": "96b37d35-9efa-4f34-84bd-53364996ce54"
      },
      "source": [
        "rnd_cv= RandomizedSearchCV(keras_clas, params, n_iter=10)\n",
        "rnd_cv.fit(X_train,y_train, epochs=30,\n",
        "           validation_data=(X_valid, y_valid),\n",
        "           callbacks=[keras.callbacks.EarlyStopping(patience=5)])"
      ],
      "execution_count": null,
      "outputs": [
        {
          "output_type": "stream",
          "text": [
            "Epoch 1/30\n",
            "71/71 [==============================] - 0s 5ms/step - loss: nan - accuracy: 0.0000e+00 - val_loss: nan - val_accuracy: 0.0000e+00\n",
            "Epoch 2/30\n",
            "71/71 [==============================] - 0s 4ms/step - loss: nan - accuracy: 0.0000e+00 - val_loss: nan - val_accuracy: 0.0000e+00\n",
            "Epoch 3/30\n",
            "71/71 [==============================] - 0s 4ms/step - loss: nan - accuracy: 0.0000e+00 - val_loss: nan - val_accuracy: 0.0000e+00\n",
            "Epoch 4/30\n",
            "71/71 [==============================] - 0s 4ms/step - loss: nan - accuracy: 0.0000e+00 - val_loss: nan - val_accuracy: 0.0000e+00\n",
            "Epoch 5/30\n",
            "71/71 [==============================] - 0s 4ms/step - loss: nan - accuracy: 0.0000e+00 - val_loss: nan - val_accuracy: 0.0000e+00\n",
            "18/18 [==============================] - 0s 2ms/step - loss: nan - accuracy: 0.0000e+00\n",
            "Epoch 1/30\n",
            "71/71 [==============================] - 0s 5ms/step - loss: nan - accuracy: 0.0000e+00 - val_loss: nan - val_accuracy: 0.0000e+00\n",
            "Epoch 2/30\n",
            "71/71 [==============================] - 0s 4ms/step - loss: nan - accuracy: 0.0000e+00 - val_loss: nan - val_accuracy: 0.0000e+00\n",
            "Epoch 3/30\n",
            "71/71 [==============================] - 0s 4ms/step - loss: nan - accuracy: 0.0000e+00 - val_loss: nan - val_accuracy: 0.0000e+00\n",
            "Epoch 4/30\n",
            "71/71 [==============================] - 0s 4ms/step - loss: nan - accuracy: 0.0000e+00 - val_loss: nan - val_accuracy: 0.0000e+00\n",
            "Epoch 5/30\n",
            "71/71 [==============================] - 0s 4ms/step - loss: nan - accuracy: 0.0000e+00 - val_loss: nan - val_accuracy: 0.0000e+00\n",
            "18/18 [==============================] - 0s 2ms/step - loss: nan - accuracy: 0.0000e+00\n",
            "Epoch 1/30\n",
            "71/71 [==============================] - 0s 4ms/step - loss: nan - accuracy: 0.0000e+00 - val_loss: nan - val_accuracy: 0.0000e+00\n",
            "Epoch 2/30\n",
            "71/71 [==============================] - 0s 4ms/step - loss: nan - accuracy: 0.0000e+00 - val_loss: nan - val_accuracy: 0.0000e+00\n",
            "Epoch 3/30\n",
            "71/71 [==============================] - 0s 4ms/step - loss: nan - accuracy: 0.0000e+00 - val_loss: nan - val_accuracy: 0.0000e+00\n",
            "Epoch 4/30\n",
            "71/71 [==============================] - 0s 4ms/step - loss: nan - accuracy: 0.0000e+00 - val_loss: nan - val_accuracy: 0.0000e+00\n",
            "Epoch 5/30\n",
            "71/71 [==============================] - 0s 4ms/step - loss: nan - accuracy: 0.0000e+00 - val_loss: nan - val_accuracy: 0.0000e+00\n",
            "18/18 [==============================] - 0s 2ms/step - loss: nan - accuracy: 0.0000e+00\n",
            "Epoch 1/30\n",
            "71/71 [==============================] - 0s 5ms/step - loss: nan - accuracy: 0.0000e+00 - val_loss: nan - val_accuracy: 0.0000e+00\n",
            "Epoch 2/30\n",
            "71/71 [==============================] - 0s 4ms/step - loss: nan - accuracy: 0.0000e+00 - val_loss: nan - val_accuracy: 0.0000e+00\n",
            "Epoch 3/30\n",
            "71/71 [==============================] - 0s 4ms/step - loss: nan - accuracy: 0.0000e+00 - val_loss: nan - val_accuracy: 0.0000e+00\n",
            "Epoch 4/30\n",
            "71/71 [==============================] - 0s 4ms/step - loss: nan - accuracy: 0.0000e+00 - val_loss: nan - val_accuracy: 0.0000e+00\n",
            "Epoch 5/30\n",
            "71/71 [==============================] - 0s 4ms/step - loss: nan - accuracy: 0.0000e+00 - val_loss: nan - val_accuracy: 0.0000e+00\n",
            "18/18 [==============================] - 0s 2ms/step - loss: nan - accuracy: 0.0000e+00\n",
            "Epoch 1/30\n",
            "71/71 [==============================] - 0s 5ms/step - loss: nan - accuracy: 0.0000e+00 - val_loss: nan - val_accuracy: 0.0000e+00\n",
            "Epoch 2/30\n",
            "71/71 [==============================] - 0s 4ms/step - loss: nan - accuracy: 0.0000e+00 - val_loss: nan - val_accuracy: 0.0000e+00\n",
            "Epoch 3/30\n",
            "71/71 [==============================] - 0s 4ms/step - loss: nan - accuracy: 0.0000e+00 - val_loss: nan - val_accuracy: 0.0000e+00\n",
            "Epoch 4/30\n",
            "71/71 [==============================] - 0s 4ms/step - loss: nan - accuracy: 0.0000e+00 - val_loss: nan - val_accuracy: 0.0000e+00\n",
            "Epoch 5/30\n",
            "71/71 [==============================] - 0s 4ms/step - loss: nan - accuracy: 0.0000e+00 - val_loss: nan - val_accuracy: 0.0000e+00\n",
            "18/18 [==============================] - 0s 2ms/step - loss: nan - accuracy: 0.0000e+00\n",
            "Epoch 1/30\n",
            "71/71 [==============================] - 0s 5ms/step - loss: 3.4370 - accuracy: 0.0000e+00 - val_loss: 1.4709 - val_accuracy: 0.0000e+00\n",
            "Epoch 2/30\n",
            "71/71 [==============================] - 0s 4ms/step - loss: 1.6196 - accuracy: 0.0000e+00 - val_loss: 1.0623 - val_accuracy: 0.0000e+00\n",
            "Epoch 3/30\n",
            "71/71 [==============================] - 0s 4ms/step - loss: 2.1311 - accuracy: 0.0000e+00 - val_loss: 1.6789 - val_accuracy: 0.0000e+00\n",
            "Epoch 4/30\n",
            "71/71 [==============================] - 0s 4ms/step - loss: 1.1088 - accuracy: 0.0000e+00 - val_loss: 0.8746 - val_accuracy: 0.0000e+00\n",
            "Epoch 5/30\n",
            "71/71 [==============================] - 0s 4ms/step - loss: 0.9652 - accuracy: 0.0000e+00 - val_loss: 0.9742 - val_accuracy: 0.0000e+00\n",
            "Epoch 6/30\n",
            "71/71 [==============================] - 0s 4ms/step - loss: 0.8639 - accuracy: 0.0000e+00 - val_loss: 0.8105 - val_accuracy: 0.0000e+00\n",
            "Epoch 7/30\n",
            "71/71 [==============================] - 0s 4ms/step - loss: 0.8459 - accuracy: 0.0000e+00 - val_loss: 0.8398 - val_accuracy: 0.0000e+00\n",
            "Epoch 8/30\n",
            "71/71 [==============================] - 0s 4ms/step - loss: 0.7771 - accuracy: 0.0000e+00 - val_loss: 0.7954 - val_accuracy: 0.0000e+00\n",
            "Epoch 9/30\n",
            "71/71 [==============================] - 0s 4ms/step - loss: 0.7767 - accuracy: 0.0000e+00 - val_loss: 0.8283 - val_accuracy: 0.0000e+00\n",
            "Epoch 10/30\n",
            "71/71 [==============================] - 0s 4ms/step - loss: 0.7288 - accuracy: 0.0000e+00 - val_loss: 0.7175 - val_accuracy: 0.0000e+00\n",
            "Epoch 11/30\n",
            "71/71 [==============================] - 0s 4ms/step - loss: 0.6931 - accuracy: 0.0000e+00 - val_loss: 0.6835 - val_accuracy: 0.0000e+00\n",
            "Epoch 12/30\n",
            "71/71 [==============================] - 0s 4ms/step - loss: 0.6811 - accuracy: 0.0000e+00 - val_loss: 0.6836 - val_accuracy: 0.0000e+00\n",
            "Epoch 13/30\n",
            "71/71 [==============================] - 0s 4ms/step - loss: 0.6867 - accuracy: 0.0000e+00 - val_loss: 0.7987 - val_accuracy: 0.0000e+00\n",
            "Epoch 14/30\n",
            "71/71 [==============================] - 0s 4ms/step - loss: 0.6781 - accuracy: 0.0000e+00 - val_loss: 0.7294 - val_accuracy: 0.0000e+00\n",
            "Epoch 15/30\n",
            "71/71 [==============================] - 0s 4ms/step - loss: 0.6596 - accuracy: 0.0000e+00 - val_loss: 0.6881 - val_accuracy: 0.0000e+00\n",
            "Epoch 16/30\n",
            "71/71 [==============================] - 0s 4ms/step - loss: 0.6573 - accuracy: 0.0000e+00 - val_loss: 0.7730 - val_accuracy: 0.0000e+00\n",
            "18/18 [==============================] - 0s 2ms/step - loss: 0.8775 - accuracy: 0.0000e+00\n",
            "Epoch 1/30\n",
            "71/71 [==============================] - 0s 5ms/step - loss: 3.8682 - accuracy: 0.0000e+00 - val_loss: 1.6612 - val_accuracy: 0.0000e+00\n",
            "Epoch 2/30\n",
            "71/71 [==============================] - 0s 4ms/step - loss: 1.4773 - accuracy: 0.0000e+00 - val_loss: 1.1360 - val_accuracy: 0.0000e+00\n",
            "Epoch 3/30\n",
            "71/71 [==============================] - 0s 4ms/step - loss: 1.1969 - accuracy: 0.0000e+00 - val_loss: 1.1014 - val_accuracy: 0.0000e+00\n",
            "Epoch 4/30\n",
            "71/71 [==============================] - 0s 4ms/step - loss: 1.0955 - accuracy: 0.0000e+00 - val_loss: 0.9366 - val_accuracy: 0.0000e+00\n",
            "Epoch 5/30\n",
            "71/71 [==============================] - 0s 4ms/step - loss: 0.9671 - accuracy: 0.0000e+00 - val_loss: 0.9345 - val_accuracy: 0.0000e+00\n",
            "Epoch 6/30\n",
            "71/71 [==============================] - 0s 4ms/step - loss: 0.8787 - accuracy: 0.0000e+00 - val_loss: 0.8058 - val_accuracy: 0.0000e+00\n",
            "Epoch 7/30\n",
            "71/71 [==============================] - 0s 4ms/step - loss: 0.8025 - accuracy: 0.0000e+00 - val_loss: 0.7799 - val_accuracy: 0.0000e+00\n",
            "Epoch 8/30\n",
            "71/71 [==============================] - 0s 4ms/step - loss: 0.7659 - accuracy: 0.0000e+00 - val_loss: 0.8346 - val_accuracy: 0.0000e+00\n",
            "Epoch 9/30\n",
            "71/71 [==============================] - 0s 4ms/step - loss: 0.7566 - accuracy: 0.0000e+00 - val_loss: 1.0988 - val_accuracy: 0.0000e+00\n",
            "Epoch 10/30\n",
            "71/71 [==============================] - 0s 4ms/step - loss: 0.7396 - accuracy: 0.0000e+00 - val_loss: 0.7388 - val_accuracy: 0.0000e+00\n",
            "Epoch 11/30\n",
            "71/71 [==============================] - 0s 4ms/step - loss: 0.7285 - accuracy: 0.0000e+00 - val_loss: 0.7139 - val_accuracy: 0.0000e+00\n",
            "Epoch 12/30\n",
            "71/71 [==============================] - 0s 4ms/step - loss: 0.7059 - accuracy: 0.0000e+00 - val_loss: 0.7021 - val_accuracy: 0.0000e+00\n",
            "Epoch 13/30\n",
            "71/71 [==============================] - 0s 4ms/step - loss: 0.6731 - accuracy: 0.0000e+00 - val_loss: 0.6792 - val_accuracy: 0.0000e+00\n",
            "Epoch 14/30\n",
            "71/71 [==============================] - 0s 4ms/step - loss: 0.6664 - accuracy: 0.0000e+00 - val_loss: 0.6939 - val_accuracy: 0.0000e+00\n",
            "Epoch 15/30\n",
            "71/71 [==============================] - 0s 3ms/step - loss: 0.6842 - accuracy: 0.0000e+00 - val_loss: 0.6752 - val_accuracy: 0.0000e+00\n",
            "Epoch 16/30\n",
            "71/71 [==============================] - 0s 4ms/step - loss: 0.6618 - accuracy: 0.0000e+00 - val_loss: 0.7024 - val_accuracy: 0.0000e+00\n",
            "Epoch 17/30\n",
            "71/71 [==============================] - 0s 4ms/step - loss: 0.6486 - accuracy: 0.0000e+00 - val_loss: 0.6814 - val_accuracy: 0.0000e+00\n",
            "Epoch 18/30\n",
            "71/71 [==============================] - 0s 4ms/step - loss: 0.6263 - accuracy: 0.0000e+00 - val_loss: 0.6622 - val_accuracy: 0.0000e+00\n",
            "Epoch 19/30\n",
            "71/71 [==============================] - 0s 4ms/step - loss: 0.6344 - accuracy: 0.0000e+00 - val_loss: 0.7555 - val_accuracy: 0.0000e+00\n",
            "Epoch 20/30\n",
            "71/71 [==============================] - 0s 4ms/step - loss: 0.6489 - accuracy: 0.0000e+00 - val_loss: 0.6918 - val_accuracy: 0.0000e+00\n",
            "Epoch 21/30\n",
            "71/71 [==============================] - 0s 4ms/step - loss: 0.6323 - accuracy: 0.0000e+00 - val_loss: 0.7397 - val_accuracy: 0.0000e+00\n",
            "Epoch 22/30\n",
            "71/71 [==============================] - 0s 4ms/step - loss: 0.6136 - accuracy: 0.0000e+00 - val_loss: 0.7484 - val_accuracy: 0.0000e+00\n",
            "Epoch 23/30\n",
            "71/71 [==============================] - 0s 4ms/step - loss: 0.6130 - accuracy: 0.0000e+00 - val_loss: 0.6570 - val_accuracy: 0.0000e+00\n",
            "Epoch 24/30\n",
            "71/71 [==============================] - 0s 4ms/step - loss: 0.6081 - accuracy: 0.0000e+00 - val_loss: 0.7400 - val_accuracy: 0.0000e+00\n",
            "Epoch 25/30\n",
            "71/71 [==============================] - 0s 4ms/step - loss: 0.6117 - accuracy: 0.0000e+00 - val_loss: 0.6778 - val_accuracy: 0.0000e+00\n",
            "Epoch 26/30\n",
            "71/71 [==============================] - 0s 4ms/step - loss: 0.5973 - accuracy: 0.0000e+00 - val_loss: 0.6810 - val_accuracy: 0.0000e+00\n",
            "Epoch 27/30\n",
            "71/71 [==============================] - 0s 4ms/step - loss: 0.6108 - accuracy: 0.0000e+00 - val_loss: 0.6701 - val_accuracy: 0.0000e+00\n",
            "Epoch 28/30\n",
            "71/71 [==============================] - 0s 4ms/step - loss: 0.5966 - accuracy: 0.0000e+00 - val_loss: 0.6681 - val_accuracy: 0.0000e+00\n",
            "18/18 [==============================] - 0s 2ms/step - loss: 0.7382 - accuracy: 0.0000e+00\n",
            "Epoch 1/30\n",
            "71/71 [==============================] - 0s 5ms/step - loss: 4.6893 - accuracy: 0.0000e+00 - val_loss: 1.3444 - val_accuracy: 0.0000e+00\n",
            "Epoch 2/30\n",
            "71/71 [==============================] - 0s 4ms/step - loss: 1.4792 - accuracy: 0.0000e+00 - val_loss: 1.2853 - val_accuracy: 0.0000e+00\n",
            "Epoch 3/30\n",
            "71/71 [==============================] - 0s 4ms/step - loss: 1.2869 - accuracy: 0.0000e+00 - val_loss: 0.9842 - val_accuracy: 0.0000e+00\n",
            "Epoch 4/30\n",
            "71/71 [==============================] - 0s 3ms/step - loss: 1.0731 - accuracy: 0.0000e+00 - val_loss: 0.9614 - val_accuracy: 0.0000e+00\n",
            "Epoch 5/30\n",
            "71/71 [==============================] - 0s 4ms/step - loss: 0.9622 - accuracy: 0.0000e+00 - val_loss: 0.8474 - val_accuracy: 0.0000e+00\n",
            "Epoch 6/30\n",
            "71/71 [==============================] - 0s 4ms/step - loss: 0.9154 - accuracy: 0.0000e+00 - val_loss: 0.8583 - val_accuracy: 0.0000e+00\n",
            "Epoch 7/30\n",
            "71/71 [==============================] - 0s 4ms/step - loss: 0.8749 - accuracy: 0.0000e+00 - val_loss: 0.7620 - val_accuracy: 0.0000e+00\n",
            "Epoch 8/30\n",
            "71/71 [==============================] - 0s 4ms/step - loss: 0.8104 - accuracy: 0.0000e+00 - val_loss: 0.8899 - val_accuracy: 0.0000e+00\n",
            "Epoch 9/30\n",
            "71/71 [==============================] - 0s 4ms/step - loss: 0.7750 - accuracy: 0.0000e+00 - val_loss: 0.6912 - val_accuracy: 0.0000e+00\n",
            "Epoch 10/30\n",
            "71/71 [==============================] - 0s 4ms/step - loss: 0.8085 - accuracy: 0.0000e+00 - val_loss: 0.8639 - val_accuracy: 0.0000e+00\n",
            "Epoch 11/30\n",
            "71/71 [==============================] - 0s 4ms/step - loss: 0.7400 - accuracy: 0.0000e+00 - val_loss: 0.6954 - val_accuracy: 0.0000e+00\n",
            "Epoch 12/30\n",
            "71/71 [==============================] - 0s 4ms/step - loss: 0.7121 - accuracy: 0.0000e+00 - val_loss: 0.7198 - val_accuracy: 0.0000e+00\n",
            "Epoch 13/30\n",
            "71/71 [==============================] - 0s 4ms/step - loss: 0.7156 - accuracy: 0.0000e+00 - val_loss: 0.7334 - val_accuracy: 0.0000e+00\n",
            "Epoch 14/30\n",
            "71/71 [==============================] - 0s 4ms/step - loss: 0.6874 - accuracy: 0.0000e+00 - val_loss: 0.7179 - val_accuracy: 0.0000e+00\n",
            "18/18 [==============================] - 0s 2ms/step - loss: 0.7099 - accuracy: 0.0000e+00\n",
            "Epoch 1/30\n",
            "71/71 [==============================] - 0s 5ms/step - loss: 3.1308 - accuracy: 0.0000e+00 - val_loss: 2.1864 - val_accuracy: 0.0000e+00\n",
            "Epoch 2/30\n",
            "71/71 [==============================] - 0s 4ms/step - loss: 1.7392 - accuracy: 0.0000e+00 - val_loss: 0.9802 - val_accuracy: 0.0000e+00\n",
            "Epoch 3/30\n",
            "71/71 [==============================] - 0s 4ms/step - loss: 1.2607 - accuracy: 0.0000e+00 - val_loss: 0.9279 - val_accuracy: 0.0000e+00\n",
            "Epoch 4/30\n",
            "71/71 [==============================] - 0s 4ms/step - loss: 0.9628 - accuracy: 0.0000e+00 - val_loss: 0.8275 - val_accuracy: 0.0000e+00\n",
            "Epoch 5/30\n",
            "71/71 [==============================] - 0s 4ms/step - loss: 0.8551 - accuracy: 0.0000e+00 - val_loss: 0.9242 - val_accuracy: 0.0000e+00\n",
            "Epoch 6/30\n",
            "71/71 [==============================] - 0s 4ms/step - loss: 0.8292 - accuracy: 0.0000e+00 - val_loss: 0.7710 - val_accuracy: 0.0000e+00\n",
            "Epoch 7/30\n",
            "71/71 [==============================] - 0s 4ms/step - loss: 0.7749 - accuracy: 0.0000e+00 - val_loss: 0.7299 - val_accuracy: 0.0000e+00\n",
            "Epoch 8/30\n",
            "71/71 [==============================] - 0s 4ms/step - loss: 0.7200 - accuracy: 0.0000e+00 - val_loss: 0.7136 - val_accuracy: 0.0000e+00\n",
            "Epoch 9/30\n",
            "71/71 [==============================] - 0s 4ms/step - loss: 0.7333 - accuracy: 0.0000e+00 - val_loss: 0.7301 - val_accuracy: 0.0000e+00\n",
            "Epoch 10/30\n",
            "71/71 [==============================] - 0s 4ms/step - loss: 0.6904 - accuracy: 0.0000e+00 - val_loss: 0.7035 - val_accuracy: 0.0000e+00\n",
            "Epoch 11/30\n",
            "71/71 [==============================] - 0s 4ms/step - loss: 0.6762 - accuracy: 0.0000e+00 - val_loss: 0.7429 - val_accuracy: 0.0000e+00\n",
            "Epoch 12/30\n",
            "71/71 [==============================] - 0s 4ms/step - loss: 0.6857 - accuracy: 0.0000e+00 - val_loss: 0.7020 - val_accuracy: 0.0000e+00\n",
            "Epoch 13/30\n",
            "71/71 [==============================] - 0s 4ms/step - loss: 0.6633 - accuracy: 0.0000e+00 - val_loss: 0.6772 - val_accuracy: 0.0000e+00\n",
            "Epoch 14/30\n",
            "71/71 [==============================] - 0s 4ms/step - loss: 0.6378 - accuracy: 0.0000e+00 - val_loss: 0.6820 - val_accuracy: 0.0000e+00\n",
            "Epoch 15/30\n",
            "71/71 [==============================] - 0s 4ms/step - loss: 0.6338 - accuracy: 0.0000e+00 - val_loss: 0.7354 - val_accuracy: 0.0000e+00\n",
            "Epoch 16/30\n",
            "71/71 [==============================] - 0s 4ms/step - loss: 0.6256 - accuracy: 0.0000e+00 - val_loss: 0.6651 - val_accuracy: 0.0000e+00\n",
            "Epoch 17/30\n",
            "71/71 [==============================] - 0s 4ms/step - loss: 0.6209 - accuracy: 0.0000e+00 - val_loss: 0.6748 - val_accuracy: 0.0000e+00\n",
            "Epoch 18/30\n",
            "71/71 [==============================] - 0s 4ms/step - loss: 0.6159 - accuracy: 0.0000e+00 - val_loss: 0.6554 - val_accuracy: 0.0000e+00\n",
            "Epoch 19/30\n",
            "71/71 [==============================] - 0s 4ms/step - loss: 0.5913 - accuracy: 0.0000e+00 - val_loss: 0.6870 - val_accuracy: 0.0000e+00\n",
            "Epoch 20/30\n",
            "71/71 [==============================] - 0s 4ms/step - loss: 0.6293 - accuracy: 0.0000e+00 - val_loss: 0.6493 - val_accuracy: 0.0000e+00\n",
            "Epoch 21/30\n",
            "71/71 [==============================] - 0s 4ms/step - loss: 0.5925 - accuracy: 0.0000e+00 - val_loss: 0.8188 - val_accuracy: 0.0000e+00\n",
            "Epoch 22/30\n",
            "71/71 [==============================] - 0s 4ms/step - loss: 0.5986 - accuracy: 0.0000e+00 - val_loss: 0.7123 - val_accuracy: 0.0000e+00\n",
            "Epoch 23/30\n",
            "71/71 [==============================] - 0s 4ms/step - loss: 0.5870 - accuracy: 0.0000e+00 - val_loss: 0.7253 - val_accuracy: 0.0000e+00\n",
            "Epoch 24/30\n",
            "71/71 [==============================] - 0s 4ms/step - loss: 0.5886 - accuracy: 0.0000e+00 - val_loss: 0.6613 - val_accuracy: 0.0000e+00\n",
            "Epoch 25/30\n",
            "71/71 [==============================] - 0s 4ms/step - loss: 0.5667 - accuracy: 0.0000e+00 - val_loss: 0.6685 - val_accuracy: 0.0000e+00\n",
            "18/18 [==============================] - 0s 2ms/step - loss: 0.9494 - accuracy: 0.0000e+00\n",
            "Epoch 1/30\n",
            "71/71 [==============================] - 0s 5ms/step - loss: 3.5260 - accuracy: 0.0000e+00 - val_loss: 1.3752 - val_accuracy: 0.0000e+00\n",
            "Epoch 2/30\n",
            "71/71 [==============================] - 0s 4ms/step - loss: 1.3864 - accuracy: 0.0000e+00 - val_loss: 1.3666 - val_accuracy: 0.0000e+00\n",
            "Epoch 3/30\n",
            "71/71 [==============================] - 0s 4ms/step - loss: 1.2723 - accuracy: 0.0000e+00 - val_loss: 1.0417 - val_accuracy: 0.0000e+00\n",
            "Epoch 4/30\n",
            "71/71 [==============================] - 0s 4ms/step - loss: 1.0657 - accuracy: 0.0000e+00 - val_loss: 0.9274 - val_accuracy: 0.0000e+00\n",
            "Epoch 5/30\n",
            "71/71 [==============================] - 0s 4ms/step - loss: 0.9672 - accuracy: 0.0000e+00 - val_loss: 0.8989 - val_accuracy: 0.0000e+00\n",
            "Epoch 6/30\n",
            "71/71 [==============================] - 0s 4ms/step - loss: 0.8832 - accuracy: 0.0000e+00 - val_loss: 0.7683 - val_accuracy: 0.0000e+00\n",
            "Epoch 7/30\n",
            "71/71 [==============================] - 0s 4ms/step - loss: 0.9061 - accuracy: 0.0000e+00 - val_loss: 0.8723 - val_accuracy: 0.0000e+00\n",
            "Epoch 8/30\n",
            "71/71 [==============================] - 0s 4ms/step - loss: 0.7926 - accuracy: 0.0000e+00 - val_loss: 0.7306 - val_accuracy: 0.0000e+00\n",
            "Epoch 9/30\n",
            "71/71 [==============================] - 0s 4ms/step - loss: 0.7958 - accuracy: 0.0000e+00 - val_loss: 1.1237 - val_accuracy: 0.0000e+00\n",
            "Epoch 10/30\n",
            "71/71 [==============================] - 0s 4ms/step - loss: 0.7550 - accuracy: 0.0000e+00 - val_loss: 0.7127 - val_accuracy: 0.0000e+00\n",
            "Epoch 11/30\n",
            "71/71 [==============================] - 0s 4ms/step - loss: 0.7615 - accuracy: 0.0000e+00 - val_loss: 0.7266 - val_accuracy: 0.0000e+00\n",
            "Epoch 12/30\n",
            "71/71 [==============================] - 0s 4ms/step - loss: 0.7228 - accuracy: 0.0000e+00 - val_loss: 0.6982 - val_accuracy: 0.0000e+00\n",
            "Epoch 13/30\n",
            "71/71 [==============================] - 0s 4ms/step - loss: 0.7620 - accuracy: 0.0000e+00 - val_loss: 0.7088 - val_accuracy: 0.0000e+00\n",
            "Epoch 14/30\n",
            "71/71 [==============================] - 0s 4ms/step - loss: 0.7033 - accuracy: 0.0000e+00 - val_loss: 0.6854 - val_accuracy: 0.0000e+00\n",
            "Epoch 15/30\n",
            "71/71 [==============================] - 0s 4ms/step - loss: 0.7085 - accuracy: 0.0000e+00 - val_loss: 0.6860 - val_accuracy: 0.0000e+00\n",
            "Epoch 16/30\n",
            "71/71 [==============================] - 0s 4ms/step - loss: 0.7481 - accuracy: 0.0000e+00 - val_loss: 0.7841 - val_accuracy: 0.0000e+00\n",
            "Epoch 17/30\n",
            "71/71 [==============================] - 0s 4ms/step - loss: 0.7259 - accuracy: 0.0000e+00 - val_loss: 0.6823 - val_accuracy: 0.0000e+00\n",
            "Epoch 18/30\n",
            "71/71 [==============================] - 0s 4ms/step - loss: 0.6917 - accuracy: 0.0000e+00 - val_loss: 0.7099 - val_accuracy: 0.0000e+00\n",
            "Epoch 19/30\n",
            "71/71 [==============================] - 0s 4ms/step - loss: 0.6689 - accuracy: 0.0000e+00 - val_loss: 0.7118 - val_accuracy: 0.0000e+00\n",
            "Epoch 20/30\n",
            "71/71 [==============================] - 0s 4ms/step - loss: 0.6916 - accuracy: 0.0000e+00 - val_loss: 0.7102 - val_accuracy: 0.0000e+00\n",
            "Epoch 21/30\n",
            "71/71 [==============================] - 0s 4ms/step - loss: 0.6641 - accuracy: 0.0000e+00 - val_loss: 0.7221 - val_accuracy: 0.0000e+00\n",
            "Epoch 22/30\n",
            "71/71 [==============================] - 0s 4ms/step - loss: 0.6612 - accuracy: 0.0000e+00 - val_loss: 0.7301 - val_accuracy: 0.0000e+00\n",
            "18/18 [==============================] - 0s 2ms/step - loss: 0.6136 - accuracy: 0.0000e+00\n",
            "Epoch 1/30\n",
            "71/71 [==============================] - 0s 5ms/step - loss: 3.3811 - accuracy: 0.0000e+00 - val_loss: 1.6265 - val_accuracy: 0.0000e+00\n",
            "Epoch 2/30\n",
            "71/71 [==============================] - 0s 4ms/step - loss: 1.4238 - accuracy: 0.0000e+00 - val_loss: 1.1328 - val_accuracy: 0.0000e+00\n",
            "Epoch 3/30\n",
            "71/71 [==============================] - 0s 4ms/step - loss: 2.0364 - accuracy: 0.0000e+00 - val_loss: 1.6101 - val_accuracy: 0.0000e+00\n",
            "Epoch 4/30\n",
            "71/71 [==============================] - 0s 5ms/step - loss: 1.6533 - accuracy: 0.0000e+00 - val_loss: 1.1847 - val_accuracy: 0.0000e+00\n",
            "Epoch 5/30\n",
            "71/71 [==============================] - 0s 4ms/step - loss: 2.5354 - accuracy: 0.0000e+00 - val_loss: 3.7484 - val_accuracy: 0.0000e+00\n",
            "Epoch 6/30\n",
            "71/71 [==============================] - 0s 4ms/step - loss: 1.6616 - accuracy: 0.0000e+00 - val_loss: 0.9259 - val_accuracy: 0.0000e+00\n",
            "Epoch 7/30\n",
            "71/71 [==============================] - 0s 4ms/step - loss: 2.0671 - accuracy: 0.0000e+00 - val_loss: 1.2688 - val_accuracy: 0.0000e+00\n",
            "Epoch 8/30\n",
            "71/71 [==============================] - 0s 4ms/step - loss: 1.4314 - accuracy: 0.0000e+00 - val_loss: 0.8199 - val_accuracy: 0.0000e+00\n",
            "Epoch 9/30\n",
            "71/71 [==============================] - 0s 4ms/step - loss: 0.8781 - accuracy: 0.0000e+00 - val_loss: 0.8028 - val_accuracy: 0.0000e+00\n",
            "Epoch 10/30\n",
            "71/71 [==============================] - 0s 4ms/step - loss: 0.8109 - accuracy: 0.0000e+00 - val_loss: 0.8629 - val_accuracy: 0.0000e+00\n",
            "Epoch 11/30\n",
            "71/71 [==============================] - 0s 3ms/step - loss: 0.7873 - accuracy: 0.0000e+00 - val_loss: 0.7480 - val_accuracy: 0.0000e+00\n",
            "Epoch 12/30\n",
            "71/71 [==============================] - 0s 4ms/step - loss: 0.7610 - accuracy: 0.0000e+00 - val_loss: 0.7407 - val_accuracy: 0.0000e+00\n",
            "Epoch 13/30\n",
            "71/71 [==============================] - 0s 4ms/step - loss: 0.7249 - accuracy: 0.0000e+00 - val_loss: 0.7635 - val_accuracy: 0.0000e+00\n",
            "Epoch 14/30\n",
            "71/71 [==============================] - 0s 4ms/step - loss: 0.7263 - accuracy: 0.0000e+00 - val_loss: 0.7104 - val_accuracy: 0.0000e+00\n",
            "Epoch 15/30\n",
            "71/71 [==============================] - 0s 4ms/step - loss: 0.7107 - accuracy: 0.0000e+00 - val_loss: 0.7026 - val_accuracy: 0.0000e+00\n",
            "Epoch 16/30\n",
            "71/71 [==============================] - 0s 3ms/step - loss: 0.6995 - accuracy: 0.0000e+00 - val_loss: 0.6888 - val_accuracy: 0.0000e+00\n",
            "Epoch 17/30\n",
            "71/71 [==============================] - 0s 4ms/step - loss: 0.6966 - accuracy: 0.0000e+00 - val_loss: 0.6922 - val_accuracy: 0.0000e+00\n",
            "Epoch 18/30\n",
            "71/71 [==============================] - 0s 4ms/step - loss: 0.6856 - accuracy: 0.0000e+00 - val_loss: 0.8505 - val_accuracy: 0.0000e+00\n",
            "Epoch 19/30\n",
            "71/71 [==============================] - 0s 4ms/step - loss: 0.6980 - accuracy: 0.0000e+00 - val_loss: 0.6767 - val_accuracy: 0.0000e+00\n",
            "Epoch 20/30\n",
            "71/71 [==============================] - 0s 3ms/step - loss: 0.6814 - accuracy: 0.0000e+00 - val_loss: 0.7015 - val_accuracy: 0.0000e+00\n",
            "Epoch 21/30\n",
            "71/71 [==============================] - 0s 4ms/step - loss: 0.6802 - accuracy: 0.0000e+00 - val_loss: 0.6889 - val_accuracy: 0.0000e+00\n",
            "Epoch 22/30\n",
            "71/71 [==============================] - 0s 3ms/step - loss: 0.6873 - accuracy: 0.0000e+00 - val_loss: 0.6842 - val_accuracy: 0.0000e+00\n",
            "Epoch 23/30\n",
            "71/71 [==============================] - 0s 4ms/step - loss: 0.6703 - accuracy: 0.0000e+00 - val_loss: 0.8132 - val_accuracy: 0.0000e+00\n",
            "Epoch 24/30\n",
            "71/71 [==============================] - 0s 4ms/step - loss: 0.6708 - accuracy: 0.0000e+00 - val_loss: 0.6643 - val_accuracy: 0.0000e+00\n",
            "Epoch 25/30\n",
            "71/71 [==============================] - 0s 4ms/step - loss: 0.6812 - accuracy: 0.0000e+00 - val_loss: 0.9081 - val_accuracy: 0.0000e+00\n",
            "Epoch 26/30\n",
            "71/71 [==============================] - 0s 4ms/step - loss: 0.6641 - accuracy: 0.0000e+00 - val_loss: 0.6791 - val_accuracy: 0.0000e+00\n",
            "Epoch 27/30\n",
            "71/71 [==============================] - 0s 4ms/step - loss: 0.6678 - accuracy: 0.0000e+00 - val_loss: 0.6688 - val_accuracy: 0.0000e+00\n",
            "Epoch 28/30\n",
            "71/71 [==============================] - 0s 4ms/step - loss: 0.6594 - accuracy: 0.0000e+00 - val_loss: 0.6794 - val_accuracy: 0.0000e+00\n",
            "Epoch 29/30\n",
            "71/71 [==============================] - 0s 4ms/step - loss: 0.6505 - accuracy: 0.0000e+00 - val_loss: 0.7629 - val_accuracy: 0.0000e+00\n",
            "18/18 [==============================] - 0s 2ms/step - loss: 0.8934 - accuracy: 0.0000e+00\n",
            "Epoch 1/30\n",
            "71/71 [==============================] - 0s 5ms/step - loss: 3.2896 - accuracy: 0.0000e+00 - val_loss: 1.3790 - val_accuracy: 0.0000e+00\n",
            "Epoch 2/30\n",
            "71/71 [==============================] - 0s 4ms/step - loss: 1.4675 - accuracy: 0.0000e+00 - val_loss: 1.1375 - val_accuracy: 0.0000e+00\n",
            "Epoch 3/30\n",
            "71/71 [==============================] - 0s 4ms/step - loss: 1.2778 - accuracy: 0.0000e+00 - val_loss: 1.0338 - val_accuracy: 0.0000e+00\n",
            "Epoch 4/30\n",
            "71/71 [==============================] - 0s 4ms/step - loss: 1.0852 - accuracy: 0.0000e+00 - val_loss: 0.9659 - val_accuracy: 0.0000e+00\n",
            "Epoch 5/30\n",
            "71/71 [==============================] - 0s 4ms/step - loss: 1.0213 - accuracy: 0.0000e+00 - val_loss: 0.8478 - val_accuracy: 0.0000e+00\n",
            "Epoch 6/30\n",
            "71/71 [==============================] - 0s 4ms/step - loss: 0.9177 - accuracy: 0.0000e+00 - val_loss: 0.8675 - val_accuracy: 0.0000e+00\n",
            "Epoch 7/30\n",
            "71/71 [==============================] - 0s 4ms/step - loss: 0.8925 - accuracy: 0.0000e+00 - val_loss: 0.7876 - val_accuracy: 0.0000e+00\n",
            "Epoch 8/30\n",
            "71/71 [==============================] - 0s 4ms/step - loss: 0.8498 - accuracy: 0.0000e+00 - val_loss: 0.7904 - val_accuracy: 0.0000e+00\n",
            "Epoch 9/30\n",
            "71/71 [==============================] - 0s 4ms/step - loss: 0.8098 - accuracy: 0.0000e+00 - val_loss: 0.7536 - val_accuracy: 0.0000e+00\n",
            "Epoch 10/30\n",
            "71/71 [==============================] - 0s 4ms/step - loss: 0.7825 - accuracy: 0.0000e+00 - val_loss: 0.7332 - val_accuracy: 0.0000e+00\n",
            "Epoch 11/30\n",
            "71/71 [==============================] - 0s 4ms/step - loss: 0.7757 - accuracy: 0.0000e+00 - val_loss: 0.7311 - val_accuracy: 0.0000e+00\n",
            "Epoch 12/30\n",
            "71/71 [==============================] - 0s 4ms/step - loss: 0.7526 - accuracy: 0.0000e+00 - val_loss: 0.6761 - val_accuracy: 0.0000e+00\n",
            "Epoch 13/30\n",
            "71/71 [==============================] - 0s 4ms/step - loss: 0.7702 - accuracy: 0.0000e+00 - val_loss: 0.7167 - val_accuracy: 0.0000e+00\n",
            "Epoch 14/30\n",
            "71/71 [==============================] - 0s 4ms/step - loss: 0.7321 - accuracy: 0.0000e+00 - val_loss: 0.7669 - val_accuracy: 0.0000e+00\n",
            "Epoch 15/30\n",
            "71/71 [==============================] - 0s 4ms/step - loss: 0.7190 - accuracy: 0.0000e+00 - val_loss: 0.7063 - val_accuracy: 0.0000e+00\n",
            "Epoch 16/30\n",
            "71/71 [==============================] - 0s 4ms/step - loss: 0.7076 - accuracy: 0.0000e+00 - val_loss: 0.6745 - val_accuracy: 0.0000e+00\n",
            "Epoch 17/30\n",
            "71/71 [==============================] - 0s 4ms/step - loss: 0.7302 - accuracy: 0.0000e+00 - val_loss: 0.6928 - val_accuracy: 0.0000e+00\n",
            "Epoch 18/30\n",
            "71/71 [==============================] - 0s 3ms/step - loss: 0.6944 - accuracy: 0.0000e+00 - val_loss: 0.6723 - val_accuracy: 0.0000e+00\n",
            "Epoch 19/30\n",
            "71/71 [==============================] - 0s 4ms/step - loss: 0.6860 - accuracy: 0.0000e+00 - val_loss: 0.6677 - val_accuracy: 0.0000e+00\n",
            "Epoch 20/30\n",
            "71/71 [==============================] - 0s 4ms/step - loss: 0.7078 - accuracy: 0.0000e+00 - val_loss: 0.7572 - val_accuracy: 0.0000e+00\n",
            "Epoch 21/30\n",
            "71/71 [==============================] - 0s 4ms/step - loss: 0.6774 - accuracy: 0.0000e+00 - val_loss: 0.6526 - val_accuracy: 0.0000e+00\n",
            "Epoch 22/30\n",
            "71/71 [==============================] - 0s 4ms/step - loss: 0.6769 - accuracy: 0.0000e+00 - val_loss: 0.6535 - val_accuracy: 0.0000e+00\n",
            "Epoch 23/30\n",
            "71/71 [==============================] - 0s 4ms/step - loss: 0.7079 - accuracy: 0.0000e+00 - val_loss: 0.6883 - val_accuracy: 0.0000e+00\n",
            "Epoch 24/30\n",
            "71/71 [==============================] - 0s 4ms/step - loss: 0.6859 - accuracy: 0.0000e+00 - val_loss: 0.7512 - val_accuracy: 0.0000e+00\n",
            "Epoch 25/30\n",
            "71/71 [==============================] - 0s 4ms/step - loss: 0.6788 - accuracy: 0.0000e+00 - val_loss: 0.7057 - val_accuracy: 0.0000e+00\n",
            "Epoch 26/30\n",
            "71/71 [==============================] - 0s 4ms/step - loss: 0.6651 - accuracy: 0.0000e+00 - val_loss: 0.6930 - val_accuracy: 0.0000e+00\n",
            "18/18 [==============================] - 0s 2ms/step - loss: 0.7590 - accuracy: 0.0000e+00\n",
            "Epoch 1/30\n",
            "71/71 [==============================] - 0s 5ms/step - loss: 3.9135 - accuracy: 0.0000e+00 - val_loss: 1.5403 - val_accuracy: 0.0000e+00\n",
            "Epoch 2/30\n",
            "71/71 [==============================] - 0s 4ms/step - loss: 1.5579 - accuracy: 0.0000e+00 - val_loss: 1.1798 - val_accuracy: 0.0000e+00\n",
            "Epoch 3/30\n",
            "71/71 [==============================] - 0s 4ms/step - loss: 1.2996 - accuracy: 0.0000e+00 - val_loss: 0.9984 - val_accuracy: 0.0000e+00\n",
            "Epoch 4/30\n",
            "71/71 [==============================] - 0s 4ms/step - loss: 1.1788 - accuracy: 0.0000e+00 - val_loss: 1.0622 - val_accuracy: 0.0000e+00\n",
            "Epoch 5/30\n",
            "71/71 [==============================] - 0s 4ms/step - loss: 1.0537 - accuracy: 0.0000e+00 - val_loss: 0.9372 - val_accuracy: 0.0000e+00\n",
            "Epoch 6/30\n",
            "71/71 [==============================] - 0s 4ms/step - loss: 0.9541 - accuracy: 0.0000e+00 - val_loss: 0.8967 - val_accuracy: 0.0000e+00\n",
            "Epoch 7/30\n",
            "71/71 [==============================] - 0s 4ms/step - loss: 0.9119 - accuracy: 0.0000e+00 - val_loss: 0.8161 - val_accuracy: 0.0000e+00\n",
            "Epoch 8/30\n",
            "71/71 [==============================] - 0s 4ms/step - loss: 0.8706 - accuracy: 0.0000e+00 - val_loss: 0.8166 - val_accuracy: 0.0000e+00\n",
            "Epoch 9/30\n",
            "71/71 [==============================] - 0s 4ms/step - loss: 0.8488 - accuracy: 0.0000e+00 - val_loss: 0.8219 - val_accuracy: 0.0000e+00\n",
            "Epoch 10/30\n",
            "71/71 [==============================] - 0s 4ms/step - loss: 0.7858 - accuracy: 0.0000e+00 - val_loss: 0.7353 - val_accuracy: 0.0000e+00\n",
            "Epoch 11/30\n",
            "71/71 [==============================] - 0s 4ms/step - loss: 0.7760 - accuracy: 0.0000e+00 - val_loss: 0.7441 - val_accuracy: 0.0000e+00\n",
            "Epoch 12/30\n",
            "71/71 [==============================] - 0s 4ms/step - loss: 0.7482 - accuracy: 0.0000e+00 - val_loss: 0.7248 - val_accuracy: 0.0000e+00\n",
            "Epoch 13/30\n",
            "71/71 [==============================] - 0s 4ms/step - loss: 0.7608 - accuracy: 0.0000e+00 - val_loss: 0.6865 - val_accuracy: 0.0000e+00\n",
            "Epoch 14/30\n",
            "71/71 [==============================] - 0s 4ms/step - loss: 0.7266 - accuracy: 0.0000e+00 - val_loss: 0.7036 - val_accuracy: 0.0000e+00\n",
            "Epoch 15/30\n",
            "71/71 [==============================] - 0s 4ms/step - loss: 0.7314 - accuracy: 0.0000e+00 - val_loss: 0.7423 - val_accuracy: 0.0000e+00\n",
            "Epoch 16/30\n",
            "71/71 [==============================] - 0s 4ms/step - loss: 0.7292 - accuracy: 0.0000e+00 - val_loss: 0.7219 - val_accuracy: 0.0000e+00\n",
            "Epoch 17/30\n",
            "71/71 [==============================] - 0s 4ms/step - loss: 0.7247 - accuracy: 0.0000e+00 - val_loss: 0.6830 - val_accuracy: 0.0000e+00\n",
            "Epoch 18/30\n",
            "71/71 [==============================] - 0s 4ms/step - loss: 0.7109 - accuracy: 0.0000e+00 - val_loss: 0.6880 - val_accuracy: 0.0000e+00\n",
            "Epoch 19/30\n",
            "71/71 [==============================] - 0s 4ms/step - loss: 0.7137 - accuracy: 0.0000e+00 - val_loss: 0.7135 - val_accuracy: 0.0000e+00\n",
            "Epoch 20/30\n",
            "71/71 [==============================] - 0s 4ms/step - loss: 0.6968 - accuracy: 0.0000e+00 - val_loss: 0.6857 - val_accuracy: 0.0000e+00\n",
            "Epoch 21/30\n",
            "71/71 [==============================] - 0s 4ms/step - loss: 0.6939 - accuracy: 0.0000e+00 - val_loss: 0.6819 - val_accuracy: 0.0000e+00\n",
            "Epoch 22/30\n",
            "71/71 [==============================] - 0s 4ms/step - loss: 0.7004 - accuracy: 0.0000e+00 - val_loss: 0.8270 - val_accuracy: 0.0000e+00\n",
            "Epoch 23/30\n",
            "71/71 [==============================] - 0s 4ms/step - loss: 0.6731 - accuracy: 0.0000e+00 - val_loss: 0.6729 - val_accuracy: 0.0000e+00\n",
            "Epoch 24/30\n",
            "71/71 [==============================] - 0s 4ms/step - loss: 0.6948 - accuracy: 0.0000e+00 - val_loss: 0.7505 - val_accuracy: 0.0000e+00\n",
            "Epoch 25/30\n",
            "71/71 [==============================] - 0s 4ms/step - loss: 0.6772 - accuracy: 0.0000e+00 - val_loss: 0.6779 - val_accuracy: 0.0000e+00\n",
            "Epoch 26/30\n",
            "71/71 [==============================] - 0s 4ms/step - loss: 0.6865 - accuracy: 0.0000e+00 - val_loss: 0.6773 - val_accuracy: 0.0000e+00\n",
            "Epoch 27/30\n",
            "71/71 [==============================] - 0s 4ms/step - loss: 0.6763 - accuracy: 0.0000e+00 - val_loss: 0.7150 - val_accuracy: 0.0000e+00\n",
            "Epoch 28/30\n",
            "71/71 [==============================] - 0s 4ms/step - loss: 0.6754 - accuracy: 0.0000e+00 - val_loss: 0.6726 - val_accuracy: 0.0000e+00\n",
            "Epoch 29/30\n",
            "71/71 [==============================] - 0s 4ms/step - loss: 0.6866 - accuracy: 0.0000e+00 - val_loss: 0.7176 - val_accuracy: 0.0000e+00\n",
            "Epoch 30/30\n",
            "71/71 [==============================] - 0s 4ms/step - loss: 0.6525 - accuracy: 0.0000e+00 - val_loss: 0.6927 - val_accuracy: 0.0000e+00\n",
            "18/18 [==============================] - 0s 2ms/step - loss: 0.7102 - accuracy: 0.0000e+00\n",
            "Epoch 1/30\n",
            "71/71 [==============================] - 0s 5ms/step - loss: 3.4479 - accuracy: 0.0000e+00 - val_loss: 1.2768 - val_accuracy: 0.0000e+00\n",
            "Epoch 2/30\n",
            "71/71 [==============================] - 0s 4ms/step - loss: 1.3490 - accuracy: 0.0000e+00 - val_loss: 1.0519 - val_accuracy: 0.0000e+00\n",
            "Epoch 3/30\n",
            "71/71 [==============================] - 0s 4ms/step - loss: 1.1863 - accuracy: 0.0000e+00 - val_loss: 1.1145 - val_accuracy: 0.0000e+00\n",
            "Epoch 4/30\n",
            "71/71 [==============================] - 0s 4ms/step - loss: 1.0887 - accuracy: 0.0000e+00 - val_loss: 0.8914 - val_accuracy: 0.0000e+00\n",
            "Epoch 5/30\n",
            "71/71 [==============================] - 0s 4ms/step - loss: 1.0204 - accuracy: 0.0000e+00 - val_loss: 0.9138 - val_accuracy: 0.0000e+00\n",
            "Epoch 6/30\n",
            "71/71 [==============================] - 0s 4ms/step - loss: 0.8825 - accuracy: 0.0000e+00 - val_loss: 0.7918 - val_accuracy: 0.0000e+00\n",
            "Epoch 7/30\n",
            "71/71 [==============================] - 0s 4ms/step - loss: 0.8656 - accuracy: 0.0000e+00 - val_loss: 0.8590 - val_accuracy: 0.0000e+00\n",
            "Epoch 8/30\n",
            "71/71 [==============================] - 0s 3ms/step - loss: 0.7866 - accuracy: 0.0000e+00 - val_loss: 0.9918 - val_accuracy: 0.0000e+00\n",
            "Epoch 9/30\n",
            "71/71 [==============================] - 0s 4ms/step - loss: 0.7720 - accuracy: 0.0000e+00 - val_loss: 0.7289 - val_accuracy: 0.0000e+00\n",
            "Epoch 10/30\n",
            "71/71 [==============================] - 0s 4ms/step - loss: 0.7398 - accuracy: 0.0000e+00 - val_loss: 0.7752 - val_accuracy: 0.0000e+00\n",
            "Epoch 11/30\n",
            "71/71 [==============================] - 0s 4ms/step - loss: 0.7339 - accuracy: 0.0000e+00 - val_loss: 0.7901 - val_accuracy: 0.0000e+00\n",
            "Epoch 12/30\n",
            "71/71 [==============================] - 0s 3ms/step - loss: 0.7195 - accuracy: 0.0000e+00 - val_loss: 0.7507 - val_accuracy: 0.0000e+00\n",
            "Epoch 13/30\n",
            "71/71 [==============================] - 0s 4ms/step - loss: 0.6956 - accuracy: 0.0000e+00 - val_loss: 0.7061 - val_accuracy: 0.0000e+00\n",
            "Epoch 14/30\n",
            "71/71 [==============================] - 0s 3ms/step - loss: 0.6919 - accuracy: 0.0000e+00 - val_loss: 0.7077 - val_accuracy: 0.0000e+00\n",
            "Epoch 15/30\n",
            "71/71 [==============================] - 0s 4ms/step - loss: 0.6905 - accuracy: 0.0000e+00 - val_loss: 0.7109 - val_accuracy: 0.0000e+00\n",
            "Epoch 16/30\n",
            "71/71 [==============================] - 0s 4ms/step - loss: 0.6745 - accuracy: 0.0000e+00 - val_loss: 0.6959 - val_accuracy: 0.0000e+00\n",
            "Epoch 17/30\n",
            "71/71 [==============================] - 0s 4ms/step - loss: 0.6835 - accuracy: 0.0000e+00 - val_loss: 0.6831 - val_accuracy: 0.0000e+00\n",
            "Epoch 18/30\n",
            "71/71 [==============================] - 0s 3ms/step - loss: 0.6728 - accuracy: 0.0000e+00 - val_loss: 0.6600 - val_accuracy: 0.0000e+00\n",
            "Epoch 19/30\n",
            "71/71 [==============================] - 0s 4ms/step - loss: 0.6724 - accuracy: 0.0000e+00 - val_loss: 0.6749 - val_accuracy: 0.0000e+00\n",
            "Epoch 20/30\n",
            "71/71 [==============================] - 0s 3ms/step - loss: 0.6618 - accuracy: 0.0000e+00 - val_loss: 0.7664 - val_accuracy: 0.0000e+00\n",
            "Epoch 21/30\n",
            "71/71 [==============================] - 0s 4ms/step - loss: 0.6540 - accuracy: 0.0000e+00 - val_loss: 0.7356 - val_accuracy: 0.0000e+00\n",
            "Epoch 22/30\n",
            "71/71 [==============================] - 0s 3ms/step - loss: 0.6607 - accuracy: 0.0000e+00 - val_loss: 0.6618 - val_accuracy: 0.0000e+00\n",
            "Epoch 23/30\n",
            "71/71 [==============================] - 0s 3ms/step - loss: 0.6577 - accuracy: 0.0000e+00 - val_loss: 0.6708 - val_accuracy: 0.0000e+00\n",
            "18/18 [==============================] - 0s 2ms/step - loss: 0.8315 - accuracy: 0.0000e+00\n",
            "Epoch 1/30\n",
            "71/71 [==============================] - 0s 4ms/step - loss: 3.1169 - accuracy: 0.0000e+00 - val_loss: 1.2724 - val_accuracy: 0.0000e+00\n",
            "Epoch 2/30\n",
            "71/71 [==============================] - 0s 3ms/step - loss: 1.5051 - accuracy: 0.0000e+00 - val_loss: 1.0969 - val_accuracy: 0.0000e+00\n",
            "Epoch 3/30\n",
            "71/71 [==============================] - 0s 3ms/step - loss: 1.2132 - accuracy: 0.0000e+00 - val_loss: 1.0744 - val_accuracy: 0.0000e+00\n",
            "Epoch 4/30\n",
            "71/71 [==============================] - 0s 4ms/step - loss: 1.1447 - accuracy: 0.0000e+00 - val_loss: 0.9281 - val_accuracy: 0.0000e+00\n",
            "Epoch 5/30\n",
            "71/71 [==============================] - 0s 3ms/step - loss: 1.0311 - accuracy: 0.0000e+00 - val_loss: 0.9341 - val_accuracy: 0.0000e+00\n",
            "Epoch 6/30\n",
            "71/71 [==============================] - 0s 4ms/step - loss: 1.0168 - accuracy: 0.0000e+00 - val_loss: 0.8338 - val_accuracy: 0.0000e+00\n",
            "Epoch 7/30\n",
            "71/71 [==============================] - 0s 3ms/step - loss: 0.9438 - accuracy: 0.0000e+00 - val_loss: 0.7775 - val_accuracy: 0.0000e+00\n",
            "Epoch 8/30\n",
            "71/71 [==============================] - 0s 4ms/step - loss: 0.8663 - accuracy: 0.0000e+00 - val_loss: 0.7679 - val_accuracy: 0.0000e+00\n",
            "Epoch 9/30\n",
            "71/71 [==============================] - 0s 3ms/step - loss: 0.8290 - accuracy: 0.0000e+00 - val_loss: 0.7622 - val_accuracy: 0.0000e+00\n",
            "Epoch 10/30\n",
            "71/71 [==============================] - 0s 3ms/step - loss: 0.8053 - accuracy: 0.0000e+00 - val_loss: 0.8064 - val_accuracy: 0.0000e+00\n",
            "Epoch 11/30\n",
            "71/71 [==============================] - 0s 3ms/step - loss: 0.7952 - accuracy: 0.0000e+00 - val_loss: 0.6983 - val_accuracy: 0.0000e+00\n",
            "Epoch 12/30\n",
            "71/71 [==============================] - 0s 4ms/step - loss: 0.7792 - accuracy: 0.0000e+00 - val_loss: 0.7408 - val_accuracy: 0.0000e+00\n",
            "Epoch 13/30\n",
            "71/71 [==============================] - 0s 3ms/step - loss: 0.7652 - accuracy: 0.0000e+00 - val_loss: 0.7017 - val_accuracy: 0.0000e+00\n",
            "Epoch 14/30\n",
            "71/71 [==============================] - 0s 3ms/step - loss: 0.7426 - accuracy: 0.0000e+00 - val_loss: 0.7261 - val_accuracy: 0.0000e+00\n",
            "Epoch 15/30\n",
            "71/71 [==============================] - 0s 4ms/step - loss: 0.7407 - accuracy: 0.0000e+00 - val_loss: 0.7121 - val_accuracy: 0.0000e+00\n",
            "Epoch 16/30\n",
            "71/71 [==============================] - 0s 4ms/step - loss: 0.7538 - accuracy: 0.0000e+00 - val_loss: 0.7434 - val_accuracy: 0.0000e+00\n",
            "18/18 [==============================] - 0s 2ms/step - loss: 0.6775 - accuracy: 0.0000e+00\n",
            "Epoch 1/30\n",
            "71/71 [==============================] - 0s 5ms/step - loss: nan - accuracy: 0.0000e+00 - val_loss: nan - val_accuracy: 0.0000e+00\n",
            "Epoch 2/30\n",
            "71/71 [==============================] - 0s 4ms/step - loss: nan - accuracy: 0.0000e+00 - val_loss: nan - val_accuracy: 0.0000e+00\n",
            "Epoch 3/30\n",
            "71/71 [==============================] - 0s 4ms/step - loss: nan - accuracy: 0.0000e+00 - val_loss: nan - val_accuracy: 0.0000e+00\n",
            "Epoch 4/30\n",
            "71/71 [==============================] - 0s 4ms/step - loss: nan - accuracy: 0.0000e+00 - val_loss: nan - val_accuracy: 0.0000e+00\n",
            "Epoch 5/30\n",
            "71/71 [==============================] - 0s 4ms/step - loss: nan - accuracy: 0.0000e+00 - val_loss: nan - val_accuracy: 0.0000e+00\n",
            "18/18 [==============================] - 0s 2ms/step - loss: nan - accuracy: 0.0000e+00\n",
            "Epoch 1/30\n",
            "71/71 [==============================] - 0s 5ms/step - loss: nan - accuracy: 0.0000e+00 - val_loss: nan - val_accuracy: 0.0000e+00\n",
            "Epoch 2/30\n",
            "71/71 [==============================] - 0s 4ms/step - loss: nan - accuracy: 0.0000e+00 - val_loss: nan - val_accuracy: 0.0000e+00\n",
            "Epoch 3/30\n",
            "71/71 [==============================] - 0s 4ms/step - loss: nan - accuracy: 0.0000e+00 - val_loss: nan - val_accuracy: 0.0000e+00\n",
            "Epoch 4/30\n",
            "71/71 [==============================] - 0s 4ms/step - loss: nan - accuracy: 0.0000e+00 - val_loss: nan - val_accuracy: 0.0000e+00\n",
            "Epoch 5/30\n",
            "71/71 [==============================] - 0s 4ms/step - loss: nan - accuracy: 0.0000e+00 - val_loss: nan - val_accuracy: 0.0000e+00\n",
            "18/18 [==============================] - 0s 2ms/step - loss: nan - accuracy: 0.0000e+00\n",
            "Epoch 1/30\n",
            "71/71 [==============================] - 0s 5ms/step - loss: nan - accuracy: 0.0000e+00 - val_loss: nan - val_accuracy: 0.0000e+00\n",
            "Epoch 2/30\n",
            "71/71 [==============================] - 0s 4ms/step - loss: nan - accuracy: 0.0000e+00 - val_loss: nan - val_accuracy: 0.0000e+00\n",
            "Epoch 3/30\n",
            "71/71 [==============================] - 0s 4ms/step - loss: nan - accuracy: 0.0000e+00 - val_loss: nan - val_accuracy: 0.0000e+00\n",
            "Epoch 4/30\n",
            "71/71 [==============================] - 0s 4ms/step - loss: nan - accuracy: 0.0000e+00 - val_loss: nan - val_accuracy: 0.0000e+00\n",
            "Epoch 5/30\n",
            "71/71 [==============================] - 0s 4ms/step - loss: nan - accuracy: 0.0000e+00 - val_loss: nan - val_accuracy: 0.0000e+00\n",
            "18/18 [==============================] - 0s 3ms/step - loss: nan - accuracy: 0.0000e+00\n",
            "Epoch 1/30\n",
            "71/71 [==============================] - 0s 5ms/step - loss: nan - accuracy: 0.0000e+00 - val_loss: nan - val_accuracy: 0.0000e+00\n",
            "Epoch 2/30\n",
            "71/71 [==============================] - 0s 4ms/step - loss: nan - accuracy: 0.0000e+00 - val_loss: nan - val_accuracy: 0.0000e+00\n",
            "Epoch 3/30\n",
            "71/71 [==============================] - 0s 4ms/step - loss: nan - accuracy: 0.0000e+00 - val_loss: nan - val_accuracy: 0.0000e+00\n",
            "Epoch 4/30\n",
            "71/71 [==============================] - 0s 4ms/step - loss: nan - accuracy: 0.0000e+00 - val_loss: nan - val_accuracy: 0.0000e+00\n",
            "Epoch 5/30\n",
            "71/71 [==============================] - 0s 4ms/step - loss: nan - accuracy: 0.0000e+00 - val_loss: nan - val_accuracy: 0.0000e+00\n",
            "18/18 [==============================] - 0s 2ms/step - loss: nan - accuracy: 0.0000e+00\n",
            "Epoch 1/30\n",
            "71/71 [==============================] - 0s 5ms/step - loss: nan - accuracy: 0.0000e+00 - val_loss: nan - val_accuracy: 0.0000e+00\n",
            "Epoch 2/30\n",
            "71/71 [==============================] - 0s 4ms/step - loss: nan - accuracy: 0.0000e+00 - val_loss: nan - val_accuracy: 0.0000e+00\n",
            "Epoch 3/30\n",
            "71/71 [==============================] - 0s 4ms/step - loss: nan - accuracy: 0.0000e+00 - val_loss: nan - val_accuracy: 0.0000e+00\n",
            "Epoch 4/30\n",
            "71/71 [==============================] - 0s 4ms/step - loss: nan - accuracy: 0.0000e+00 - val_loss: nan - val_accuracy: 0.0000e+00\n",
            "Epoch 5/30\n",
            "71/71 [==============================] - 0s 4ms/step - loss: nan - accuracy: 0.0000e+00 - val_loss: nan - val_accuracy: 0.0000e+00\n",
            "18/18 [==============================] - 0s 2ms/step - loss: nan - accuracy: 0.0000e+00\n",
            "Epoch 1/30\n",
            "71/71 [==============================] - 0s 5ms/step - loss: 5.0189 - accuracy: 0.0000e+00 - val_loss: 1.8777 - val_accuracy: 0.0000e+00\n",
            "Epoch 2/30\n",
            "71/71 [==============================] - 0s 4ms/step - loss: 2.1779 - accuracy: 0.0000e+00 - val_loss: 1.2866 - val_accuracy: 0.0000e+00\n",
            "Epoch 3/30\n",
            "71/71 [==============================] - 0s 4ms/step - loss: 1.5751 - accuracy: 0.0000e+00 - val_loss: 1.1919 - val_accuracy: 0.0000e+00\n",
            "Epoch 4/30\n",
            "71/71 [==============================] - 0s 4ms/step - loss: 1.2383 - accuracy: 0.0000e+00 - val_loss: 1.0962 - val_accuracy: 0.0000e+00\n",
            "Epoch 5/30\n",
            "71/71 [==============================] - 0s 4ms/step - loss: 1.1287 - accuracy: 0.0000e+00 - val_loss: 1.0123 - val_accuracy: 0.0000e+00\n",
            "Epoch 6/30\n",
            "71/71 [==============================] - 0s 4ms/step - loss: 1.0596 - accuracy: 0.0000e+00 - val_loss: 0.9532 - val_accuracy: 0.0000e+00\n",
            "Epoch 7/30\n",
            "71/71 [==============================] - 0s 4ms/step - loss: 0.9755 - accuracy: 0.0000e+00 - val_loss: 0.9069 - val_accuracy: 0.0000e+00\n",
            "Epoch 8/30\n",
            "71/71 [==============================] - 0s 4ms/step - loss: 0.9282 - accuracy: 0.0000e+00 - val_loss: 0.8581 - val_accuracy: 0.0000e+00\n",
            "Epoch 9/30\n",
            "71/71 [==============================] - 0s 4ms/step - loss: 0.8821 - accuracy: 0.0000e+00 - val_loss: 0.8463 - val_accuracy: 0.0000e+00\n",
            "Epoch 10/30\n",
            "71/71 [==============================] - 0s 4ms/step - loss: 0.8411 - accuracy: 0.0000e+00 - val_loss: 0.8021 - val_accuracy: 0.0000e+00\n",
            "Epoch 11/30\n",
            "71/71 [==============================] - 0s 4ms/step - loss: 0.8014 - accuracy: 0.0000e+00 - val_loss: 0.7941 - val_accuracy: 0.0000e+00\n",
            "Epoch 12/30\n",
            "71/71 [==============================] - 0s 4ms/step - loss: 0.7723 - accuracy: 0.0000e+00 - val_loss: 0.7633 - val_accuracy: 0.0000e+00\n",
            "Epoch 13/30\n",
            "71/71 [==============================] - 0s 4ms/step - loss: 0.7533 - accuracy: 0.0000e+00 - val_loss: 0.7482 - val_accuracy: 0.0000e+00\n",
            "Epoch 14/30\n",
            "71/71 [==============================] - 0s 4ms/step - loss: 0.7346 - accuracy: 0.0000e+00 - val_loss: 0.7368 - val_accuracy: 0.0000e+00\n",
            "Epoch 15/30\n",
            "71/71 [==============================] - 0s 4ms/step - loss: 0.7123 - accuracy: 0.0000e+00 - val_loss: 0.7383 - val_accuracy: 0.0000e+00\n",
            "Epoch 16/30\n",
            "71/71 [==============================] - 0s 4ms/step - loss: 0.6929 - accuracy: 0.0000e+00 - val_loss: 0.7222 - val_accuracy: 0.0000e+00\n",
            "Epoch 17/30\n",
            "71/71 [==============================] - 0s 4ms/step - loss: 0.6915 - accuracy: 0.0000e+00 - val_loss: 0.7066 - val_accuracy: 0.0000e+00\n",
            "Epoch 18/30\n",
            "71/71 [==============================] - 0s 4ms/step - loss: 0.6766 - accuracy: 0.0000e+00 - val_loss: 0.6990 - val_accuracy: 0.0000e+00\n",
            "Epoch 19/30\n",
            "71/71 [==============================] - 0s 4ms/step - loss: 0.6704 - accuracy: 0.0000e+00 - val_loss: 0.6970 - val_accuracy: 0.0000e+00\n",
            "Epoch 20/30\n",
            "71/71 [==============================] - 0s 4ms/step - loss: 0.6565 - accuracy: 0.0000e+00 - val_loss: 0.7546 - val_accuracy: 0.0000e+00\n",
            "Epoch 21/30\n",
            "71/71 [==============================] - 0s 4ms/step - loss: 0.6452 - accuracy: 0.0000e+00 - val_loss: 0.7031 - val_accuracy: 0.0000e+00\n",
            "Epoch 22/30\n",
            "71/71 [==============================] - 0s 4ms/step - loss: 0.6443 - accuracy: 0.0000e+00 - val_loss: 0.6869 - val_accuracy: 0.0000e+00\n",
            "Epoch 23/30\n",
            "71/71 [==============================] - 0s 4ms/step - loss: 0.6387 - accuracy: 0.0000e+00 - val_loss: 0.6961 - val_accuracy: 0.0000e+00\n",
            "Epoch 24/30\n",
            "71/71 [==============================] - 0s 4ms/step - loss: 0.6365 - accuracy: 0.0000e+00 - val_loss: 0.6829 - val_accuracy: 0.0000e+00\n",
            "Epoch 25/30\n",
            "71/71 [==============================] - 0s 4ms/step - loss: 0.6260 - accuracy: 0.0000e+00 - val_loss: 0.6751 - val_accuracy: 0.0000e+00\n",
            "Epoch 26/30\n",
            "71/71 [==============================] - 0s 4ms/step - loss: 0.6217 - accuracy: 0.0000e+00 - val_loss: 0.6726 - val_accuracy: 0.0000e+00\n",
            "Epoch 27/30\n",
            "71/71 [==============================] - 0s 4ms/step - loss: 0.6199 - accuracy: 0.0000e+00 - val_loss: 0.6875 - val_accuracy: 0.0000e+00\n",
            "Epoch 28/30\n",
            "71/71 [==============================] - 0s 4ms/step - loss: 0.6129 - accuracy: 0.0000e+00 - val_loss: 0.6683 - val_accuracy: 0.0000e+00\n",
            "Epoch 29/30\n",
            "71/71 [==============================] - 0s 4ms/step - loss: 0.6088 - accuracy: 0.0000e+00 - val_loss: 0.6775 - val_accuracy: 0.0000e+00\n",
            "Epoch 30/30\n",
            "71/71 [==============================] - 0s 4ms/step - loss: 0.6029 - accuracy: 0.0000e+00 - val_loss: 0.6743 - val_accuracy: 0.0000e+00\n",
            "18/18 [==============================] - 0s 2ms/step - loss: 0.7770 - accuracy: 0.0000e+00\n",
            "Epoch 1/30\n",
            "71/71 [==============================] - 0s 5ms/step - loss: 4.1468 - accuracy: 0.0000e+00 - val_loss: 1.7505 - val_accuracy: 0.0000e+00\n",
            "Epoch 2/30\n",
            "71/71 [==============================] - 0s 4ms/step - loss: 1.6804 - accuracy: 0.0000e+00 - val_loss: 1.2806 - val_accuracy: 0.0000e+00\n",
            "Epoch 3/30\n",
            "71/71 [==============================] - 0s 4ms/step - loss: 1.3365 - accuracy: 0.0000e+00 - val_loss: 1.1448 - val_accuracy: 0.0000e+00\n",
            "Epoch 4/30\n",
            "71/71 [==============================] - 0s 4ms/step - loss: 1.1895 - accuracy: 0.0000e+00 - val_loss: 1.0532 - val_accuracy: 0.0000e+00\n",
            "Epoch 5/30\n",
            "71/71 [==============================] - 0s 4ms/step - loss: 1.0920 - accuracy: 0.0000e+00 - val_loss: 1.0498 - val_accuracy: 0.0000e+00\n",
            "Epoch 6/30\n",
            "71/71 [==============================] - 0s 4ms/step - loss: 1.0165 - accuracy: 0.0000e+00 - val_loss: 0.9231 - val_accuracy: 0.0000e+00\n",
            "Epoch 7/30\n",
            "71/71 [==============================] - 0s 4ms/step - loss: 0.9659 - accuracy: 0.0000e+00 - val_loss: 0.8928 - val_accuracy: 0.0000e+00\n",
            "Epoch 8/30\n",
            "71/71 [==============================] - 0s 4ms/step - loss: 0.8985 - accuracy: 0.0000e+00 - val_loss: 0.8259 - val_accuracy: 0.0000e+00\n",
            "Epoch 9/30\n",
            "71/71 [==============================] - 0s 4ms/step - loss: 0.8519 - accuracy: 0.0000e+00 - val_loss: 0.9032 - val_accuracy: 0.0000e+00\n",
            "Epoch 10/30\n",
            "71/71 [==============================] - 0s 4ms/step - loss: 0.8303 - accuracy: 0.0000e+00 - val_loss: 0.8444 - val_accuracy: 0.0000e+00\n",
            "Epoch 11/30\n",
            "71/71 [==============================] - 0s 4ms/step - loss: 0.7883 - accuracy: 0.0000e+00 - val_loss: 0.7627 - val_accuracy: 0.0000e+00\n",
            "Epoch 12/30\n",
            "71/71 [==============================] - 0s 4ms/step - loss: 0.7652 - accuracy: 0.0000e+00 - val_loss: 0.7932 - val_accuracy: 0.0000e+00\n",
            "Epoch 13/30\n",
            "71/71 [==============================] - 0s 4ms/step - loss: 0.7642 - accuracy: 0.0000e+00 - val_loss: 0.7460 - val_accuracy: 0.0000e+00\n",
            "Epoch 14/30\n",
            "71/71 [==============================] - 0s 4ms/step - loss: 0.7300 - accuracy: 0.0000e+00 - val_loss: 0.7576 - val_accuracy: 0.0000e+00\n",
            "Epoch 15/30\n",
            "71/71 [==============================] - 0s 4ms/step - loss: 0.7211 - accuracy: 0.0000e+00 - val_loss: 0.7979 - val_accuracy: 0.0000e+00\n",
            "Epoch 16/30\n",
            "71/71 [==============================] - 0s 4ms/step - loss: 0.7135 - accuracy: 0.0000e+00 - val_loss: 0.7356 - val_accuracy: 0.0000e+00\n",
            "Epoch 17/30\n",
            "71/71 [==============================] - 0s 4ms/step - loss: 0.7045 - accuracy: 0.0000e+00 - val_loss: 0.7003 - val_accuracy: 0.0000e+00\n",
            "Epoch 18/30\n",
            "71/71 [==============================] - 0s 4ms/step - loss: 0.6872 - accuracy: 0.0000e+00 - val_loss: 0.7033 - val_accuracy: 0.0000e+00\n",
            "Epoch 19/30\n",
            "71/71 [==============================] - 0s 4ms/step - loss: 0.6719 - accuracy: 0.0000e+00 - val_loss: 0.6871 - val_accuracy: 0.0000e+00\n",
            "Epoch 20/30\n",
            "71/71 [==============================] - 1s 11ms/step - loss: 0.6810 - accuracy: 0.0000e+00 - val_loss: 0.7228 - val_accuracy: 0.0000e+00\n",
            "Epoch 21/30\n",
            "71/71 [==============================] - 0s 4ms/step - loss: 0.6721 - accuracy: 0.0000e+00 - val_loss: 0.6777 - val_accuracy: 0.0000e+00\n",
            "Epoch 22/30\n",
            "71/71 [==============================] - 0s 4ms/step - loss: 0.6638 - accuracy: 0.0000e+00 - val_loss: 0.7050 - val_accuracy: 0.0000e+00\n",
            "Epoch 23/30\n",
            "71/71 [==============================] - 0s 4ms/step - loss: 0.6554 - accuracy: 0.0000e+00 - val_loss: 0.6620 - val_accuracy: 0.0000e+00\n",
            "Epoch 24/30\n",
            "71/71 [==============================] - 0s 4ms/step - loss: 0.6705 - accuracy: 0.0000e+00 - val_loss: 0.7344 - val_accuracy: 0.0000e+00\n",
            "Epoch 25/30\n",
            "71/71 [==============================] - 0s 4ms/step - loss: 0.6629 - accuracy: 0.0000e+00 - val_loss: 0.6723 - val_accuracy: 0.0000e+00\n",
            "Epoch 26/30\n",
            "71/71 [==============================] - 0s 4ms/step - loss: 0.6494 - accuracy: 0.0000e+00 - val_loss: 0.6879 - val_accuracy: 0.0000e+00\n",
            "Epoch 27/30\n",
            "71/71 [==============================] - 0s 4ms/step - loss: 0.6398 - accuracy: 0.0000e+00 - val_loss: 0.6706 - val_accuracy: 0.0000e+00\n",
            "Epoch 28/30\n",
            "71/71 [==============================] - 0s 4ms/step - loss: 0.6341 - accuracy: 0.0000e+00 - val_loss: 0.7237 - val_accuracy: 0.0000e+00\n",
            "18/18 [==============================] - 0s 2ms/step - loss: 0.7836 - accuracy: 0.0000e+00\n",
            "Epoch 1/30\n",
            "71/71 [==============================] - 0s 5ms/step - loss: 5.8727 - accuracy: 0.0000e+00 - val_loss: 1.8622 - val_accuracy: 0.0000e+00\n",
            "Epoch 2/30\n",
            "71/71 [==============================] - 0s 4ms/step - loss: 1.8506 - accuracy: 0.0000e+00 - val_loss: 1.3354 - val_accuracy: 0.0000e+00\n",
            "Epoch 3/30\n",
            "71/71 [==============================] - 0s 4ms/step - loss: 1.4141 - accuracy: 0.0000e+00 - val_loss: 1.2435 - val_accuracy: 0.0000e+00\n",
            "Epoch 4/30\n",
            "71/71 [==============================] - 0s 4ms/step - loss: 1.2604 - accuracy: 0.0000e+00 - val_loss: 1.1236 - val_accuracy: 0.0000e+00\n",
            "Epoch 5/30\n",
            "71/71 [==============================] - 0s 3ms/step - loss: 1.1585 - accuracy: 0.0000e+00 - val_loss: 1.0426 - val_accuracy: 0.0000e+00\n",
            "Epoch 6/30\n",
            "71/71 [==============================] - 0s 4ms/step - loss: 1.0810 - accuracy: 0.0000e+00 - val_loss: 0.9970 - val_accuracy: 0.0000e+00\n",
            "Epoch 7/30\n",
            "71/71 [==============================] - 0s 4ms/step - loss: 1.0225 - accuracy: 0.0000e+00 - val_loss: 0.9555 - val_accuracy: 0.0000e+00\n",
            "Epoch 8/30\n",
            "71/71 [==============================] - 0s 4ms/step - loss: 0.9645 - accuracy: 0.0000e+00 - val_loss: 0.9057 - val_accuracy: 0.0000e+00\n",
            "Epoch 9/30\n",
            "71/71 [==============================] - 0s 4ms/step - loss: 0.9163 - accuracy: 0.0000e+00 - val_loss: 0.8555 - val_accuracy: 0.0000e+00\n",
            "Epoch 10/30\n",
            "71/71 [==============================] - 0s 4ms/step - loss: 0.8794 - accuracy: 0.0000e+00 - val_loss: 0.8286 - val_accuracy: 0.0000e+00\n",
            "Epoch 11/30\n",
            "71/71 [==============================] - 0s 4ms/step - loss: 0.8429 - accuracy: 0.0000e+00 - val_loss: 0.8416 - val_accuracy: 0.0000e+00\n",
            "Epoch 12/30\n",
            "71/71 [==============================] - 0s 4ms/step - loss: 0.8145 - accuracy: 0.0000e+00 - val_loss: 0.8018 - val_accuracy: 0.0000e+00\n",
            "Epoch 13/30\n",
            "71/71 [==============================] - 0s 4ms/step - loss: 0.7941 - accuracy: 0.0000e+00 - val_loss: 0.7850 - val_accuracy: 0.0000e+00\n",
            "Epoch 14/30\n",
            "71/71 [==============================] - 0s 4ms/step - loss: 0.7751 - accuracy: 0.0000e+00 - val_loss: 0.7835 - val_accuracy: 0.0000e+00\n",
            "Epoch 15/30\n",
            "71/71 [==============================] - 0s 4ms/step - loss: 0.7527 - accuracy: 0.0000e+00 - val_loss: 0.7735 - val_accuracy: 0.0000e+00\n",
            "Epoch 16/30\n",
            "71/71 [==============================] - 0s 4ms/step - loss: 0.7434 - accuracy: 0.0000e+00 - val_loss: 0.7389 - val_accuracy: 0.0000e+00\n",
            "Epoch 17/30\n",
            "71/71 [==============================] - 0s 4ms/step - loss: 0.7234 - accuracy: 0.0000e+00 - val_loss: 0.7428 - val_accuracy: 0.0000e+00\n",
            "Epoch 18/30\n",
            "71/71 [==============================] - 0s 4ms/step - loss: 0.7225 - accuracy: 0.0000e+00 - val_loss: 0.7478 - val_accuracy: 0.0000e+00\n",
            "Epoch 19/30\n",
            "71/71 [==============================] - 0s 4ms/step - loss: 0.7142 - accuracy: 0.0000e+00 - val_loss: 0.7130 - val_accuracy: 0.0000e+00\n",
            "Epoch 20/30\n",
            "71/71 [==============================] - 0s 4ms/step - loss: 0.7021 - accuracy: 0.0000e+00 - val_loss: 0.7065 - val_accuracy: 0.0000e+00\n",
            "Epoch 21/30\n",
            "71/71 [==============================] - 0s 4ms/step - loss: 0.6890 - accuracy: 0.0000e+00 - val_loss: 0.7098 - val_accuracy: 0.0000e+00\n",
            "Epoch 22/30\n",
            "71/71 [==============================] - 0s 4ms/step - loss: 0.6811 - accuracy: 0.0000e+00 - val_loss: 0.6908 - val_accuracy: 0.0000e+00\n",
            "Epoch 23/30\n",
            "71/71 [==============================] - 0s 4ms/step - loss: 0.6883 - accuracy: 0.0000e+00 - val_loss: 0.7100 - val_accuracy: 0.0000e+00\n",
            "Epoch 24/30\n",
            "71/71 [==============================] - 0s 4ms/step - loss: 0.6729 - accuracy: 0.0000e+00 - val_loss: 0.7086 - val_accuracy: 0.0000e+00\n",
            "Epoch 25/30\n",
            "71/71 [==============================] - 0s 4ms/step - loss: 0.6619 - accuracy: 0.0000e+00 - val_loss: 0.6841 - val_accuracy: 0.0000e+00\n",
            "Epoch 26/30\n",
            "71/71 [==============================] - 0s 4ms/step - loss: 0.6665 - accuracy: 0.0000e+00 - val_loss: 0.7088 - val_accuracy: 0.0000e+00\n",
            "Epoch 27/30\n",
            "71/71 [==============================] - 0s 4ms/step - loss: 0.6546 - accuracy: 0.0000e+00 - val_loss: 0.7116 - val_accuracy: 0.0000e+00\n",
            "Epoch 28/30\n",
            "71/71 [==============================] - 0s 4ms/step - loss: 0.6588 - accuracy: 0.0000e+00 - val_loss: 0.6751 - val_accuracy: 0.0000e+00\n",
            "Epoch 29/30\n",
            "71/71 [==============================] - 0s 4ms/step - loss: 0.6451 - accuracy: 0.0000e+00 - val_loss: 0.6713 - val_accuracy: 0.0000e+00\n",
            "Epoch 30/30\n",
            "71/71 [==============================] - 0s 4ms/step - loss: 0.6453 - accuracy: 0.0000e+00 - val_loss: 0.6715 - val_accuracy: 0.0000e+00\n",
            "18/18 [==============================] - 0s 2ms/step - loss: 0.6790 - accuracy: 0.0000e+00\n",
            "Epoch 1/30\n",
            "71/71 [==============================] - 0s 5ms/step - loss: 4.3584 - accuracy: 0.0000e+00 - val_loss: 1.3422 - val_accuracy: 0.0000e+00\n",
            "Epoch 2/30\n",
            "71/71 [==============================] - 0s 4ms/step - loss: 1.3977 - accuracy: 0.0000e+00 - val_loss: 1.1643 - val_accuracy: 0.0000e+00\n",
            "Epoch 3/30\n",
            "71/71 [==============================] - 0s 4ms/step - loss: 1.2200 - accuracy: 0.0000e+00 - val_loss: 0.9959 - val_accuracy: 0.0000e+00\n",
            "Epoch 4/30\n",
            "71/71 [==============================] - 0s 4ms/step - loss: 1.0981 - accuracy: 0.0000e+00 - val_loss: 0.9385 - val_accuracy: 0.0000e+00\n",
            "Epoch 5/30\n",
            "71/71 [==============================] - 0s 4ms/step - loss: 0.9981 - accuracy: 0.0000e+00 - val_loss: 0.8815 - val_accuracy: 0.0000e+00\n",
            "Epoch 6/30\n",
            "71/71 [==============================] - 0s 4ms/step - loss: 0.9355 - accuracy: 0.0000e+00 - val_loss: 0.8554 - val_accuracy: 0.0000e+00\n",
            "Epoch 7/30\n",
            "71/71 [==============================] - 0s 4ms/step - loss: 0.8719 - accuracy: 0.0000e+00 - val_loss: 0.8008 - val_accuracy: 0.0000e+00\n",
            "Epoch 8/30\n",
            "71/71 [==============================] - 0s 4ms/step - loss: 0.8314 - accuracy: 0.0000e+00 - val_loss: 0.7787 - val_accuracy: 0.0000e+00\n",
            "Epoch 9/30\n",
            "71/71 [==============================] - 0s 4ms/step - loss: 0.7902 - accuracy: 0.0000e+00 - val_loss: 0.7806 - val_accuracy: 0.0000e+00\n",
            "Epoch 10/30\n",
            "71/71 [==============================] - 0s 4ms/step - loss: 0.7663 - accuracy: 0.0000e+00 - val_loss: 0.7717 - val_accuracy: 0.0000e+00\n",
            "Epoch 11/30\n",
            "71/71 [==============================] - 0s 4ms/step - loss: 0.7421 - accuracy: 0.0000e+00 - val_loss: 0.7383 - val_accuracy: 0.0000e+00\n",
            "Epoch 12/30\n",
            "71/71 [==============================] - 0s 4ms/step - loss: 0.7249 - accuracy: 0.0000e+00 - val_loss: 0.7256 - val_accuracy: 0.0000e+00\n",
            "Epoch 13/30\n",
            "71/71 [==============================] - 0s 4ms/step - loss: 0.7037 - accuracy: 0.0000e+00 - val_loss: 0.7515 - val_accuracy: 0.0000e+00\n",
            "Epoch 14/30\n",
            "71/71 [==============================] - 0s 4ms/step - loss: 0.6945 - accuracy: 0.0000e+00 - val_loss: 0.7453 - val_accuracy: 0.0000e+00\n",
            "Epoch 15/30\n",
            "71/71 [==============================] - 0s 4ms/step - loss: 0.6746 - accuracy: 0.0000e+00 - val_loss: 0.7118 - val_accuracy: 0.0000e+00\n",
            "Epoch 16/30\n",
            "71/71 [==============================] - 0s 4ms/step - loss: 0.6646 - accuracy: 0.0000e+00 - val_loss: 0.7012 - val_accuracy: 0.0000e+00\n",
            "Epoch 17/30\n",
            "71/71 [==============================] - 0s 3ms/step - loss: 0.6650 - accuracy: 0.0000e+00 - val_loss: 0.6996 - val_accuracy: 0.0000e+00\n",
            "Epoch 18/30\n",
            "71/71 [==============================] - 0s 4ms/step - loss: 0.6466 - accuracy: 0.0000e+00 - val_loss: 0.6855 - val_accuracy: 0.0000e+00\n",
            "Epoch 19/30\n",
            "71/71 [==============================] - 0s 4ms/step - loss: 0.6369 - accuracy: 0.0000e+00 - val_loss: 0.7814 - val_accuracy: 0.0000e+00\n",
            "Epoch 20/30\n",
            "71/71 [==============================] - 0s 4ms/step - loss: 0.6364 - accuracy: 0.0000e+00 - val_loss: 0.6859 - val_accuracy: 0.0000e+00\n",
            "Epoch 21/30\n",
            "71/71 [==============================] - 0s 4ms/step - loss: 0.6371 - accuracy: 0.0000e+00 - val_loss: 0.7442 - val_accuracy: 0.0000e+00\n",
            "Epoch 22/30\n",
            "71/71 [==============================] - 0s 4ms/step - loss: 0.6215 - accuracy: 0.0000e+00 - val_loss: 0.6818 - val_accuracy: 0.0000e+00\n",
            "Epoch 23/30\n",
            "71/71 [==============================] - 0s 4ms/step - loss: 0.6172 - accuracy: 0.0000e+00 - val_loss: 0.6802 - val_accuracy: 0.0000e+00\n",
            "Epoch 24/30\n",
            "71/71 [==============================] - 0s 4ms/step - loss: 0.6145 - accuracy: 0.0000e+00 - val_loss: 0.6903 - val_accuracy: 0.0000e+00\n",
            "Epoch 25/30\n",
            "71/71 [==============================] - 0s 4ms/step - loss: 0.6124 - accuracy: 0.0000e+00 - val_loss: 0.6772 - val_accuracy: 0.0000e+00\n",
            "Epoch 26/30\n",
            "71/71 [==============================] - 0s 4ms/step - loss: 0.6101 - accuracy: 0.0000e+00 - val_loss: 0.6738 - val_accuracy: 0.0000e+00\n",
            "Epoch 27/30\n",
            "71/71 [==============================] - 0s 4ms/step - loss: 0.5942 - accuracy: 0.0000e+00 - val_loss: 0.6732 - val_accuracy: 0.0000e+00\n",
            "Epoch 28/30\n",
            "71/71 [==============================] - 0s 4ms/step - loss: 0.5970 - accuracy: 0.0000e+00 - val_loss: 0.6746 - val_accuracy: 0.0000e+00\n",
            "Epoch 29/30\n",
            "71/71 [==============================] - 0s 4ms/step - loss: 0.5853 - accuracy: 0.0000e+00 - val_loss: 0.6894 - val_accuracy: 0.0000e+00\n",
            "Epoch 30/30\n",
            "71/71 [==============================] - 0s 4ms/step - loss: 0.5858 - accuracy: 0.0000e+00 - val_loss: 0.6820 - val_accuracy: 0.0000e+00\n",
            "18/18 [==============================] - 0s 2ms/step - loss: 0.9618 - accuracy: 0.0000e+00\n",
            "Epoch 1/30\n",
            "71/71 [==============================] - 0s 5ms/step - loss: 4.9982 - accuracy: 0.0000e+00 - val_loss: 1.7246 - val_accuracy: 0.0000e+00\n",
            "Epoch 2/30\n",
            "71/71 [==============================] - 0s 4ms/step - loss: 1.7645 - accuracy: 0.0000e+00 - val_loss: 1.3777 - val_accuracy: 0.0000e+00\n",
            "Epoch 3/30\n",
            "71/71 [==============================] - 0s 4ms/step - loss: 1.3247 - accuracy: 0.0000e+00 - val_loss: 1.1352 - val_accuracy: 0.0000e+00\n",
            "Epoch 4/30\n",
            "71/71 [==============================] - 0s 4ms/step - loss: 1.1997 - accuracy: 0.0000e+00 - val_loss: 1.0294 - val_accuracy: 0.0000e+00\n",
            "Epoch 5/30\n",
            "71/71 [==============================] - 0s 4ms/step - loss: 1.1033 - accuracy: 0.0000e+00 - val_loss: 0.9691 - val_accuracy: 0.0000e+00\n",
            "Epoch 6/30\n",
            "71/71 [==============================] - 0s 4ms/step - loss: 1.0320 - accuracy: 0.0000e+00 - val_loss: 0.9220 - val_accuracy: 0.0000e+00\n",
            "Epoch 7/30\n",
            "71/71 [==============================] - 0s 4ms/step - loss: 0.9907 - accuracy: 0.0000e+00 - val_loss: 0.8926 - val_accuracy: 0.0000e+00\n",
            "Epoch 8/30\n",
            "71/71 [==============================] - 0s 4ms/step - loss: 0.9293 - accuracy: 0.0000e+00 - val_loss: 0.8606 - val_accuracy: 0.0000e+00\n",
            "Epoch 9/30\n",
            "71/71 [==============================] - 0s 4ms/step - loss: 0.8945 - accuracy: 0.0000e+00 - val_loss: 0.8243 - val_accuracy: 0.0000e+00\n",
            "Epoch 10/30\n",
            "71/71 [==============================] - 0s 4ms/step - loss: 0.8580 - accuracy: 0.0000e+00 - val_loss: 0.7890 - val_accuracy: 0.0000e+00\n",
            "Epoch 11/30\n",
            "71/71 [==============================] - 0s 4ms/step - loss: 0.8354 - accuracy: 0.0000e+00 - val_loss: 0.7922 - val_accuracy: 0.0000e+00\n",
            "Epoch 12/30\n",
            "71/71 [==============================] - 0s 4ms/step - loss: 0.8017 - accuracy: 0.0000e+00 - val_loss: 0.7727 - val_accuracy: 0.0000e+00\n",
            "Epoch 13/30\n",
            "71/71 [==============================] - 0s 4ms/step - loss: 0.8041 - accuracy: 0.0000e+00 - val_loss: 0.7945 - val_accuracy: 0.0000e+00\n",
            "Epoch 14/30\n",
            "71/71 [==============================] - 0s 4ms/step - loss: 0.7827 - accuracy: 0.0000e+00 - val_loss: 0.7584 - val_accuracy: 0.0000e+00\n",
            "Epoch 15/30\n",
            "71/71 [==============================] - 0s 4ms/step - loss: 0.7650 - accuracy: 0.0000e+00 - val_loss: 0.7552 - val_accuracy: 0.0000e+00\n",
            "Epoch 16/30\n",
            "71/71 [==============================] - 0s 4ms/step - loss: 0.7423 - accuracy: 0.0000e+00 - val_loss: 0.8116 - val_accuracy: 0.0000e+00\n",
            "Epoch 17/30\n",
            "71/71 [==============================] - 0s 4ms/step - loss: 0.7388 - accuracy: 0.0000e+00 - val_loss: 0.7338 - val_accuracy: 0.0000e+00\n",
            "Epoch 18/30\n",
            "71/71 [==============================] - 0s 4ms/step - loss: 0.7326 - accuracy: 0.0000e+00 - val_loss: 0.7168 - val_accuracy: 0.0000e+00\n",
            "Epoch 19/30\n",
            "71/71 [==============================] - 0s 4ms/step - loss: 0.7216 - accuracy: 0.0000e+00 - val_loss: 0.7620 - val_accuracy: 0.0000e+00\n",
            "Epoch 20/30\n",
            "71/71 [==============================] - 0s 4ms/step - loss: 0.7146 - accuracy: 0.0000e+00 - val_loss: 0.7101 - val_accuracy: 0.0000e+00\n",
            "Epoch 21/30\n",
            "71/71 [==============================] - 0s 4ms/step - loss: 0.7095 - accuracy: 0.0000e+00 - val_loss: 0.7049 - val_accuracy: 0.0000e+00\n",
            "Epoch 22/30\n",
            "71/71 [==============================] - 0s 4ms/step - loss: 0.6975 - accuracy: 0.0000e+00 - val_loss: 0.7040 - val_accuracy: 0.0000e+00\n",
            "Epoch 23/30\n",
            "71/71 [==============================] - 0s 4ms/step - loss: 0.6968 - accuracy: 0.0000e+00 - val_loss: 0.6947 - val_accuracy: 0.0000e+00\n",
            "Epoch 24/30\n",
            "71/71 [==============================] - 0s 4ms/step - loss: 0.6881 - accuracy: 0.0000e+00 - val_loss: 0.7196 - val_accuracy: 0.0000e+00\n",
            "Epoch 25/30\n",
            "71/71 [==============================] - 0s 4ms/step - loss: 0.6775 - accuracy: 0.0000e+00 - val_loss: 0.6897 - val_accuracy: 0.0000e+00\n",
            "Epoch 26/30\n",
            "71/71 [==============================] - 0s 4ms/step - loss: 0.6777 - accuracy: 0.0000e+00 - val_loss: 0.7108 - val_accuracy: 0.0000e+00\n",
            "Epoch 27/30\n",
            "71/71 [==============================] - 0s 4ms/step - loss: 0.6865 - accuracy: 0.0000e+00 - val_loss: 0.6867 - val_accuracy: 0.0000e+00\n",
            "Epoch 28/30\n",
            "71/71 [==============================] - 0s 4ms/step - loss: 0.6641 - accuracy: 0.0000e+00 - val_loss: 0.6929 - val_accuracy: 0.0000e+00\n",
            "Epoch 29/30\n",
            "71/71 [==============================] - 0s 4ms/step - loss: 0.6662 - accuracy: 0.0000e+00 - val_loss: 0.6940 - val_accuracy: 0.0000e+00\n",
            "Epoch 30/30\n",
            "71/71 [==============================] - 0s 4ms/step - loss: 0.6694 - accuracy: 0.0000e+00 - val_loss: 0.6829 - val_accuracy: 0.0000e+00\n",
            "18/18 [==============================] - 0s 2ms/step - loss: 0.6036 - accuracy: 0.0000e+00\n",
            "Epoch 1/30\n",
            "71/71 [==============================] - 0s 4ms/step - loss: nan - accuracy: 0.0000e+00 - val_loss: nan - val_accuracy: 0.0000e+00\n",
            "Epoch 2/30\n",
            "71/71 [==============================] - 0s 3ms/step - loss: nan - accuracy: 0.0000e+00 - val_loss: nan - val_accuracy: 0.0000e+00\n",
            "Epoch 3/30\n",
            "71/71 [==============================] - 0s 4ms/step - loss: nan - accuracy: 0.0000e+00 - val_loss: nan - val_accuracy: 0.0000e+00\n",
            "Epoch 4/30\n",
            "71/71 [==============================] - 0s 4ms/step - loss: nan - accuracy: 0.0000e+00 - val_loss: nan - val_accuracy: 0.0000e+00\n",
            "Epoch 5/30\n",
            "71/71 [==============================] - 0s 3ms/step - loss: nan - accuracy: 0.0000e+00 - val_loss: nan - val_accuracy: 0.0000e+00\n",
            "18/18 [==============================] - 0s 2ms/step - loss: nan - accuracy: 0.0000e+00\n",
            "Epoch 1/30\n",
            "71/71 [==============================] - 0s 5ms/step - loss: nan - accuracy: 0.0000e+00 - val_loss: nan - val_accuracy: 0.0000e+00\n",
            "Epoch 2/30\n",
            "71/71 [==============================] - 0s 4ms/step - loss: nan - accuracy: 0.0000e+00 - val_loss: nan - val_accuracy: 0.0000e+00\n",
            "Epoch 3/30\n",
            "71/71 [==============================] - 0s 4ms/step - loss: nan - accuracy: 0.0000e+00 - val_loss: nan - val_accuracy: 0.0000e+00\n",
            "Epoch 4/30\n",
            "71/71 [==============================] - 0s 4ms/step - loss: nan - accuracy: 0.0000e+00 - val_loss: nan - val_accuracy: 0.0000e+00\n",
            "Epoch 5/30\n",
            "71/71 [==============================] - 0s 4ms/step - loss: nan - accuracy: 0.0000e+00 - val_loss: nan - val_accuracy: 0.0000e+00\n",
            "18/18 [==============================] - 0s 2ms/step - loss: nan - accuracy: 0.0000e+00\n",
            "Epoch 1/30\n",
            "71/71 [==============================] - 0s 5ms/step - loss: nan - accuracy: 0.0000e+00 - val_loss: nan - val_accuracy: 0.0000e+00\n",
            "Epoch 2/30\n",
            "71/71 [==============================] - 0s 4ms/step - loss: nan - accuracy: 0.0000e+00 - val_loss: nan - val_accuracy: 0.0000e+00\n",
            "Epoch 3/30\n",
            "71/71 [==============================] - 0s 4ms/step - loss: nan - accuracy: 0.0000e+00 - val_loss: nan - val_accuracy: 0.0000e+00\n",
            "Epoch 4/30\n",
            "71/71 [==============================] - 0s 4ms/step - loss: nan - accuracy: 0.0000e+00 - val_loss: nan - val_accuracy: 0.0000e+00\n",
            "Epoch 5/30\n",
            "71/71 [==============================] - 0s 4ms/step - loss: nan - accuracy: 0.0000e+00 - val_loss: nan - val_accuracy: 0.0000e+00\n",
            "18/18 [==============================] - 0s 2ms/step - loss: nan - accuracy: 0.0000e+00\n",
            "Epoch 1/30\n",
            "71/71 [==============================] - 0s 5ms/step - loss: nan - accuracy: 0.0000e+00 - val_loss: nan - val_accuracy: 0.0000e+00\n",
            "Epoch 2/30\n",
            "71/71 [==============================] - 0s 3ms/step - loss: nan - accuracy: 0.0000e+00 - val_loss: nan - val_accuracy: 0.0000e+00\n",
            "Epoch 3/30\n",
            "71/71 [==============================] - 0s 4ms/step - loss: nan - accuracy: 0.0000e+00 - val_loss: nan - val_accuracy: 0.0000e+00\n",
            "Epoch 4/30\n",
            "71/71 [==============================] - 0s 3ms/step - loss: nan - accuracy: 0.0000e+00 - val_loss: nan - val_accuracy: 0.0000e+00\n",
            "Epoch 5/30\n",
            "71/71 [==============================] - 0s 4ms/step - loss: nan - accuracy: 0.0000e+00 - val_loss: nan - val_accuracy: 0.0000e+00\n",
            "18/18 [==============================] - 0s 2ms/step - loss: nan - accuracy: 0.0000e+00\n",
            "Epoch 1/30\n",
            "71/71 [==============================] - 0s 4ms/step - loss: nan - accuracy: 0.0000e+00 - val_loss: nan - val_accuracy: 0.0000e+00\n",
            "Epoch 2/30\n",
            "71/71 [==============================] - 0s 4ms/step - loss: nan - accuracy: 0.0000e+00 - val_loss: nan - val_accuracy: 0.0000e+00\n",
            "Epoch 3/30\n",
            "71/71 [==============================] - 0s 4ms/step - loss: nan - accuracy: 0.0000e+00 - val_loss: nan - val_accuracy: 0.0000e+00\n",
            "Epoch 4/30\n",
            "71/71 [==============================] - 0s 4ms/step - loss: nan - accuracy: 0.0000e+00 - val_loss: nan - val_accuracy: 0.0000e+00\n",
            "Epoch 5/30\n",
            "71/71 [==============================] - 0s 3ms/step - loss: nan - accuracy: 0.0000e+00 - val_loss: nan - val_accuracy: 0.0000e+00\n",
            "18/18 [==============================] - 0s 2ms/step - loss: nan - accuracy: 0.0000e+00\n",
            "Epoch 1/30\n",
            "71/71 [==============================] - 0s 5ms/step - loss: nan - accuracy: 0.0000e+00 - val_loss: nan - val_accuracy: 0.0000e+00\n",
            "Epoch 2/30\n",
            "71/71 [==============================] - 0s 4ms/step - loss: nan - accuracy: 0.0000e+00 - val_loss: nan - val_accuracy: 0.0000e+00\n",
            "Epoch 3/30\n",
            "71/71 [==============================] - 0s 4ms/step - loss: nan - accuracy: 0.0000e+00 - val_loss: nan - val_accuracy: 0.0000e+00\n",
            "Epoch 4/30\n",
            "71/71 [==============================] - 0s 4ms/step - loss: nan - accuracy: 0.0000e+00 - val_loss: nan - val_accuracy: 0.0000e+00\n",
            "Epoch 5/30\n",
            "71/71 [==============================] - 0s 4ms/step - loss: nan - accuracy: 0.0000e+00 - val_loss: nan - val_accuracy: 0.0000e+00\n",
            "18/18 [==============================] - 0s 2ms/step - loss: nan - accuracy: 0.0000e+00\n",
            "Epoch 1/30\n",
            "71/71 [==============================] - 0s 5ms/step - loss: nan - accuracy: 0.0000e+00 - val_loss: nan - val_accuracy: 0.0000e+00\n",
            "Epoch 2/30\n",
            "71/71 [==============================] - 0s 4ms/step - loss: nan - accuracy: 0.0000e+00 - val_loss: nan - val_accuracy: 0.0000e+00\n",
            "Epoch 3/30\n",
            "71/71 [==============================] - 0s 4ms/step - loss: nan - accuracy: 0.0000e+00 - val_loss: nan - val_accuracy: 0.0000e+00\n",
            "Epoch 4/30\n",
            "71/71 [==============================] - 0s 4ms/step - loss: nan - accuracy: 0.0000e+00 - val_loss: nan - val_accuracy: 0.0000e+00\n",
            "Epoch 5/30\n",
            "71/71 [==============================] - 0s 4ms/step - loss: nan - accuracy: 0.0000e+00 - val_loss: nan - val_accuracy: 0.0000e+00\n",
            "18/18 [==============================] - 0s 2ms/step - loss: nan - accuracy: 0.0000e+00\n",
            "Epoch 1/30\n",
            "71/71 [==============================] - 0s 5ms/step - loss: nan - accuracy: 0.0000e+00 - val_loss: nan - val_accuracy: 0.0000e+00\n",
            "Epoch 2/30\n",
            "71/71 [==============================] - 0s 4ms/step - loss: nan - accuracy: 0.0000e+00 - val_loss: nan - val_accuracy: 0.0000e+00\n",
            "Epoch 3/30\n",
            "71/71 [==============================] - 0s 4ms/step - loss: nan - accuracy: 0.0000e+00 - val_loss: nan - val_accuracy: 0.0000e+00\n",
            "Epoch 4/30\n",
            "71/71 [==============================] - 0s 4ms/step - loss: nan - accuracy: 0.0000e+00 - val_loss: nan - val_accuracy: 0.0000e+00\n",
            "Epoch 5/30\n",
            "71/71 [==============================] - 0s 4ms/step - loss: nan - accuracy: 0.0000e+00 - val_loss: nan - val_accuracy: 0.0000e+00\n",
            "18/18 [==============================] - 0s 3ms/step - loss: nan - accuracy: 0.0000e+00\n",
            "Epoch 1/30\n",
            "71/71 [==============================] - 0s 5ms/step - loss: nan - accuracy: 0.0000e+00 - val_loss: nan - val_accuracy: 0.0000e+00\n",
            "Epoch 2/30\n",
            "71/71 [==============================] - 0s 4ms/step - loss: nan - accuracy: 0.0000e+00 - val_loss: nan - val_accuracy: 0.0000e+00\n",
            "Epoch 3/30\n",
            "71/71 [==============================] - 0s 4ms/step - loss: nan - accuracy: 0.0000e+00 - val_loss: nan - val_accuracy: 0.0000e+00\n",
            "Epoch 4/30\n",
            "71/71 [==============================] - 0s 4ms/step - loss: nan - accuracy: 0.0000e+00 - val_loss: nan - val_accuracy: 0.0000e+00\n",
            "Epoch 5/30\n",
            "71/71 [==============================] - 0s 4ms/step - loss: nan - accuracy: 0.0000e+00 - val_loss: nan - val_accuracy: 0.0000e+00\n",
            "18/18 [==============================] - 0s 2ms/step - loss: nan - accuracy: 0.0000e+00\n",
            "Epoch 1/30\n",
            "71/71 [==============================] - 0s 5ms/step - loss: nan - accuracy: 0.0000e+00 - val_loss: nan - val_accuracy: 0.0000e+00\n",
            "Epoch 2/30\n",
            "71/71 [==============================] - 0s 4ms/step - loss: nan - accuracy: 0.0000e+00 - val_loss: nan - val_accuracy: 0.0000e+00\n",
            "Epoch 3/30\n",
            "71/71 [==============================] - 0s 4ms/step - loss: nan - accuracy: 0.0000e+00 - val_loss: nan - val_accuracy: 0.0000e+00\n",
            "Epoch 4/30\n",
            "71/71 [==============================] - 0s 4ms/step - loss: nan - accuracy: 0.0000e+00 - val_loss: nan - val_accuracy: 0.0000e+00\n",
            "Epoch 5/30\n",
            "71/71 [==============================] - 0s 4ms/step - loss: nan - accuracy: 0.0000e+00 - val_loss: nan - val_accuracy: 0.0000e+00\n",
            "18/18 [==============================] - 0s 2ms/step - loss: nan - accuracy: 0.0000e+00\n",
            "Epoch 1/30\n",
            "71/71 [==============================] - 0s 5ms/step - loss: 3.3341 - accuracy: 0.0000e+00 - val_loss: 2.0714 - val_accuracy: 0.0000e+00\n",
            "Epoch 2/30\n",
            "71/71 [==============================] - 0s 4ms/step - loss: 2.3152 - accuracy: 0.0000e+00 - val_loss: 1.5093 - val_accuracy: 0.0000e+00\n",
            "Epoch 3/30\n",
            "71/71 [==============================] - 0s 3ms/step - loss: 4.4994 - accuracy: 0.0000e+00 - val_loss: 1.0685 - val_accuracy: 0.0000e+00\n",
            "Epoch 4/30\n",
            "71/71 [==============================] - 0s 4ms/step - loss: 5.0252 - accuracy: 0.0000e+00 - val_loss: 11.8000 - val_accuracy: 0.0000e+00\n",
            "Epoch 5/30\n",
            "71/71 [==============================] - 0s 4ms/step - loss: nan - accuracy: 0.0000e+00 - val_loss: nan - val_accuracy: 0.0000e+00\n",
            "Epoch 6/30\n",
            "71/71 [==============================] - 0s 4ms/step - loss: nan - accuracy: 0.0000e+00 - val_loss: nan - val_accuracy: 0.0000e+00\n",
            "Epoch 7/30\n",
            "71/71 [==============================] - 0s 4ms/step - loss: nan - accuracy: 0.0000e+00 - val_loss: nan - val_accuracy: 0.0000e+00\n",
            "Epoch 8/30\n",
            "71/71 [==============================] - 0s 4ms/step - loss: nan - accuracy: 0.0000e+00 - val_loss: nan - val_accuracy: 0.0000e+00\n",
            "18/18 [==============================] - 0s 2ms/step - loss: nan - accuracy: 0.0000e+00\n",
            "Epoch 1/30\n",
            "71/71 [==============================] - 0s 5ms/step - loss: 2.7892 - accuracy: 0.0000e+00 - val_loss: 1.2182 - val_accuracy: 0.0000e+00\n",
            "Epoch 2/30\n",
            "71/71 [==============================] - 0s 4ms/step - loss: 1.3943 - accuracy: 0.0000e+00 - val_loss: 1.1503 - val_accuracy: 0.0000e+00\n",
            "Epoch 3/30\n",
            "71/71 [==============================] - 0s 4ms/step - loss: 1.8041 - accuracy: 0.0000e+00 - val_loss: 0.9525 - val_accuracy: 0.0000e+00\n",
            "Epoch 4/30\n",
            "71/71 [==============================] - 0s 4ms/step - loss: 1.0096 - accuracy: 0.0000e+00 - val_loss: 1.0485 - val_accuracy: 0.0000e+00\n",
            "Epoch 5/30\n",
            "71/71 [==============================] - 0s 4ms/step - loss: 1.2947 - accuracy: 0.0000e+00 - val_loss: 0.7768 - val_accuracy: 0.0000e+00\n",
            "Epoch 6/30\n",
            "71/71 [==============================] - 0s 4ms/step - loss: 0.9098 - accuracy: 0.0000e+00 - val_loss: 0.8512 - val_accuracy: 0.0000e+00\n",
            "Epoch 7/30\n",
            "71/71 [==============================] - 0s 4ms/step - loss: 0.7869 - accuracy: 0.0000e+00 - val_loss: 0.9313 - val_accuracy: 0.0000e+00\n",
            "Epoch 8/30\n",
            "71/71 [==============================] - 0s 4ms/step - loss: 0.7822 - accuracy: 0.0000e+00 - val_loss: 1.0553 - val_accuracy: 0.0000e+00\n",
            "Epoch 9/30\n",
            "71/71 [==============================] - 0s 4ms/step - loss: 0.7662 - accuracy: 0.0000e+00 - val_loss: 0.6956 - val_accuracy: 0.0000e+00\n",
            "Epoch 10/30\n",
            "71/71 [==============================] - 0s 4ms/step - loss: 0.7235 - accuracy: 0.0000e+00 - val_loss: 0.8142 - val_accuracy: 0.0000e+00\n",
            "Epoch 11/30\n",
            "71/71 [==============================] - 0s 4ms/step - loss: 0.7050 - accuracy: 0.0000e+00 - val_loss: 0.6860 - val_accuracy: 0.0000e+00\n",
            "Epoch 12/30\n",
            "71/71 [==============================] - 0s 4ms/step - loss: 0.6777 - accuracy: 0.0000e+00 - val_loss: 0.6913 - val_accuracy: 0.0000e+00\n",
            "Epoch 13/30\n",
            "71/71 [==============================] - 0s 4ms/step - loss: 0.6817 - accuracy: 0.0000e+00 - val_loss: 0.7152 - val_accuracy: 0.0000e+00\n",
            "Epoch 14/30\n",
            "71/71 [==============================] - 0s 4ms/step - loss: 0.7088 - accuracy: 0.0000e+00 - val_loss: 0.8797 - val_accuracy: 0.0000e+00\n",
            "Epoch 15/30\n",
            "71/71 [==============================] - 0s 4ms/step - loss: 0.6684 - accuracy: 0.0000e+00 - val_loss: 0.6696 - val_accuracy: 0.0000e+00\n",
            "Epoch 16/30\n",
            "71/71 [==============================] - 0s 3ms/step - loss: 0.6644 - accuracy: 0.0000e+00 - val_loss: 0.7425 - val_accuracy: 0.0000e+00\n",
            "Epoch 17/30\n",
            "71/71 [==============================] - 0s 4ms/step - loss: 0.6224 - accuracy: 0.0000e+00 - val_loss: 0.7897 - val_accuracy: 0.0000e+00\n",
            "Epoch 18/30\n",
            "71/71 [==============================] - 0s 4ms/step - loss: 0.6359 - accuracy: 0.0000e+00 - val_loss: 0.6680 - val_accuracy: 0.0000e+00\n",
            "Epoch 19/30\n",
            "71/71 [==============================] - 0s 4ms/step - loss: 0.6278 - accuracy: 0.0000e+00 - val_loss: 0.6669 - val_accuracy: 0.0000e+00\n",
            "Epoch 20/30\n",
            "71/71 [==============================] - 0s 4ms/step - loss: 0.6866 - accuracy: 0.0000e+00 - val_loss: 0.6672 - val_accuracy: 0.0000e+00\n",
            "Epoch 21/30\n",
            "71/71 [==============================] - 0s 4ms/step - loss: 0.6436 - accuracy: 0.0000e+00 - val_loss: 0.7859 - val_accuracy: 0.0000e+00\n",
            "Epoch 22/30\n",
            "71/71 [==============================] - 0s 4ms/step - loss: 0.6179 - accuracy: 0.0000e+00 - val_loss: 0.6629 - val_accuracy: 0.0000e+00\n",
            "Epoch 23/30\n",
            "71/71 [==============================] - 0s 4ms/step - loss: 0.6152 - accuracy: 0.0000e+00 - val_loss: 0.6941 - val_accuracy: 0.0000e+00\n",
            "Epoch 24/30\n",
            "71/71 [==============================] - 0s 4ms/step - loss: 0.6076 - accuracy: 0.0000e+00 - val_loss: 0.6871 - val_accuracy: 0.0000e+00\n",
            "Epoch 25/30\n",
            "71/71 [==============================] - 0s 4ms/step - loss: 0.6056 - accuracy: 0.0000e+00 - val_loss: 0.6947 - val_accuracy: 0.0000e+00\n",
            "Epoch 26/30\n",
            "71/71 [==============================] - 0s 4ms/step - loss: 0.6041 - accuracy: 0.0000e+00 - val_loss: 0.7603 - val_accuracy: 0.0000e+00\n",
            "Epoch 27/30\n",
            "71/71 [==============================] - 0s 4ms/step - loss: 0.5949 - accuracy: 0.0000e+00 - val_loss: 0.6565 - val_accuracy: 0.0000e+00\n",
            "Epoch 28/30\n",
            "71/71 [==============================] - 0s 4ms/step - loss: 0.6011 - accuracy: 0.0000e+00 - val_loss: 0.6909 - val_accuracy: 0.0000e+00\n",
            "Epoch 29/30\n",
            "71/71 [==============================] - 0s 4ms/step - loss: 0.5767 - accuracy: 0.0000e+00 - val_loss: 0.6617 - val_accuracy: 0.0000e+00\n",
            "Epoch 30/30\n",
            "71/71 [==============================] - 0s 4ms/step - loss: 0.5880 - accuracy: 0.0000e+00 - val_loss: 0.6582 - val_accuracy: 0.0000e+00\n",
            "18/18 [==============================] - 0s 2ms/step - loss: 0.7868 - accuracy: 0.0000e+00\n",
            "Epoch 1/30\n",
            "71/71 [==============================] - 0s 5ms/step - loss: 3.1331 - accuracy: 0.0000e+00 - val_loss: 2.4295 - val_accuracy: 0.0000e+00\n",
            "Epoch 2/30\n",
            "71/71 [==============================] - 0s 4ms/step - loss: 1.7270 - accuracy: 0.0000e+00 - val_loss: 1.0147 - val_accuracy: 0.0000e+00\n",
            "Epoch 3/30\n",
            "71/71 [==============================] - 0s 3ms/step - loss: 1.2196 - accuracy: 0.0000e+00 - val_loss: 1.5585 - val_accuracy: 0.0000e+00\n",
            "Epoch 4/30\n",
            "71/71 [==============================] - 0s 4ms/step - loss: 1.1776 - accuracy: 0.0000e+00 - val_loss: 1.0129 - val_accuracy: 0.0000e+00\n",
            "Epoch 5/30\n",
            "71/71 [==============================] - 0s 4ms/step - loss: 0.9170 - accuracy: 0.0000e+00 - val_loss: 0.7817 - val_accuracy: 0.0000e+00\n",
            "Epoch 6/30\n",
            "71/71 [==============================] - 0s 4ms/step - loss: 0.8642 - accuracy: 0.0000e+00 - val_loss: 0.9565 - val_accuracy: 0.0000e+00\n",
            "Epoch 7/30\n",
            "71/71 [==============================] - 0s 4ms/step - loss: 0.8319 - accuracy: 0.0000e+00 - val_loss: 1.1564 - val_accuracy: 0.0000e+00\n",
            "Epoch 8/30\n",
            "71/71 [==============================] - 0s 4ms/step - loss: 0.8031 - accuracy: 0.0000e+00 - val_loss: 0.7400 - val_accuracy: 0.0000e+00\n",
            "Epoch 9/30\n",
            "71/71 [==============================] - 0s 4ms/step - loss: 0.7993 - accuracy: 0.0000e+00 - val_loss: 0.7967 - val_accuracy: 0.0000e+00\n",
            "Epoch 10/30\n",
            "71/71 [==============================] - 0s 4ms/step - loss: 0.7551 - accuracy: 0.0000e+00 - val_loss: 0.7212 - val_accuracy: 0.0000e+00\n",
            "Epoch 11/30\n",
            "71/71 [==============================] - 0s 3ms/step - loss: 0.7879 - accuracy: 0.0000e+00 - val_loss: 0.8108 - val_accuracy: 0.0000e+00\n",
            "Epoch 12/30\n",
            "71/71 [==============================] - 0s 4ms/step - loss: 0.7393 - accuracy: 0.0000e+00 - val_loss: 0.6762 - val_accuracy: 0.0000e+00\n",
            "Epoch 13/30\n",
            "71/71 [==============================] - 0s 4ms/step - loss: 0.6998 - accuracy: 0.0000e+00 - val_loss: 0.6814 - val_accuracy: 0.0000e+00\n",
            "Epoch 14/30\n",
            "71/71 [==============================] - 0s 3ms/step - loss: 0.7144 - accuracy: 0.0000e+00 - val_loss: 0.7355 - val_accuracy: 0.0000e+00\n",
            "Epoch 15/30\n",
            "71/71 [==============================] - 0s 3ms/step - loss: 0.6702 - accuracy: 0.0000e+00 - val_loss: 0.6929 - val_accuracy: 0.0000e+00\n",
            "Epoch 16/30\n",
            "71/71 [==============================] - 0s 4ms/step - loss: 0.7364 - accuracy: 0.0000e+00 - val_loss: 0.6849 - val_accuracy: 0.0000e+00\n",
            "Epoch 17/30\n",
            "71/71 [==============================] - 0s 4ms/step - loss: 0.7249 - accuracy: 0.0000e+00 - val_loss: 0.7069 - val_accuracy: 0.0000e+00\n",
            "18/18 [==============================] - 0s 2ms/step - loss: 0.7186 - accuracy: 0.0000e+00\n",
            "Epoch 1/30\n",
            "71/71 [==============================] - 0s 5ms/step - loss: 3.5566 - accuracy: 0.0000e+00 - val_loss: 1.4857 - val_accuracy: 0.0000e+00\n",
            "Epoch 2/30\n",
            "71/71 [==============================] - 0s 4ms/step - loss: 1.3957 - accuracy: 0.0000e+00 - val_loss: 1.6985 - val_accuracy: 0.0000e+00\n",
            "Epoch 3/30\n",
            "71/71 [==============================] - 0s 4ms/step - loss: 1.2877 - accuracy: 0.0000e+00 - val_loss: 1.0171 - val_accuracy: 0.0000e+00\n",
            "Epoch 4/30\n",
            "71/71 [==============================] - 0s 4ms/step - loss: 1.3540 - accuracy: 0.0000e+00 - val_loss: 0.8601 - val_accuracy: 0.0000e+00\n",
            "Epoch 5/30\n",
            "71/71 [==============================] - 0s 4ms/step - loss: 1.2456 - accuracy: 0.0000e+00 - val_loss: 0.9465 - val_accuracy: 0.0000e+00\n",
            "Epoch 6/30\n",
            "71/71 [==============================] - 0s 3ms/step - loss: 0.8499 - accuracy: 0.0000e+00 - val_loss: 0.8588 - val_accuracy: 0.0000e+00\n",
            "Epoch 7/30\n",
            "71/71 [==============================] - 0s 4ms/step - loss: 0.8687 - accuracy: 0.0000e+00 - val_loss: 0.8064 - val_accuracy: 0.0000e+00\n",
            "Epoch 8/30\n",
            "71/71 [==============================] - 0s 4ms/step - loss: 0.7727 - accuracy: 0.0000e+00 - val_loss: 0.7200 - val_accuracy: 0.0000e+00\n",
            "Epoch 9/30\n",
            "71/71 [==============================] - 0s 4ms/step - loss: 0.7009 - accuracy: 0.0000e+00 - val_loss: 0.6798 - val_accuracy: 0.0000e+00\n",
            "Epoch 10/30\n",
            "71/71 [==============================] - 0s 4ms/step - loss: 0.6925 - accuracy: 0.0000e+00 - val_loss: 0.6796 - val_accuracy: 0.0000e+00\n",
            "Epoch 11/30\n",
            "71/71 [==============================] - 0s 4ms/step - loss: 0.6611 - accuracy: 0.0000e+00 - val_loss: 0.8944 - val_accuracy: 0.0000e+00\n",
            "Epoch 12/30\n",
            "71/71 [==============================] - 0s 4ms/step - loss: 0.6695 - accuracy: 0.0000e+00 - val_loss: 0.6875 - val_accuracy: 0.0000e+00\n",
            "Epoch 13/30\n",
            "71/71 [==============================] - 0s 4ms/step - loss: 0.6919 - accuracy: 0.0000e+00 - val_loss: 0.7323 - val_accuracy: 0.0000e+00\n",
            "Epoch 14/30\n",
            "71/71 [==============================] - 0s 4ms/step - loss: 0.6340 - accuracy: 0.0000e+00 - val_loss: 0.7573 - val_accuracy: 0.0000e+00\n",
            "Epoch 15/30\n",
            "71/71 [==============================] - 0s 4ms/step - loss: 0.6719 - accuracy: 0.0000e+00 - val_loss: 0.7403 - val_accuracy: 0.0000e+00\n",
            "18/18 [==============================] - 0s 2ms/step - loss: 0.9404 - accuracy: 0.0000e+00\n",
            "Epoch 1/30\n",
            "71/71 [==============================] - 0s 5ms/step - loss: 3.5380 - accuracy: 0.0000e+00 - val_loss: 1.4558 - val_accuracy: 0.0000e+00\n",
            "Epoch 2/30\n",
            "71/71 [==============================] - 0s 4ms/step - loss: 1.5788 - accuracy: 0.0000e+00 - val_loss: 1.3070 - val_accuracy: 0.0000e+00\n",
            "Epoch 3/30\n",
            "71/71 [==============================] - 0s 4ms/step - loss: 1.2034 - accuracy: 0.0000e+00 - val_loss: 0.9332 - val_accuracy: 0.0000e+00\n",
            "Epoch 4/30\n",
            "71/71 [==============================] - 0s 4ms/step - loss: 1.0508 - accuracy: 0.0000e+00 - val_loss: 1.0711 - val_accuracy: 0.0000e+00\n",
            "Epoch 5/30\n",
            "71/71 [==============================] - 0s 4ms/step - loss: 1.0626 - accuracy: 0.0000e+00 - val_loss: 0.8244 - val_accuracy: 0.0000e+00\n",
            "Epoch 6/30\n",
            "71/71 [==============================] - 0s 4ms/step - loss: 0.8474 - accuracy: 0.0000e+00 - val_loss: 0.8859 - val_accuracy: 0.0000e+00\n",
            "Epoch 7/30\n",
            "71/71 [==============================] - 0s 4ms/step - loss: 0.7773 - accuracy: 0.0000e+00 - val_loss: 0.8190 - val_accuracy: 0.0000e+00\n",
            "Epoch 8/30\n",
            "71/71 [==============================] - 0s 4ms/step - loss: 0.8866 - accuracy: 0.0000e+00 - val_loss: 0.8133 - val_accuracy: 0.0000e+00\n",
            "Epoch 9/30\n",
            "71/71 [==============================] - 0s 4ms/step - loss: 0.7941 - accuracy: 0.0000e+00 - val_loss: 0.7291 - val_accuracy: 0.0000e+00\n",
            "Epoch 10/30\n",
            "71/71 [==============================] - 0s 4ms/step - loss: 0.7326 - accuracy: 0.0000e+00 - val_loss: 0.7700 - val_accuracy: 0.0000e+00\n",
            "Epoch 11/30\n",
            "71/71 [==============================] - 0s 4ms/step - loss: 0.7374 - accuracy: 0.0000e+00 - val_loss: 0.6850 - val_accuracy: 0.0000e+00\n",
            "Epoch 12/30\n",
            "71/71 [==============================] - 0s 4ms/step - loss: 0.7515 - accuracy: 0.0000e+00 - val_loss: 0.7093 - val_accuracy: 0.0000e+00\n",
            "Epoch 13/30\n",
            "71/71 [==============================] - 0s 3ms/step - loss: 0.7101 - accuracy: 0.0000e+00 - val_loss: 0.9130 - val_accuracy: 0.0000e+00\n",
            "Epoch 14/30\n",
            "71/71 [==============================] - 0s 4ms/step - loss: 0.7347 - accuracy: 0.0000e+00 - val_loss: 0.7555 - val_accuracy: 0.0000e+00\n",
            "Epoch 15/30\n",
            "71/71 [==============================] - 0s 4ms/step - loss: 0.7044 - accuracy: 0.0000e+00 - val_loss: 0.6903 - val_accuracy: 0.0000e+00\n",
            "Epoch 16/30\n",
            "71/71 [==============================] - 0s 3ms/step - loss: 0.7159 - accuracy: 0.0000e+00 - val_loss: 0.8500 - val_accuracy: 0.0000e+00\n",
            "18/18 [==============================] - 0s 2ms/step - loss: 0.6956 - accuracy: 0.0000e+00\n",
            "Epoch 1/30\n",
            "71/71 [==============================] - 0s 5ms/step - loss: nan - accuracy: 0.0000e+00 - val_loss: nan - val_accuracy: 0.0000e+00\n",
            "Epoch 2/30\n",
            "71/71 [==============================] - 0s 4ms/step - loss: nan - accuracy: 0.0000e+00 - val_loss: nan - val_accuracy: 0.0000e+00\n",
            "Epoch 3/30\n",
            "71/71 [==============================] - 0s 3ms/step - loss: nan - accuracy: 0.0000e+00 - val_loss: nan - val_accuracy: 0.0000e+00\n",
            "Epoch 4/30\n",
            "71/71 [==============================] - 0s 4ms/step - loss: nan - accuracy: 0.0000e+00 - val_loss: nan - val_accuracy: 0.0000e+00\n",
            "Epoch 5/30\n",
            "71/71 [==============================] - 0s 4ms/step - loss: nan - accuracy: 0.0000e+00 - val_loss: nan - val_accuracy: 0.0000e+00\n",
            "18/18 [==============================] - 0s 2ms/step - loss: nan - accuracy: 0.0000e+00\n",
            "Epoch 1/30\n",
            "71/71 [==============================] - 0s 5ms/step - loss: nan - accuracy: 0.0000e+00 - val_loss: nan - val_accuracy: 0.0000e+00\n",
            "Epoch 2/30\n",
            "71/71 [==============================] - 0s 4ms/step - loss: nan - accuracy: 0.0000e+00 - val_loss: nan - val_accuracy: 0.0000e+00\n",
            "Epoch 3/30\n",
            "71/71 [==============================] - 0s 4ms/step - loss: nan - accuracy: 0.0000e+00 - val_loss: nan - val_accuracy: 0.0000e+00\n",
            "Epoch 4/30\n",
            "71/71 [==============================] - 0s 4ms/step - loss: nan - accuracy: 0.0000e+00 - val_loss: nan - val_accuracy: 0.0000e+00\n",
            "Epoch 5/30\n",
            "71/71 [==============================] - 0s 4ms/step - loss: nan - accuracy: 0.0000e+00 - val_loss: nan - val_accuracy: 0.0000e+00\n",
            "18/18 [==============================] - 0s 2ms/step - loss: nan - accuracy: 0.0000e+00\n",
            "Epoch 1/30\n",
            "71/71 [==============================] - 0s 5ms/step - loss: nan - accuracy: 0.0000e+00 - val_loss: nan - val_accuracy: 0.0000e+00\n",
            "Epoch 2/30\n",
            "71/71 [==============================] - 0s 4ms/step - loss: nan - accuracy: 0.0000e+00 - val_loss: nan - val_accuracy: 0.0000e+00\n",
            "Epoch 3/30\n",
            "71/71 [==============================] - 0s 4ms/step - loss: nan - accuracy: 0.0000e+00 - val_loss: nan - val_accuracy: 0.0000e+00\n",
            "Epoch 4/30\n",
            "71/71 [==============================] - 0s 4ms/step - loss: nan - accuracy: 0.0000e+00 - val_loss: nan - val_accuracy: 0.0000e+00\n",
            "Epoch 5/30\n",
            "71/71 [==============================] - 0s 4ms/step - loss: nan - accuracy: 0.0000e+00 - val_loss: nan - val_accuracy: 0.0000e+00\n",
            "18/18 [==============================] - 0s 2ms/step - loss: nan - accuracy: 0.0000e+00\n",
            "Epoch 1/30\n",
            "71/71 [==============================] - 0s 5ms/step - loss: nan - accuracy: 0.0000e+00 - val_loss: nan - val_accuracy: 0.0000e+00\n",
            "Epoch 2/30\n",
            "71/71 [==============================] - 0s 4ms/step - loss: nan - accuracy: 0.0000e+00 - val_loss: nan - val_accuracy: 0.0000e+00\n",
            "Epoch 3/30\n",
            "71/71 [==============================] - 0s 4ms/step - loss: nan - accuracy: 0.0000e+00 - val_loss: nan - val_accuracy: 0.0000e+00\n",
            "Epoch 4/30\n",
            "71/71 [==============================] - 0s 4ms/step - loss: nan - accuracy: 0.0000e+00 - val_loss: nan - val_accuracy: 0.0000e+00\n",
            "Epoch 5/30\n",
            "71/71 [==============================] - 0s 4ms/step - loss: nan - accuracy: 0.0000e+00 - val_loss: nan - val_accuracy: 0.0000e+00\n",
            "18/18 [==============================] - 0s 2ms/step - loss: nan - accuracy: 0.0000e+00\n",
            "Epoch 1/30\n",
            "71/71 [==============================] - 0s 5ms/step - loss: nan - accuracy: 0.0000e+00 - val_loss: nan - val_accuracy: 0.0000e+00\n",
            "Epoch 2/30\n",
            "71/71 [==============================] - 0s 4ms/step - loss: nan - accuracy: 0.0000e+00 - val_loss: nan - val_accuracy: 0.0000e+00\n",
            "Epoch 3/30\n",
            "71/71 [==============================] - 0s 4ms/step - loss: nan - accuracy: 0.0000e+00 - val_loss: nan - val_accuracy: 0.0000e+00\n",
            "Epoch 4/30\n",
            "71/71 [==============================] - 0s 4ms/step - loss: nan - accuracy: 0.0000e+00 - val_loss: nan - val_accuracy: 0.0000e+00\n",
            "Epoch 5/30\n",
            "71/71 [==============================] - 0s 4ms/step - loss: nan - accuracy: 0.0000e+00 - val_loss: nan - val_accuracy: 0.0000e+00\n",
            "18/18 [==============================] - 0s 2ms/step - loss: nan - accuracy: 0.0000e+00\n",
            "Epoch 1/30\n",
            "71/71 [==============================] - 0s 5ms/step - loss: nan - accuracy: 0.0000e+00 - val_loss: nan - val_accuracy: 0.0000e+00\n",
            "Epoch 2/30\n",
            "71/71 [==============================] - 0s 4ms/step - loss: nan - accuracy: 0.0000e+00 - val_loss: nan - val_accuracy: 0.0000e+00\n",
            "Epoch 3/30\n",
            "71/71 [==============================] - 0s 4ms/step - loss: nan - accuracy: 0.0000e+00 - val_loss: nan - val_accuracy: 0.0000e+00\n",
            "Epoch 4/30\n",
            "71/71 [==============================] - 0s 4ms/step - loss: nan - accuracy: 0.0000e+00 - val_loss: nan - val_accuracy: 0.0000e+00\n",
            "Epoch 5/30\n",
            "71/71 [==============================] - 0s 4ms/step - loss: nan - accuracy: 0.0000e+00 - val_loss: nan - val_accuracy: 0.0000e+00\n",
            "18/18 [==============================] - 0s 2ms/step - loss: nan - accuracy: 0.0000e+00\n",
            "Epoch 1/30\n",
            "71/71 [==============================] - 0s 5ms/step - loss: nan - accuracy: 0.0000e+00 - val_loss: nan - val_accuracy: 0.0000e+00\n",
            "Epoch 2/30\n",
            "71/71 [==============================] - 0s 4ms/step - loss: nan - accuracy: 0.0000e+00 - val_loss: nan - val_accuracy: 0.0000e+00\n",
            "Epoch 3/30\n",
            "71/71 [==============================] - 0s 4ms/step - loss: nan - accuracy: 0.0000e+00 - val_loss: nan - val_accuracy: 0.0000e+00\n",
            "Epoch 4/30\n",
            "71/71 [==============================] - 0s 4ms/step - loss: nan - accuracy: 0.0000e+00 - val_loss: nan - val_accuracy: 0.0000e+00\n",
            "Epoch 5/30\n",
            "71/71 [==============================] - 0s 4ms/step - loss: nan - accuracy: 0.0000e+00 - val_loss: nan - val_accuracy: 0.0000e+00\n",
            "18/18 [==============================] - 0s 2ms/step - loss: nan - accuracy: 0.0000e+00\n",
            "Epoch 1/30\n",
            "71/71 [==============================] - 0s 5ms/step - loss: nan - accuracy: 0.0000e+00 - val_loss: nan - val_accuracy: 0.0000e+00\n",
            "Epoch 2/30\n",
            "71/71 [==============================] - 0s 4ms/step - loss: nan - accuracy: 0.0000e+00 - val_loss: nan - val_accuracy: 0.0000e+00\n",
            "Epoch 3/30\n",
            "71/71 [==============================] - 0s 4ms/step - loss: nan - accuracy: 0.0000e+00 - val_loss: nan - val_accuracy: 0.0000e+00\n",
            "Epoch 4/30\n",
            "71/71 [==============================] - 0s 4ms/step - loss: nan - accuracy: 0.0000e+00 - val_loss: nan - val_accuracy: 0.0000e+00\n",
            "Epoch 5/30\n",
            "71/71 [==============================] - 0s 4ms/step - loss: nan - accuracy: 0.0000e+00 - val_loss: nan - val_accuracy: 0.0000e+00\n",
            "18/18 [==============================] - 0s 2ms/step - loss: nan - accuracy: 0.0000e+00\n",
            "Epoch 1/30\n",
            "71/71 [==============================] - 0s 5ms/step - loss: nan - accuracy: 0.0000e+00 - val_loss: nan - val_accuracy: 0.0000e+00\n",
            "Epoch 2/30\n",
            "71/71 [==============================] - 0s 4ms/step - loss: nan - accuracy: 0.0000e+00 - val_loss: nan - val_accuracy: 0.0000e+00\n",
            "Epoch 3/30\n",
            "71/71 [==============================] - 0s 4ms/step - loss: nan - accuracy: 0.0000e+00 - val_loss: nan - val_accuracy: 0.0000e+00\n",
            "Epoch 4/30\n",
            "71/71 [==============================] - 0s 4ms/step - loss: nan - accuracy: 0.0000e+00 - val_loss: nan - val_accuracy: 0.0000e+00\n",
            "Epoch 5/30\n",
            "71/71 [==============================] - 0s 4ms/step - loss: nan - accuracy: 0.0000e+00 - val_loss: nan - val_accuracy: 0.0000e+00\n",
            "18/18 [==============================] - 0s 2ms/step - loss: nan - accuracy: 0.0000e+00\n",
            "Epoch 1/30\n",
            "71/71 [==============================] - 0s 5ms/step - loss: nan - accuracy: 0.0000e+00 - val_loss: nan - val_accuracy: 0.0000e+00\n",
            "Epoch 2/30\n",
            "71/71 [==============================] - 0s 4ms/step - loss: nan - accuracy: 0.0000e+00 - val_loss: nan - val_accuracy: 0.0000e+00\n",
            "Epoch 3/30\n",
            "71/71 [==============================] - 0s 4ms/step - loss: nan - accuracy: 0.0000e+00 - val_loss: nan - val_accuracy: 0.0000e+00\n",
            "Epoch 4/30\n",
            "71/71 [==============================] - 0s 4ms/step - loss: nan - accuracy: 0.0000e+00 - val_loss: nan - val_accuracy: 0.0000e+00\n",
            "Epoch 5/30\n",
            "71/71 [==============================] - 0s 4ms/step - loss: nan - accuracy: 0.0000e+00 - val_loss: nan - val_accuracy: 0.0000e+00\n",
            "18/18 [==============================] - 0s 2ms/step - loss: nan - accuracy: 0.0000e+00\n"
          ],
          "name": "stdout"
        },
        {
          "output_type": "error",
          "ename": "RuntimeError",
          "evalue": "ignored",
          "traceback": [
            "\u001b[0;31m---------------------------------------------------------------------------\u001b[0m",
            "\u001b[0;31mRuntimeError\u001b[0m                              Traceback (most recent call last)",
            "\u001b[0;32m<ipython-input-209-457357bd24d5>\u001b[0m in \u001b[0;36m<module>\u001b[0;34m()\u001b[0m\n\u001b[1;32m      2\u001b[0m rnd_cv.fit(X_train,y_train, epochs=30,\n\u001b[1;32m      3\u001b[0m            \u001b[0mvalidation_data\u001b[0m\u001b[0;34m=\u001b[0m\u001b[0;34m(\u001b[0m\u001b[0mX_valid\u001b[0m\u001b[0;34m,\u001b[0m \u001b[0my_valid\u001b[0m\u001b[0;34m)\u001b[0m\u001b[0;34m,\u001b[0m\u001b[0;34m\u001b[0m\u001b[0;34m\u001b[0m\u001b[0m\n\u001b[0;32m----> 4\u001b[0;31m            callbacks=[keras.callbacks.EarlyStopping(patience=5)])\n\u001b[0m",
            "\u001b[0;32m/usr/local/lib/python3.6/dist-packages/sklearn/model_selection/_search.py\u001b[0m in \u001b[0;36mfit\u001b[0;34m(self, X, y, groups, **fit_params)\u001b[0m\n\u001b[1;32m    734\u001b[0m             \u001b[0;31m# of the params are estimators as well.\u001b[0m\u001b[0;34m\u001b[0m\u001b[0;34m\u001b[0m\u001b[0;34m\u001b[0m\u001b[0m\n\u001b[1;32m    735\u001b[0m             self.best_estimator_ = clone(clone(base_estimator).set_params(\n\u001b[0;32m--> 736\u001b[0;31m                 **self.best_params_))\n\u001b[0m\u001b[1;32m    737\u001b[0m             \u001b[0mrefit_start_time\u001b[0m \u001b[0;34m=\u001b[0m \u001b[0mtime\u001b[0m\u001b[0;34m.\u001b[0m\u001b[0mtime\u001b[0m\u001b[0;34m(\u001b[0m\u001b[0;34m)\u001b[0m\u001b[0;34m\u001b[0m\u001b[0;34m\u001b[0m\u001b[0m\n\u001b[1;32m    738\u001b[0m             \u001b[0;32mif\u001b[0m \u001b[0my\u001b[0m \u001b[0;32mis\u001b[0m \u001b[0;32mnot\u001b[0m \u001b[0;32mNone\u001b[0m\u001b[0;34m:\u001b[0m\u001b[0;34m\u001b[0m\u001b[0;34m\u001b[0m\u001b[0m\n",
            "\u001b[0;32m/usr/local/lib/python3.6/dist-packages/sklearn/base.py\u001b[0m in \u001b[0;36mclone\u001b[0;34m(estimator, safe)\u001b[0m\n\u001b[1;32m     80\u001b[0m             raise RuntimeError('Cannot clone object %s, as the constructor '\n\u001b[1;32m     81\u001b[0m                                \u001b[0;34m'either does not set or modifies parameter %s'\u001b[0m \u001b[0;34m%\u001b[0m\u001b[0;34m\u001b[0m\u001b[0;34m\u001b[0m\u001b[0m\n\u001b[0;32m---> 82\u001b[0;31m                                (estimator, name))\n\u001b[0m\u001b[1;32m     83\u001b[0m     \u001b[0;32mreturn\u001b[0m \u001b[0mnew_object\u001b[0m\u001b[0;34m\u001b[0m\u001b[0;34m\u001b[0m\u001b[0m\n\u001b[1;32m     84\u001b[0m \u001b[0;34m\u001b[0m\u001b[0m\n",
            "\u001b[0;31mRuntimeError\u001b[0m: Cannot clone object <tensorflow.python.keras.wrappers.scikit_learn.KerasRegressor object at 0x7f13151d45c0>, as the constructor either does not set or modifies parameter learning_rate"
          ]
        }
      ]
    },
    {
      "cell_type": "markdown",
      "metadata": {
        "id": "j6EZlnF_WKgm",
        "colab_type": "text"
      },
      "source": [
        "### Neural Network was not able to predict the imdbscore. It seems NN is not able to handle too many sparse features"
      ]
    },
    {
      "cell_type": "markdown",
      "metadata": {
        "id": "tfyQUtSJWYvk",
        "colab_type": "text"
      },
      "source": [
        "### Simple NN Model"
      ]
    },
    {
      "cell_type": "code",
      "metadata": {
        "id": "TQ-ZCiStFB5n",
        "colab_type": "code",
        "colab": {}
      },
      "source": [
        "model_3=keras.models.Sequential(\n",
        "    [keras.layers.Dense(300,input_shape=X_train.shape[1:]),\n",
        "    keras.layers.Dense(100,activation='relu',kernel_initializer='he_normal'),\n",
        "    keras.layers.Dense(100,activation='relu',kernel_initializer='he_normal'),\n",
        "    keras.layers.Dense(1)\n",
        "     ]\n",
        ")\n",
        "\n",
        "optimizer=keras.optimizers.SGD(learning_rate=1)\n",
        "model_3.compile(loss=keras.losses.mean_squared_error, optimizer=optimizer, metrics=['accuracy'] )"
      ],
      "execution_count": null,
      "outputs": []
    },
    {
      "cell_type": "code",
      "metadata": {
        "id": "wWo-F_LWFD6n",
        "colab_type": "code",
        "colab": {
          "base_uri": "https://localhost:8080/",
          "height": 202
        },
        "outputId": "abce746b-6859-4e9b-abd0-51e77ce1ba08"
      },
      "source": [
        "model_3.fit(X_train,y_train, epochs=300,\n",
        "           validation_data=(X_valid, y_valid),\n",
        "           callbacks=[keras.callbacks.EarlyStopping(patience=5)])"
      ],
      "execution_count": null,
      "outputs": [
        {
          "output_type": "stream",
          "text": [
            "Epoch 1/300\n",
            "89/89 [==============================] - 0s 4ms/step - loss: nan - accuracy: 0.0000e+00 - val_loss: nan - val_accuracy: 0.0000e+00\n",
            "Epoch 2/300\n",
            "89/89 [==============================] - 0s 3ms/step - loss: nan - accuracy: 0.0000e+00 - val_loss: nan - val_accuracy: 0.0000e+00\n",
            "Epoch 3/300\n",
            "89/89 [==============================] - 0s 3ms/step - loss: nan - accuracy: 0.0000e+00 - val_loss: nan - val_accuracy: 0.0000e+00\n",
            "Epoch 4/300\n",
            "89/89 [==============================] - 0s 3ms/step - loss: nan - accuracy: 0.0000e+00 - val_loss: nan - val_accuracy: 0.0000e+00\n",
            "Epoch 5/300\n",
            "89/89 [==============================] - 0s 3ms/step - loss: nan - accuracy: 0.0000e+00 - val_loss: nan - val_accuracy: 0.0000e+00\n"
          ],
          "name": "stdout"
        },
        {
          "output_type": "execute_result",
          "data": {
            "text/plain": [
              "<tensorflow.python.keras.callbacks.History at 0x7f1317209ac8>"
            ]
          },
          "metadata": {
            "tags": []
          },
          "execution_count": 214
        }
      ]
    },
    {
      "cell_type": "markdown",
      "metadata": {
        "id": "kMr9oqX-WdEG",
        "colab_type": "text"
      },
      "source": [
        "### For simple NN, the accuracy is still 0"
      ]
    },
    {
      "cell_type": "markdown",
      "metadata": {
        "id": "vZ1XqngoUcfT",
        "colab_type": "text"
      },
      "source": [
        "### **RandomForest Regrssion**"
      ]
    },
    {
      "cell_type": "code",
      "metadata": {
        "id": "0kTzzxYz3bZR",
        "colab_type": "code",
        "colab": {
          "base_uri": "https://localhost:8080/",
          "height": 403
        },
        "outputId": "d20c016e-2723-4f9d-bdfe-d7e01fde2034"
      },
      "source": [
        "from sklearn.ensemble import RandomForestRegressor\n",
        "RFR=RandomForestRegressor(max_features=\"sqrt\",random_state=42)\n",
        "parameters={ \"max_depth\":[5,8,25], \n",
        "             \"min_samples_split\":[2,5,10], \"n_estimators\":[800,1200]}\n",
        "gsearch = RandomizedSearchCV(RFR, parameters,random_state=42)\n",
        "gsearch.fit(X_train,y_train)"
      ],
      "execution_count": null,
      "outputs": [
        {
          "output_type": "execute_result",
          "data": {
            "text/plain": [
              "RandomizedSearchCV(cv=None, error_score=nan,\n",
              "                   estimator=RandomForestRegressor(bootstrap=True,\n",
              "                                                   ccp_alpha=0.0,\n",
              "                                                   criterion='mse',\n",
              "                                                   max_depth=None,\n",
              "                                                   max_features='sqrt',\n",
              "                                                   max_leaf_nodes=None,\n",
              "                                                   max_samples=None,\n",
              "                                                   min_impurity_decrease=0.0,\n",
              "                                                   min_impurity_split=None,\n",
              "                                                   min_samples_leaf=1,\n",
              "                                                   min_samples_split=2,\n",
              "                                                   min_weight_fraction_leaf=0.0,\n",
              "                                                   n_estimators=100,\n",
              "                                                   n_jobs=None, oob_score=False,\n",
              "                                                   random_state=42, verbose=0,\n",
              "                                                   warm_start=False),\n",
              "                   iid='deprecated', n_iter=10, n_jobs=None,\n",
              "                   param_distributions={'max_depth': [5, 8, 25],\n",
              "                                        'min_samples_split': [2, 5, 10],\n",
              "                                        'n_estimators': [800, 1200]},\n",
              "                   pre_dispatch='2*n_jobs', random_state=42, refit=True,\n",
              "                   return_train_score=False, scoring=None, verbose=0)"
            ]
          },
          "metadata": {
            "tags": []
          },
          "execution_count": 219
        }
      ]
    },
    {
      "cell_type": "code",
      "metadata": {
        "id": "jomEZta2LVmh",
        "colab_type": "code",
        "colab": {
          "base_uri": "https://localhost:8080/",
          "height": 50
        },
        "outputId": "9c83ad52-654d-4c52-cde4-0c8c32635f4b"
      },
      "source": [
        "print(\"Best Parameters\",gsearch.best_params_)\n",
        "print(\"Best Score\",gsearch.best_score_)"
      ],
      "execution_count": null,
      "outputs": [
        {
          "output_type": "stream",
          "text": [
            "Best Parameters {'n_estimators': 1200, 'min_samples_split': 2, 'max_depth': 25}\n",
            "Best Score 0.5064012527456392\n"
          ],
          "name": "stdout"
        }
      ]
    },
    {
      "cell_type": "code",
      "metadata": {
        "id": "YfwzsHU_MJA3",
        "colab_type": "code",
        "colab": {}
      },
      "source": [
        "rfm=RandomForestRegressor(n_estimators=1200,max_depth=25,max_features=\"sqrt\",random_state=42,n_jobs=-1,min_samples_split=2)\n",
        "rfm.fit(X_train,y_train)\n",
        "y_pred_rf=rfm.predict(X_test)\n",
        "y_train_pred_rf=rfm.predict(X_train)"
      ],
      "execution_count": null,
      "outputs": []
    },
    {
      "cell_type": "code",
      "metadata": {
        "id": "0SffknnsOBqi",
        "colab_type": "code",
        "colab": {
          "base_uri": "https://localhost:8080/",
          "height": 521
        },
        "outputId": "dccf5d1f-539e-4d65-e93e-e9ca976c0098"
      },
      "source": [
        "for name,score in zip(X_train.columns,rfm.feature_importances_):\n",
        "  print(name,score)"
      ],
      "execution_count": null,
      "outputs": [
        {
          "output_type": "stream",
          "text": [
            "Drama 0.05337146279901098\n",
            "Biography 0.006287865180162574\n",
            "director_facebook_likes 0.04959883526906231\n",
            "director_name_nan 0.00912199428786671\n",
            "History 0.0021898465059061656\n",
            "War 0.002125713449828925\n",
            "country_UK 0.004595855718403823\n",
            "Documentary 0.013643629579501425\n",
            "content_rating_TV-MA 0.0013211671968169027\n",
            "director_name_Jason Friedberg 0.0033771760407635886\n",
            "box office flop 0.0023557957161136865\n",
            "Action 0.012473939921086459\n",
            "critically bashed 0.00368287623108234\n",
            "content_rating_PG-13 0.017537009303831057\n",
            "country_USA 0.00911682166603249\n",
            "color_Color 0.005805252381668703\n",
            "language_English 0.010849673159349227\n",
            "Comedy 0.012155240572253253\n",
            "Horror 0.019749852083688225\n",
            "duration 0.09955719643654774\n",
            "director_facebook_likes 0.05020943440982883\n",
            "actor_3_facebook_likes 0.057640343177688444\n",
            "actor_1_facebook_likes 0.05505988325010954\n",
            "gross 0.06313224128117748\n",
            "facenumber_in_poster 0.02676857597943079\n",
            "budget 0.06386451626337511\n",
            "actor_2_facebook_likes 0.055138332293441096\n",
            "aspect_ratio 0.024594460110485605\n",
            "movie_facebook_likes 0.08518409815018463\n",
            "num_user_voted_reviews 0.1794909115853019\n"
          ],
          "name": "stdout"
        }
      ]
    },
    {
      "cell_type": "code",
      "metadata": {
        "id": "-dlkGAWQOmXI",
        "colab_type": "code",
        "colab": {
          "base_uri": "https://localhost:8080/",
          "height": 67
        },
        "outputId": "f38999da-8966-4de2-802e-ecfbda95e5e0"
      },
      "source": [
        "print(\"Print R2 score of Test:\",r2_score(y_test, y_pred_rf))\n",
        "print(\"Print R2 Score of Training\",r2_score(y_train,y_train_pred_rf))\n",
        "print(\"The Randomforest is over fitting \")"
      ],
      "execution_count": null,
      "outputs": [
        {
          "output_type": "stream",
          "text": [
            "Print R2 score of Test: 0.5600780608628007\n",
            "Print R2 Score of Training 0.9344666795578979\n",
            "The Randomforest is over fitting \n"
          ],
          "name": "stdout"
        }
      ]
    },
    {
      "cell_type": "code",
      "metadata": {
        "id": "HH-Uxs0fRCrG",
        "colab_type": "code",
        "colab": {
          "base_uri": "https://localhost:8080/",
          "height": 50
        },
        "outputId": "b282f6bf-eaac-47df-ac19-9534e20af566"
      },
      "source": [
        "print(\"Print mean_squared_error of Test:\",mean_squared_error(y_test, y_pred_rf))\n",
        "print(\"Print mean_squared_error of Training\",mean_squared_error(y_train,y_train_pred_rf))"
      ],
      "execution_count": null,
      "outputs": [
        {
          "output_type": "stream",
          "text": [
            "Print mean_squared_error of Test: 0.5322974264023008\n",
            "Print mean_squared_error of Training 0.08609643908762715\n"
          ],
          "name": "stdout"
        }
      ]
    },
    {
      "cell_type": "markdown",
      "metadata": {
        "id": "AddxBx7DRYQW",
        "colab_type": "text"
      },
      "source": [
        "## Gradient Boosting"
      ]
    },
    {
      "cell_type": "code",
      "metadata": {
        "id": "wXPjnsCYRcx1",
        "colab_type": "code",
        "colab": {
          "base_uri": "https://localhost:8080/",
          "height": 168
        },
        "outputId": "a0116f35-6d8d-4ecc-b12b-e49b3b341573"
      },
      "source": [
        "from sklearn.ensemble import GradientBoostingRegressor\n",
        "\n",
        "gbrt= GradientBoostingRegressor(max_depth= 2)\n",
        "gbrt.fit(X_train,y_train)"
      ],
      "execution_count": null,
      "outputs": [
        {
          "output_type": "execute_result",
          "data": {
            "text/plain": [
              "GradientBoostingRegressor(alpha=0.9, ccp_alpha=0.0, criterion='friedman_mse',\n",
              "                          init=None, learning_rate=0.1, loss='ls', max_depth=2,\n",
              "                          max_features=None, max_leaf_nodes=None,\n",
              "                          min_impurity_decrease=0.0, min_impurity_split=None,\n",
              "                          min_samples_leaf=1, min_samples_split=2,\n",
              "                          min_weight_fraction_leaf=0.0, n_estimators=100,\n",
              "                          n_iter_no_change=None, presort='deprecated',\n",
              "                          random_state=None, subsample=1.0, tol=0.0001,\n",
              "                          validation_fraction=0.1, verbose=0, warm_start=False)"
            ]
          },
          "metadata": {
            "tags": []
          },
          "execution_count": 45
        }
      ]
    },
    {
      "cell_type": "code",
      "metadata": {
        "id": "BsQzkyEVSChb",
        "colab_type": "code",
        "colab": {}
      },
      "source": [
        "errors= [mean_squared_error(y_valid,y_pred) for y_pred in gbrt.staged_predict(X_valid)]\n",
        "best_n_estimator= np.argmin(errors)+1"
      ],
      "execution_count": null,
      "outputs": []
    },
    {
      "cell_type": "code",
      "metadata": {
        "id": "zFX1f8aXSqjy",
        "colab_type": "code",
        "colab": {
          "base_uri": "https://localhost:8080/",
          "height": 168
        },
        "outputId": "1e402129-156c-4c04-fb8c-e5b3a8418e63"
      },
      "source": [
        "gbrt_best= GradientBoostingRegressor(max_depth=2, n_estimators=best_n_estimator)\n",
        "gbrt_best.fit(X_train,y_train)"
      ],
      "execution_count": null,
      "outputs": [
        {
          "output_type": "execute_result",
          "data": {
            "text/plain": [
              "GradientBoostingRegressor(alpha=0.9, ccp_alpha=0.0, criterion='friedman_mse',\n",
              "                          init=None, learning_rate=0.1, loss='ls', max_depth=2,\n",
              "                          max_features=None, max_leaf_nodes=None,\n",
              "                          min_impurity_decrease=0.0, min_impurity_split=None,\n",
              "                          min_samples_leaf=1, min_samples_split=2,\n",
              "                          min_weight_fraction_leaf=0.0, n_estimators=100,\n",
              "                          n_iter_no_change=None, presort='deprecated',\n",
              "                          random_state=None, subsample=1.0, tol=0.0001,\n",
              "                          validation_fraction=0.1, verbose=0, warm_start=False)"
            ]
          },
          "metadata": {
            "tags": []
          },
          "execution_count": 47
        }
      ]
    },
    {
      "cell_type": "code",
      "metadata": {
        "id": "GHkD8kIITEgj",
        "colab_type": "code",
        "colab": {
          "base_uri": "https://localhost:8080/",
          "height": 84
        },
        "outputId": "8f456453-ab24-4c9b-929f-832e192aaaf0"
      },
      "source": [
        "y_pred_gbr=gbrt_best.predict(X_test)\n",
        "y_train_pred_gbr=gbrt_best.predict(X_train)\n",
        "\n",
        "print(\"Print R2 score of Test:\",r2_score(y_test, y_pred_gbr))\n",
        "print(\"Print R2 Score of Training\",r2_score(y_train,y_train_pred_gbr))\n",
        "print(\"The R2 score of training and Test are close to eachother\\n The model perfomred best compared to Random forest and Neural network \")\n"
      ],
      "execution_count": null,
      "outputs": [
        {
          "output_type": "stream",
          "text": [
            "Print R2 score of Test: 0.5352844758529531\n",
            "Print R2 Score of Training 0.5565626589145534\n",
            "The R2 score of training and Test are close to eachother\n",
            " The model perfomred best compared to Random forest and Neural network \n"
          ],
          "name": "stdout"
        }
      ]
    },
    {
      "cell_type": "code",
      "metadata": {
        "id": "hLn3FxZVT1Wo",
        "colab_type": "code",
        "colab": {
          "base_uri": "https://localhost:8080/",
          "height": 50
        },
        "outputId": "1692d1c9-020d-4e37-b149-3aa603830738"
      },
      "source": [
        "print(\"Print mean_squared_error of Test:\",mean_squared_error(y_test, y_pred_gbr))\n",
        "print(\"Print mean_squared_error of Training\",mean_squared_error(y_train,y_train_pred_gbr))"
      ],
      "execution_count": null,
      "outputs": [
        {
          "output_type": "stream",
          "text": [
            "Print mean_squared_error of Test: 0.5622972066312941\n",
            "Print mean_squared_error of Training 0.5825796063496065\n"
          ],
          "name": "stdout"
        }
      ]
    },
    {
      "cell_type": "markdown",
      "metadata": {
        "id": "vKVSyduPV6uG",
        "colab_type": "text"
      },
      "source": [
        "## **XGBoost**"
      ]
    },
    {
      "cell_type": "code",
      "metadata": {
        "id": "WhhIVPyVV-Ll",
        "colab_type": "code",
        "colab": {}
      },
      "source": [
        "import  xgboost"
      ],
      "execution_count": null,
      "outputs": []
    },
    {
      "cell_type": "code",
      "metadata": {
        "id": "0-MBWgr7WOI2",
        "colab_type": "code",
        "colab": {}
      },
      "source": [
        "xgb= xgboost.XGBRegressor()"
      ],
      "execution_count": null,
      "outputs": []
    },
    {
      "cell_type": "code",
      "metadata": {
        "id": "xVsN80jSWIbV",
        "colab_type": "code",
        "colab": {
          "base_uri": "https://localhost:8080/",
          "height": 1000
        },
        "outputId": "e28cc6c0-4c24-4ebc-dad5-4e6b68fe6e88"
      },
      "source": [
        "xgb.fit(X_train.values,y_train.values,\n",
        "        eval_set=[(X_valid.values,y_valid.values)],\n",
        "        early_stopping_rounds=2)"
      ],
      "execution_count": null,
      "outputs": [
        {
          "output_type": "stream",
          "text": [
            "[20:20:21] WARNING: /workspace/src/objective/regression_obj.cu:152: reg:linear is now deprecated in favor of reg:squarederror.\n",
            "[0]\tvalidation_0-rmse:5.45259\n",
            "Will train until validation_0-rmse hasn't improved in 2 rounds.\n",
            "[1]\tvalidation_0-rmse:4.93071\n",
            "[2]\tvalidation_0-rmse:4.46\n",
            "[3]\tvalidation_0-rmse:4.03801\n",
            "[4]\tvalidation_0-rmse:3.65957\n",
            "[5]\tvalidation_0-rmse:3.32261\n",
            "[6]\tvalidation_0-rmse:3.01825\n",
            "[7]\tvalidation_0-rmse:2.74665\n",
            "[8]\tvalidation_0-rmse:2.50599\n",
            "[9]\tvalidation_0-rmse:2.28973\n",
            "[10]\tvalidation_0-rmse:2.09714\n",
            "[11]\tvalidation_0-rmse:1.92627\n",
            "[12]\tvalidation_0-rmse:1.77781\n",
            "[13]\tvalidation_0-rmse:1.64513\n",
            "[14]\tvalidation_0-rmse:1.52786\n",
            "[15]\tvalidation_0-rmse:1.42528\n",
            "[16]\tvalidation_0-rmse:1.33581\n",
            "[17]\tvalidation_0-rmse:1.25628\n",
            "[18]\tvalidation_0-rmse:1.18852\n",
            "[19]\tvalidation_0-rmse:1.12962\n",
            "[20]\tvalidation_0-rmse:1.07935\n",
            "[21]\tvalidation_0-rmse:1.03605\n",
            "[22]\tvalidation_0-rmse:1.00016\n",
            "[23]\tvalidation_0-rmse:0.967921\n",
            "[24]\tvalidation_0-rmse:0.940437\n",
            "[25]\tvalidation_0-rmse:0.918489\n",
            "[26]\tvalidation_0-rmse:0.89698\n",
            "[27]\tvalidation_0-rmse:0.8801\n",
            "[28]\tvalidation_0-rmse:0.865098\n",
            "[29]\tvalidation_0-rmse:0.852358\n",
            "[30]\tvalidation_0-rmse:0.841793\n",
            "[31]\tvalidation_0-rmse:0.833015\n",
            "[32]\tvalidation_0-rmse:0.826191\n",
            "[33]\tvalidation_0-rmse:0.819418\n",
            "[34]\tvalidation_0-rmse:0.813678\n",
            "[35]\tvalidation_0-rmse:0.808538\n",
            "[36]\tvalidation_0-rmse:0.804273\n",
            "[37]\tvalidation_0-rmse:0.79991\n",
            "[38]\tvalidation_0-rmse:0.796292\n",
            "[39]\tvalidation_0-rmse:0.793684\n",
            "[40]\tvalidation_0-rmse:0.789995\n",
            "[41]\tvalidation_0-rmse:0.7881\n",
            "[42]\tvalidation_0-rmse:0.786116\n",
            "[43]\tvalidation_0-rmse:0.783402\n",
            "[44]\tvalidation_0-rmse:0.7816\n",
            "[45]\tvalidation_0-rmse:0.779607\n",
            "[46]\tvalidation_0-rmse:0.777101\n",
            "[47]\tvalidation_0-rmse:0.77569\n",
            "[48]\tvalidation_0-rmse:0.774089\n",
            "[49]\tvalidation_0-rmse:0.773068\n",
            "[50]\tvalidation_0-rmse:0.771467\n",
            "[51]\tvalidation_0-rmse:0.770261\n",
            "[52]\tvalidation_0-rmse:0.769816\n",
            "[53]\tvalidation_0-rmse:0.76876\n",
            "[54]\tvalidation_0-rmse:0.767904\n",
            "[55]\tvalidation_0-rmse:0.76697\n",
            "[56]\tvalidation_0-rmse:0.765527\n",
            "[57]\tvalidation_0-rmse:0.764594\n",
            "[58]\tvalidation_0-rmse:0.76341\n",
            "[59]\tvalidation_0-rmse:0.762595\n",
            "[60]\tvalidation_0-rmse:0.761232\n",
            "[61]\tvalidation_0-rmse:0.760718\n",
            "[62]\tvalidation_0-rmse:0.760089\n",
            "[63]\tvalidation_0-rmse:0.758904\n",
            "[64]\tvalidation_0-rmse:0.75796\n",
            "[65]\tvalidation_0-rmse:0.757155\n",
            "[66]\tvalidation_0-rmse:0.75679\n",
            "[67]\tvalidation_0-rmse:0.755969\n",
            "[68]\tvalidation_0-rmse:0.754441\n",
            "[69]\tvalidation_0-rmse:0.754056\n",
            "[70]\tvalidation_0-rmse:0.7536\n",
            "[71]\tvalidation_0-rmse:0.7528\n",
            "[72]\tvalidation_0-rmse:0.752667\n",
            "[73]\tvalidation_0-rmse:0.752452\n",
            "[74]\tvalidation_0-rmse:0.75195\n",
            "[75]\tvalidation_0-rmse:0.751553\n",
            "[76]\tvalidation_0-rmse:0.751171\n",
            "[77]\tvalidation_0-rmse:0.750815\n",
            "[78]\tvalidation_0-rmse:0.750633\n",
            "[79]\tvalidation_0-rmse:0.750176\n",
            "[80]\tvalidation_0-rmse:0.750129\n",
            "[81]\tvalidation_0-rmse:0.750059\n",
            "[82]\tvalidation_0-rmse:0.749813\n",
            "[83]\tvalidation_0-rmse:0.749415\n",
            "[84]\tvalidation_0-rmse:0.749031\n",
            "[85]\tvalidation_0-rmse:0.748303\n",
            "[86]\tvalidation_0-rmse:0.747747\n",
            "[87]\tvalidation_0-rmse:0.74778\n",
            "[88]\tvalidation_0-rmse:0.747435\n",
            "[89]\tvalidation_0-rmse:0.747654\n",
            "[90]\tvalidation_0-rmse:0.747585\n",
            "Stopping. Best iteration:\n",
            "[88]\tvalidation_0-rmse:0.747435\n",
            "\n"
          ],
          "name": "stdout"
        },
        {
          "output_type": "execute_result",
          "data": {
            "text/plain": [
              "XGBRegressor(base_score=0.5, booster='gbtree', colsample_bylevel=1,\n",
              "             colsample_bynode=1, colsample_bytree=1, gamma=0,\n",
              "             importance_type='gain', learning_rate=0.1, max_delta_step=0,\n",
              "             max_depth=3, min_child_weight=1, missing=None, n_estimators=100,\n",
              "             n_jobs=1, nthread=None, objective='reg:linear', random_state=0,\n",
              "             reg_alpha=0, reg_lambda=1, scale_pos_weight=1, seed=None,\n",
              "             silent=None, subsample=1, verbosity=1)"
            ]
          },
          "metadata": {
            "tags": []
          },
          "execution_count": 61
        }
      ]
    },
    {
      "cell_type": "code",
      "metadata": {
        "id": "ohZwhc9MYIF0",
        "colab_type": "code",
        "colab": {
          "base_uri": "https://localhost:8080/",
          "height": 67
        },
        "outputId": "411c9df7-58d5-4455-e012-b7687fabf211"
      },
      "source": [
        "\n",
        "y_pred_xgb=xgb.predict(X_test.values)\n",
        "y_train_pred_xgb=xgb.predict(X_train.values)\n",
        "\n",
        "print(\"Print R2 score of Test:\",r2_score(y_test, y_pred_xgb))\n",
        "print(\"Print R2 Score of Training\",r2_score(y_train,y_train_pred_xgb))\n",
        "print(\"Even if the The training R2 {0} is bit hgher than Testing R2 {1}\".format(round(r2_score(y_train,y_train_pred_xgb),2),round(r2_score(y_test, y_pred_xgb),2)))"
      ],
      "execution_count": null,
      "outputs": [
        {
          "output_type": "stream",
          "text": [
            "Print R2 score of Test: 0.5593171242081622\n",
            "Print R2 Score of Training 0.6148497845876402\n",
            "Even if the The training R2 0.61 is bit hgher than Testing R2 0.56\n"
          ],
          "name": "stdout"
        }
      ]
    },
    {
      "cell_type": "markdown",
      "metadata": {
        "id": "SIE1WR18aEC8",
        "colab_type": "text"
      },
      "source": [
        "### Model Selection\n",
        "\n",
        "Neural network failed to find a usable model and below are the Model training and Testing accuracies\n",
        "- RandomForest    Training R2: 0.93| Testing R2: 0.56\n",
        "- GradientBoosing Training R2: 0.58| Testing R2: 0.56\n",
        "- XGBoost         Training R2: 0.61| Testing R2: 0.56\n",
        "\n",
        "* All the 3 ensemble regressor models provided similar testing accuracy. But for Gradient boosting, the training and testing R2s are close by and is most suitable one. "
      ]
    },
    {
      "cell_type": "code",
      "metadata": {
        "id": "HaMsQWRaV5eZ",
        "colab_type": "code",
        "colab": {}
      },
      "source": [
        ""
      ],
      "execution_count": null,
      "outputs": []
    }
  ]
}